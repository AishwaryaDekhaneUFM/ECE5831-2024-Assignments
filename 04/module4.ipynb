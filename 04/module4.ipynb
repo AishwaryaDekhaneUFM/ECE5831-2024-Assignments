{
 "cells": [
  {
   "cell_type": "markdown",
   "metadata": {},
   "source": [
    "# Multilayer Perceptron"
   ]
  },
  {
   "cell_type": "markdown",
   "metadata": {},
   "source": [
    "### Step Function"
   ]
  },
  {
   "cell_type": "code",
   "execution_count": 2,
   "metadata": {},
   "outputs": [],
   "source": [
    "def step(x) -> int:\n",
    "    if x > 0:\n",
    "        return 1\n",
    "    else:\n",
    "        return 0"
   ]
  },
  {
   "cell_type": "markdown",
   "metadata": {},
   "source": [
    "#### Test the above function"
   ]
  },
  {
   "cell_type": "code",
   "execution_count": 3,
   "metadata": {},
   "outputs": [
    {
     "name": "stdout",
     "output_type": "stream",
     "text": [
      "1\n",
      "0\n"
     ]
    }
   ],
   "source": [
    "\n",
    "print(step(2))\n",
    "print(step(-2))"
   ]
  },
  {
   "cell_type": "markdown",
   "metadata": {},
   "source": [
    "#### Test with multiple values"
   ]
  },
  {
   "cell_type": "code",
   "execution_count": 4,
   "metadata": {},
   "outputs": [],
   "source": [
    "# define the list \n",
    "inputs = [1, 200, -2, 0, 400, -500]"
   ]
  },
  {
   "cell_type": "code",
   "execution_count": 5,
   "metadata": {},
   "outputs": [
    {
     "name": "stdout",
     "output_type": "stream",
     "text": [
      "Input is 1 and output from the step function is 1\n",
      "Input is 200 and output from the step function is 1\n",
      "Input is -2 and output from the step function is 0\n",
      "Input is 0 and output from the step function is 0\n",
      "Input is 400 and output from the step function is 1\n",
      "Input is -500 and output from the step function is 0\n"
     ]
    }
   ],
   "source": [
    "for i in inputs:\n",
    "    print(f\"Input is {i} and output from the step function is {step(i)}\")"
   ]
  },
  {
   "cell_type": "markdown",
   "metadata": {},
   "source": [
    "### Improving the `Step` Function with `numpy`"
   ]
  },
  {
   "cell_type": "markdown",
   "metadata": {},
   "source": [
    "Practice the `numpy` before implementing the new `step` function"
   ]
  },
  {
   "cell_type": "code",
   "execution_count": 6,
   "metadata": {},
   "outputs": [],
   "source": [
    "import numpy as np"
   ]
  },
  {
   "cell_type": "code",
   "execution_count": 7,
   "metadata": {},
   "outputs": [
    {
     "data": {
      "text/plain": [
       "array([ True,  True, False, False,  True, False])"
      ]
     },
     "execution_count": 7,
     "metadata": {},
     "output_type": "execute_result"
    }
   ],
   "source": [
    "np_inputs = np.array([1, 200, -2, 0, 400, -500])\n",
    "np_inputs > 0"
   ]
  },
  {
   "cell_type": "code",
   "execution_count": 8,
   "metadata": {},
   "outputs": [
    {
     "data": {
      "text/plain": [
       "array([1, 1, 0, 0, 1, 0])"
      ]
     },
     "execution_count": 8,
     "metadata": {},
     "output_type": "execute_result"
    }
   ],
   "source": [
    "(np_inputs > 0).astype(int)"
   ]
  },
  {
   "cell_type": "markdown",
   "metadata": {},
   "source": [
    "#### `step` function Numpy Version"
   ]
  },
  {
   "cell_type": "code",
   "execution_count": 9,
   "metadata": {},
   "outputs": [],
   "source": [
    "def step(x):\n",
    "    return (x > 0).astype(int)"
   ]
  },
  {
   "cell_type": "code",
   "execution_count": 10,
   "metadata": {},
   "outputs": [
    {
     "data": {
      "text/plain": [
       "array([1, 1, 0, 0, 1, 0])"
      ]
     },
     "execution_count": 10,
     "metadata": {},
     "output_type": "execute_result"
    }
   ],
   "source": [
    "step(np_inputs)"
   ]
  },
  {
   "cell_type": "markdown",
   "metadata": {},
   "source": [
    "##### Let's plot the `step`_function using `matplotlib`"
   ]
  },
  {
   "cell_type": "code",
   "execution_count": 11,
   "metadata": {},
   "outputs": [],
   "source": [
    "import matplotlib.pyplot as plt"
   ]
  },
  {
   "cell_type": "code",
   "execution_count": 12,
   "metadata": {},
   "outputs": [],
   "source": [
    "x = np.arange(-10.0, 10.0, 0.1)\n",
    "y = step(x)"
   ]
  },
  {
   "cell_type": "code",
   "execution_count": 13,
   "metadata": {},
   "outputs": [
    {
     "data": {
      "text/plain": [
       "[<matplotlib.lines.Line2D at 0x1289e6b10>]"
      ]
     },
     "execution_count": 13,
     "metadata": {},
     "output_type": "execute_result"
    },
    {
     "data": {
      "image/png": "[encoded data removed]",
      "text/plain": [
       "<Figure size 640x480 with 1 Axes>"
      ]
     },
     "metadata": {},
     "output_type": "display_data"
    }
   ],
   "source": [
    "plt.plot(x, y)"
   ]
  },
  {
   "cell_type": "markdown",
   "metadata": {},
   "source": [
    "## Sigmoid"
   ]
  },
  {
   "cell_type": "code",
   "execution_count": 14,
   "metadata": {},
   "outputs": [],
   "source": [
    "def sigmoid(x):\n",
    "    return 1/(1 + np.exp(-x))"
   ]
  },
  {
   "cell_type": "markdown",
   "metadata": {},
   "source": [
    "Plot `sigmoid` to check whether function is written properly or not"
   ]
  },
  {
   "cell_type": "code",
   "execution_count": 15,
   "metadata": {},
   "outputs": [],
   "source": [
    "x = np.arange(-10.0, 10.0, 0.1)\n",
    "y = sigmoid(x)"
   ]
  },
  {
   "cell_type": "code",
   "execution_count": 16,
   "metadata": {},
   "outputs": [
    {
     "data": {
      "text/plain": [
       "[<matplotlib.lines.Line2D at 0x128a8a0c0>]"
      ]
     },
     "execution_count": 16,
     "metadata": {},
     "output_type": "execute_result"
    },
    {
     "data": {
      "image/png": "[encoded data removed]",
      "text/plain": [
       "<Figure size 640x480 with 1 Axes>"
      ]
     },
     "metadata": {},
     "output_type": "display_data"
    }
   ],
   "source": [
    "plt.plot(x, y)"
   ]
  },
  {
   "cell_type": "markdown",
   "metadata": {},
   "source": [
    "## Multi-dimensional Array"
   ]
  },
  {
   "cell_type": "code",
   "execution_count": 18,
   "metadata": {},
   "outputs": [],
   "source": [
    "w = np.array([[1, 3, 5], [2, 4, 6]])"
   ]
  },
  {
   "cell_type": "code",
   "execution_count": 19,
   "metadata": {},
   "outputs": [
    {
     "data": {
      "text/plain": [
       "array([[1, 3, 5],\n",
       "       [2, 4, 6]])"
      ]
     },
     "execution_count": 19,
     "metadata": {},
     "output_type": "execute_result"
    }
   ],
   "source": [
    "w"
   ]
  },
  {
   "cell_type": "code",
   "execution_count": 20,
   "metadata": {},
   "outputs": [],
   "source": [
    "x = np.array([10, 20])"
   ]
  },
  {
   "cell_type": "code",
   "execution_count": 21,
   "metadata": {},
   "outputs": [
    {
     "ename": "ValueError",
     "evalue": "operands could not be broadcast together with shapes (2,) (2,3) ",
     "output_type": "error",
     "traceback": [
      "\u001b[0;31m---------------------------------------------------------------------------\u001b[0m",
      "\u001b[0;31mValueError\u001b[0m                                Traceback (most recent call last)",
      "Cell \u001b[0;32mIn[21], line 1\u001b[0m\n\u001b[0;32m----> 1\u001b[0m x \u001b[38;5;241m*\u001b[39m w\n",
      "\u001b[0;31mValueError\u001b[0m: operands could not be broadcast together with shapes (2,) (2,3) "
     ]
    }
   ],
   "source": [
    "x * w"
   ]
  },
  {
   "cell_type": "markdown",
   "metadata": {},
   "source": [
    "Above error came because both arrays does not have same shape. If we are having 2 arrays of same shape then we can do it and it will be element by element multiplication"
   ]
  },
  {
   "cell_type": "code",
   "execution_count": 22,
   "metadata": {},
   "outputs": [],
   "source": [
    "y = np.dot(x, w)"
   ]
  },
  {
   "cell_type": "code",
   "execution_count": 23,
   "metadata": {},
   "outputs": [
    {
     "data": {
      "text/plain": [
       "array([ 50, 110, 170])"
      ]
     },
     "execution_count": 23,
     "metadata": {},
     "output_type": "execute_result"
    }
   ],
   "source": [
    "y"
   ]
  },
  {
   "cell_type": "code",
   "execution_count": 24,
   "metadata": {},
   "outputs": [
    {
     "data": {
      "text/plain": [
       "(3,)"
      ]
     },
     "execution_count": 24,
     "metadata": {},
     "output_type": "execute_result"
    }
   ],
   "source": [
    "y.shape"
   ]
  },
  {
   "cell_type": "code",
   "execution_count": 25,
   "metadata": {},
   "outputs": [
    {
     "data": {
      "text/plain": [
       "(2,)"
      ]
     },
     "execution_count": 25,
     "metadata": {},
     "output_type": "execute_result"
    }
   ],
   "source": [
    "x.shape"
   ]
  },
  {
   "cell_type": "code",
   "execution_count": 26,
   "metadata": {},
   "outputs": [
    {
     "data": {
      "text/plain": [
       "(2, 3)"
      ]
     },
     "execution_count": 26,
     "metadata": {},
     "output_type": "execute_result"
    }
   ],
   "source": [
    "w.shape"
   ]
  },
  {
   "cell_type": "markdown",
   "metadata": {},
   "source": [
    "## Multi-Layer Perceptron"
   ]
  },
  {
   "cell_type": "code",
   "execution_count": 28,
   "metadata": {},
   "outputs": [],
   "source": [
    "x1 = np.array([7.0, 2.0])                            #inputs\n",
    "w1 = np.array([[0.7, 0.9, 0.3], [0.5, 0.4, 0.1]])     #weights\n",
    "b1 = np.array([1, 1, 1])                             #bias"
   ]
  },
  {
   "cell_type": "code",
   "execution_count": 29,
   "metadata": {},
   "outputs": [
    {
     "name": "stdout",
     "output_type": "stream",
     "text": [
      "a1: [6.9 8.1 3.3]\n",
      "z1: [0.99899323 0.99969655 0.96442881]\n"
     ]
    }
   ],
   "source": [
    "a1 = np.dot(x1, w1) + b1\n",
    "print(f\"a1: {a1}\")\n",
    "z1 = sigmoid(a1)\n",
    "print(f\"z1: {z1}\")"
   ]
  },
  {
   "cell_type": "code",
   "execution_count": 30,
   "metadata": {},
   "outputs": [],
   "source": [
    "w2 = np.array([[0.2, 0.3], [0.4, 0.5], [0.22, 0.1234]])\n",
    "b2 = np.array([0.5, 0.5])"
   ]
  },
  {
   "cell_type": "code",
   "execution_count": 32,
   "metadata": {},
   "outputs": [
    {
     "name": "stdout",
     "output_type": "stream",
     "text": [
      "a2: [1.31185161 1.41855676]\n",
      "z2: [0.78782283 0.80511206]\n"
     ]
    }
   ],
   "source": [
    "a2 = np.dot(z1, w2) + b2\n",
    "print(f\"a2: {a2}\")\n",
    "z2 = sigmoid(a2)\n",
    "print(f\"z2: {z2}\")"
   ]
  },
  {
   "cell_type": "code",
   "execution_count": 33,
   "metadata": {},
   "outputs": [],
   "source": [
    "def identity(x):\n",
    "    return x"
   ]
  },
  {
   "cell_type": "code",
   "execution_count": 49,
   "metadata": {},
   "outputs": [],
   "source": [
    "w3 = np.array([[0.7, 0.1], [0.123, 0.314]])\n",
    "b3 = np.array([0.1, 0.2])\n",
    "a3 = np.dot(z2, w3) + b3\n"
   ]
  },
  {
   "cell_type": "code",
   "execution_count": 50,
   "metadata": {},
   "outputs": [
    {
     "name": "stdout",
     "output_type": "stream",
     "text": [
      "z3: [0.74443586 0.52886818]\n"
     ]
    }
   ],
   "source": [
    "z3 = identity(a3)\n",
    "print(f\"z3: {z3}\")"
   ]
  },
  {
   "cell_type": "markdown",
   "metadata": {},
   "source": [
    "input[7.0, 2.0] -----> [0.65050477 0.33158747]"
   ]
  },
  {
   "cell_type": "code",
   "execution_count": 38,
   "metadata": {},
   "outputs": [],
   "source": [
    "x1 = np.array([1.3, 3.1])                            #inputs\n",
    "w1 = np.array([[0.7, 0.9, 0.3], [0.5, 0.4, 0.1]])     #weights\n",
    "b1 = np.array([1, 1, 1])                             #bias"
   ]
  },
  {
   "cell_type": "code",
   "execution_count": 41,
   "metadata": {},
   "outputs": [
    {
     "name": "stdout",
     "output_type": "stream",
     "text": [
      "a1: [3.46 3.41 1.7 ]\n",
      "z1: [0.96952797 0.9680156  0.84553473]\n"
     ]
    }
   ],
   "source": [
    "a1 = np.dot(x1, w1) + b1\n",
    "print(f\"a1: {a1}\")\n",
    "z1 = sigmoid(a1)\n",
    "print(f\"z1: {z1}\")"
   ]
  },
  {
   "cell_type": "code",
   "execution_count": 43,
   "metadata": {},
   "outputs": [],
   "source": [
    "w2 = np.array([[0.2, 0.3], [0.4, 0.5], [0.22, 0.1234]])\n",
    "b2 = np.array([0.5, 0.5])"
   ]
  },
  {
   "cell_type": "code",
   "execution_count": 44,
   "metadata": {},
   "outputs": [
    {
     "name": "stdout",
     "output_type": "stream",
     "text": [
      "a2: [1.26712948 1.37920518]\n",
      "z2: [0.78025097 0.79886332]\n"
     ]
    }
   ],
   "source": [
    "a2 = np.dot(z1, w2) + b2\n",
    "print(f\"a2: {a2}\")\n",
    "z2 = sigmoid(a2)\n",
    "print(f\"z2: {z2}\")"
   ]
  },
  {
   "cell_type": "code",
   "execution_count": 47,
   "metadata": {},
   "outputs": [],
   "source": [
    "w3 = np.array([[0.7, 0.1], [0.123, 0.314]])\n",
    "b3 = np.array([0.1, 0.2])\n",
    "a3 = np.dot(z2, w3) + b3"
   ]
  },
  {
   "cell_type": "code",
   "execution_count": 48,
   "metadata": {},
   "outputs": [
    {
     "name": "stdout",
     "output_type": "stream",
     "text": [
      "z3: [0.74443586 0.52886818]\n"
     ]
    }
   ],
   "source": [
    "z3 = identity(a3)\n",
    "print(f\"z3: {z3}\")"
   ]
  },
  {
   "cell_type": "markdown",
   "metadata": {},
   "source": [
    "input[1.3, 3.1] -----> [0.64443586 0.32886818]"
   ]
  },
  {
   "cell_type": "markdown",
   "metadata": {},
   "source": [
    "### Auxillary functions for the MLP"
   ]
  },
  {
   "cell_type": "code",
   "execution_count": 52,
   "metadata": {},
   "outputs": [],
   "source": [
    "def init_network():\n",
    "    net = {}\n",
    "    #layer 1\n",
    "    net['w1'] = np.array([[0.7, 0.9, 0.3], [0.5, 0.4, 0.1]])\n",
    "    net['b1'] = np.array([1, 1, 1])\n",
    "\n",
    "    #layer 2\n",
    "    net['w2'] = np.array([[0.2, 0.3], [0.4, 0.5], [0.22, 0.1234]])\n",
    "    net['b2'] = np.array([0.5, 0.5])\n",
    "\n",
    "    #layer 3\n",
    "    net['w3'] = np.array([[0.7, 0.1], [0.123, 0.314]])\n",
    "    net['b3'] = np.array([0.1, 0.2])\n",
    "\n",
    "    return net\n",
    "\n",
    "def forward(net, x):\n",
    "    w1, w2, w3 = net['w1'], net['w2'], net['w3']\n",
    "    b1, b2, b3 = net['b1'], net['b2'], net['b3']    \n",
    "\n",
    "    a1 = np.dot(x, w1) + b1\n",
    "    z1 = sigmoid(a1)\n",
    "\n",
    "    a2 = np.dot(z1, w2) + b2 \n",
    "    z2 = sigmoid(a2)\n",
    "\n",
    "    a3 = np.dot(z2, w3) + b3 \n",
    "    y = identity(a3)\n",
    "\n",
    "    return y\n",
    "\n",
    "\n",
    "\n"
   ]
  },
  {
   "cell_type": "code",
   "execution_count": 54,
   "metadata": {},
   "outputs": [
    {
     "name": "stdout",
     "output_type": "stream",
     "text": [
      "output: [0.75050477 0.53158747]\n"
     ]
    }
   ],
   "source": [
    "net = init_network()\n",
    "y = forward(net, np.array([7.0, 2.0]))\n",
    "\n",
    "print(f\"output: {y}\")"
   ]
  },
  {
   "cell_type": "markdown",
   "metadata": {},
   "source": [
    "## MultiLayer Perceptron Class"
   ]
  },
  {
   "cell_type": "code",
   "execution_count": 55,
   "metadata": {},
   "outputs": [],
   "source": [
    "class MultiLayerPerceptron:\n",
    "    def __init__(self) -> None:\n",
    "        self.net = {}\n",
    "\n",
    "    def init_network(self):\n",
    "        net = {}\n",
    "        #layer 1\n",
    "        net['w1'] = np.array([[0.7, 0.9, 0.3], [0.5, 0.4, 0.1]])\n",
    "        net['b1'] = np.array([1, 1, 1])\n",
    "\n",
    "        #layer 2\n",
    "        net['w2'] = np.array([[0.2, 0.3], [0.4, 0.5], [0.22, 0.1234]])\n",
    "        net['b2'] = np.array([0.5, 0.5])\n",
    "\n",
    "        #layer 3\n",
    "        net['w3'] = np.array([[0.7, 0.1], [0.123, 0.314]])\n",
    "        net['b3'] = np.array([0.1, 0.2])\n",
    "\n",
    "        self.net = net\n",
    "\n",
    "    def forward(self, x):\n",
    "        w1, w2, w3 = self.net['w1'], self.net['w2'], self.net['w3']\n",
    "        b1, b2, b3 = self.net['b1'], self.net['b2'], self.net['b3']    \n",
    "\n",
    "        a1 = np.dot(x, w1) + b1\n",
    "        z1 = self.sigmoid(a1)\n",
    "\n",
    "        a2 = np.dot(z1, w2) + b2 \n",
    "        z2 = self.sigmoid(a2)\n",
    "\n",
    "        a3 = np.dot(z2, w3) + b3 \n",
    "        y = self.identity(a3)\n",
    "\n",
    "        return y\n",
    "    \n",
    "    def identity(self, x):\n",
    "        return x\n",
    "    \n",
    "    def sigmoid(self, x):\n",
    "        return 1/(1 + np.exp(-x))"
   ]
  },
  {
   "cell_type": "markdown",
   "metadata": {},
   "source": [
    "### Class Usage"
   ]
  },
  {
   "cell_type": "code",
   "execution_count": 57,
   "metadata": {},
   "outputs": [
    {
     "name": "stdout",
     "output_type": "stream",
     "text": [
      "Output: [0.75050477 0.53158747]\n"
     ]
    }
   ],
   "source": [
    "# get an instance of the Multilayer Perceptron\n",
    "mlp = MultiLayerPerceptron()\n",
    "\n",
    "# initialise the network\n",
    "mlp.init_network()\n",
    "\n",
    "# get the output\n",
    "y = mlp.forward(np.array([7.0, 2.0]))\n",
    "\n",
    "print(f\"Output: {y}\")"
   ]
  },
  {
   "cell_type": "code",
   "execution_count": null,
   "metadata": {},
   "outputs": [],
   "source": []
  },
  {
   "cell_type": "code",
   "execution_count": null,
   "metadata": {},
   "outputs": [],
   "source": []
  }
 ],
 "metadata": {
  "kernelspec": {
   "display_name": "ece5831-2024",
   "language": "python",
   "name": "python3"
  },
  "language_info": {
   "codemirror_mode": {
    "name": "ipython",
    "version": 3
   },
   "file_extension": ".py",
   "mimetype": "text/x-python",
   "name": "python",
   "nbconvert_exporter": "python",
   "pygments_lexer": "ipython3",
   "version": "3.12.4"
  }
 },
 "nbformat": 4,
 "nbformat_minor": 2
}
