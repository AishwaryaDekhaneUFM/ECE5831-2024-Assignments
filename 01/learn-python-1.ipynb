{
 "cells": [
  {
   "cell_type": "code",
   "execution_count": 1,
   "id": "40b32acd-e717-4e55-aa5f-d86181929d94",
   "metadata": {},
   "outputs": [
    {
     "name": "stdout",
     "output_type": "stream",
     "text": [
      "This line will be printed.\n"
     ]
    }
   ],
   "source": [
    "#Hello world\n",
    "print(\"This line will be printed.\")"
   ]
  },
  {
   "cell_type": "code",
   "execution_count": 5,
   "id": "c44ab391-20d8-404a-8447-7b43cabe66f0",
   "metadata": {},
   "outputs": [
    {
     "name": "stdout",
     "output_type": "stream",
     "text": [
      "Hello World\n"
     ]
    }
   ],
   "source": [
    "print(\"Hello World\")"
   ]
  },
  {
   "cell_type": "code",
   "execution_count": 7,
   "id": "e2d53864-700b-4a82-8edf-ff846a32a351",
   "metadata": {},
   "outputs": [
    {
     "name": "stdout",
     "output_type": "stream",
     "text": [
      "x is 1.\n"
     ]
    }
   ],
   "source": [
    "#Indentation\n",
    "x = 1\n",
    "if x == 1:\n",
    "    # indented four spaces\n",
    "    print(\"x is 1.\")"
   ]
  },
  {
   "cell_type": "code",
   "execution_count": 9,
   "id": "69a47f03-704a-4ab3-b863-db3934c41b28",
   "metadata": {},
   "outputs": [
    {
     "name": "stdout",
     "output_type": "stream",
     "text": [
      "Goodbye, World!\n"
     ]
    }
   ],
   "source": [
    "print(\"Goodbye, World!\")"
   ]
  },
  {
   "cell_type": "code",
   "execution_count": 11,
   "id": "be030c9f-5c4a-43e4-b7c4-9fcc2db8745b",
   "metadata": {},
   "outputs": [
    {
     "name": "stdout",
     "output_type": "stream",
     "text": [
      "7\n"
     ]
    }
   ],
   "source": [
    "#Numbers\n",
    "myint = 7\n",
    "print(myint)"
   ]
  },
  {
   "cell_type": "code",
   "execution_count": 13,
   "id": "686b56ae-ef04-4a9b-b37b-e19457c003d8",
   "metadata": {},
   "outputs": [
    {
     "name": "stdout",
     "output_type": "stream",
     "text": [
      "7.0\n",
      "7.0\n"
     ]
    }
   ],
   "source": [
    "myfloat = 7.0\n",
    "print(myfloat)\n",
    "myfloat = float(7)\n",
    "print(myfloat)"
   ]
  },
  {
   "cell_type": "code",
   "execution_count": 15,
   "id": "71cce1bf-69d6-4376-91b3-6c7e91c82902",
   "metadata": {},
   "outputs": [
    {
     "name": "stdout",
     "output_type": "stream",
     "text": [
      "hello\n",
      "hello\n"
     ]
    }
   ],
   "source": [
    "#Stings\n",
    "mystring = 'hello'\n",
    "print(mystring)\n",
    "mystring = \"hello\"\n",
    "print(mystring)"
   ]
  },
  {
   "cell_type": "code",
   "execution_count": 17,
   "id": "e08533ae-de32-44dc-97c3-69d651447dd8",
   "metadata": {},
   "outputs": [
    {
     "name": "stdout",
     "output_type": "stream",
     "text": [
      "Don't worry about apostrophes\n"
     ]
    }
   ],
   "source": [
    "mystring = \"Don't worry about apostrophes\"\n",
    "print(mystring)"
   ]
  },
  {
   "cell_type": "code",
   "execution_count": 19,
   "id": "7b76989a-ed96-42ba-9dad-ef2b46907235",
   "metadata": {},
   "outputs": [
    {
     "name": "stdout",
     "output_type": "stream",
     "text": [
      "3\n",
      "hello world\n"
     ]
    }
   ],
   "source": [
    "one = 1\n",
    "two = 2\n",
    "three = one + two\n",
    "print(three)\n",
    "\n",
    "hello = \"hello\"\n",
    "world = \"world\"\n",
    "helloworld = hello + \" \" + world\n",
    "print(helloworld)"
   ]
  },
  {
   "cell_type": "code",
   "execution_count": 21,
   "id": "468fb0ea-7837-4e41-881a-b62b49a29c9c",
   "metadata": {},
   "outputs": [
    {
     "name": "stdout",
     "output_type": "stream",
     "text": [
      "3 4\n"
     ]
    }
   ],
   "source": [
    "a, b = 3, 4\n",
    "print(a, b)"
   ]
  },
  {
   "cell_type": "code",
   "execution_count": 29,
   "id": "db06e382-0bbd-4c2e-8899-bbcb2ee2d532",
   "metadata": {},
   "outputs": [],
   "source": [
    "# exercise\n",
    "mystring = None\n",
    "myfloat = None\n",
    "myint = None\n",
    "\n",
    "# testing code\n",
    "if mystring == \"hello\":\n",
    "    print(\"String: %s\" % mystring)\n",
    "if isinstance(myfloat, float) and myfloat == 10.0:\n",
    "    print(\"Float: %f\" % myfloat)\n",
    "if isinstance(myint, int) and myint == 20:\n",
    "    print(\"Integer: %d\" % myint)"
   ]
  },
  {
   "cell_type": "code",
   "execution_count": 33,
   "id": "f0df1447-68e7-412d-8420-f600a8d57902",
   "metadata": {},
   "outputs": [
    {
     "name": "stdout",
     "output_type": "stream",
     "text": [
      "mystring: hello\n",
      "myfloat: 10.0\n",
      "myint: 20\n"
     ]
    }
   ],
   "source": [
    "#Solution\n",
    "mystring = \"hello\"\n",
    "myfloat = 10.0\n",
    "myint = 20\n",
    "\n",
    "print(\"mystring:\", mystring)\n",
    "print(\"myfloat:\", myfloat)\n",
    "print(\"myint:\", myint)"
   ]
  },
  {
   "cell_type": "code",
   "execution_count": 35,
   "id": "747da2bc-eebe-4630-a2a0-201411848aeb",
   "metadata": {},
   "outputs": [
    {
     "name": "stdout",
     "output_type": "stream",
     "text": [
      "1\n",
      "2\n",
      "3\n",
      "1\n",
      "2\n",
      "3\n"
     ]
    }
   ],
   "source": [
    "#Lists\n",
    "mylist = []\n",
    "mylist.append(1)\n",
    "mylist.append(2)\n",
    "mylist.append(3)\n",
    "print(mylist[0]) # prints 1\n",
    "print(mylist[1]) # prints 2\n",
    "print(mylist[2]) # prints 3\n",
    "\n",
    "# prints out 1,2,3\n",
    "for x in mylist:\n",
    "    print(x)"
   ]
  },
  {
   "cell_type": "code",
   "execution_count": 39,
   "id": "6ad9a821-4e84-469a-9e60-07455170a1d4",
   "metadata": {},
   "outputs": [
    {
     "name": "stdout",
     "output_type": "stream",
     "text": [
      "numbers: [1, 2, 3]\n",
      "strings: ['hello', 'world']\n",
      "second_name: Jane\n"
     ]
    }
   ],
   "source": [
    "#Exercise\n",
    "\n",
    "# Initialize the lists\n",
    "numbers = []\n",
    "strings = []\n",
    "names = [\"John\", \"Jane\", \"Doe\"]\n",
    "\n",
    "# Add numbers 1, 2, and 3 to the numbers list\n",
    "numbers.append(1)\n",
    "numbers.append(2)\n",
    "numbers.append(3)\n",
    "\n",
    "# Add the words 'hello' and 'world' to the strings list\n",
    "strings.append(\"hello\")\n",
    "strings.append(\"world\")\n",
    "\n",
    "# Access the second name in the names list\n",
    "second_name = names[1]  # Index 1 corresponds to the second item\n",
    "\n",
    "# Print the results to verify\n",
    "print(\"numbers:\", numbers)\n",
    "print(\"strings:\", strings)\n",
    "print(\"second_name:\", second_name)"
   ]
  },
  {
   "cell_type": "code",
   "execution_count": 41,
   "id": "c5b896cc-2ce0-40b3-91b0-ecf9fc48230d",
   "metadata": {},
   "outputs": [
    {
     "name": "stdout",
     "output_type": "stream",
     "text": [
      "2.5\n"
     ]
    }
   ],
   "source": [
    "#Arithmetic Operators\n",
    "number = 1 + 2 * 3 / 4.0\n",
    "print(number)"
   ]
  },
  {
   "cell_type": "code",
   "execution_count": 43,
   "id": "ba4a8462-ef29-471d-afaf-0348ebbbc08b",
   "metadata": {},
   "outputs": [
    {
     "name": "stdout",
     "output_type": "stream",
     "text": [
      "2\n"
     ]
    }
   ],
   "source": [
    "remainder = 11 % 3\n",
    "print(remainder)"
   ]
  },
  {
   "cell_type": "code",
   "execution_count": 45,
   "id": "1cc02b80-efda-4a6d-8bc3-265192deac02",
   "metadata": {},
   "outputs": [
    {
     "name": "stdout",
     "output_type": "stream",
     "text": [
      "49\n",
      "8\n"
     ]
    }
   ],
   "source": [
    "squared = 7 ** 2\n",
    "cubed = 2 ** 3\n",
    "print(squared)\n",
    "print(cubed)"
   ]
  },
  {
   "cell_type": "code",
   "execution_count": 47,
   "id": "39f69121-c087-4a84-a325-eab03ff0679a",
   "metadata": {},
   "outputs": [
    {
     "name": "stdout",
     "output_type": "stream",
     "text": [
      "hello world\n"
     ]
    }
   ],
   "source": [
    "#Using Operators with Strings\n",
    "helloworld = \"hello\" + \" \" + \"world\"\n",
    "print(helloworld)"
   ]
  },
  {
   "cell_type": "code",
   "execution_count": 49,
   "id": "f8150ec2-c260-4a98-aacc-7d3fb49c5f5b",
   "metadata": {},
   "outputs": [
    {
     "name": "stdout",
     "output_type": "stream",
     "text": [
      "hellohellohellohellohellohellohellohellohellohello\n"
     ]
    }
   ],
   "source": [
    "lotsofhellos = \"hello\" * 10\n",
    "print(lotsofhellos)"
   ]
  },
  {
   "cell_type": "code",
   "execution_count": 51,
   "id": "5c89c1c8-913e-4c57-afac-2a518a6663af",
   "metadata": {},
   "outputs": [
    {
     "name": "stdout",
     "output_type": "stream",
     "text": [
      "[1, 3, 5, 7, 2, 4, 6, 8]\n"
     ]
    }
   ],
   "source": [
    "#Using Operators with Lists\n",
    "even_numbers = [2,4,6,8]\n",
    "odd_numbers = [1,3,5,7]\n",
    "all_numbers = odd_numbers + even_numbers\n",
    "print(all_numbers)"
   ]
  },
  {
   "cell_type": "code",
   "execution_count": 53,
   "id": "f5a29a4f-2900-4463-b809-af162546455d",
   "metadata": {},
   "outputs": [
    {
     "name": "stdout",
     "output_type": "stream",
     "text": [
      "[1, 2, 3, 1, 2, 3, 1, 2, 3]\n"
     ]
    }
   ],
   "source": [
    "print([1,2,3] * 3)"
   ]
  },
  {
   "cell_type": "code",
   "execution_count": 55,
   "id": "a5c1d46a-ab26-4364-8f71-247755590612",
   "metadata": {},
   "outputs": [
    {
     "name": "stdout",
     "output_type": "stream",
     "text": [
      "Hello, John!\n"
     ]
    }
   ],
   "source": [
    "#String Formatting\n",
    "# This prints out \"Hello, John!\"\n",
    "name = \"John\"\n",
    "print(\"Hello, %s!\" % name)"
   ]
  },
  {
   "cell_type": "code",
   "execution_count": 57,
   "id": "bb3f640c-6bda-457e-9277-42ed1fb2248f",
   "metadata": {},
   "outputs": [
    {
     "name": "stdout",
     "output_type": "stream",
     "text": [
      "John is 23 years old.\n"
     ]
    }
   ],
   "source": [
    "# This prints out \"John is 23 years old.\"\n",
    "name = \"John\"\n",
    "age = 23\n",
    "print(\"%s is %d years old.\" % (name, age))"
   ]
  },
  {
   "cell_type": "code",
   "execution_count": 59,
   "id": "49278c40-fd29-4d02-8b4e-8e7800947658",
   "metadata": {},
   "outputs": [
    {
     "name": "stdout",
     "output_type": "stream",
     "text": [
      "A list: [1, 2, 3]\n"
     ]
    }
   ],
   "source": [
    "# This prints out: A list: [1, 2, 3]\n",
    "mylist = [1,2,3]\n",
    "print(\"A list: %s\" % mylist)"
   ]
  },
  {
   "cell_type": "code",
   "execution_count": 63,
   "id": "be0f77c1-ad63-4c48-a60a-71c6a1cdfe4d",
   "metadata": {},
   "outputs": [
    {
     "name": "stdout",
     "output_type": "stream",
     "text": [
      "Hello John Doe. Your current balance is $53.44.\n"
     ]
    }
   ],
   "source": [
    "#Exerice\n",
    "# Variables\n",
    "first_name = \"John\"\n",
    "last_name = \"Doe\"\n",
    "balance = 53.44\n",
    "\n",
    "# Format string to print the desired output\n",
    "output = \"Hello {} {}. Your current balance is ${:.2f}.\".format(first_name, last_name, balance)\n",
    "\n",
    "# Print the result\n",
    "print(output)"
   ]
  },
  {
   "cell_type": "code",
   "execution_count": 65,
   "id": "88c4505b-326b-4536-bbdc-3d44c3b20f21",
   "metadata": {},
   "outputs": [],
   "source": [
    "#Basic String Operations\n",
    "astring = \"Hello world!\"\n",
    "astring2 = 'Hello world!'"
   ]
  },
  {
   "cell_type": "code",
   "execution_count": 67,
   "id": "31865e4c-e179-4206-afbc-2fc136dc84f4",
   "metadata": {},
   "outputs": [
    {
     "name": "stdout",
     "output_type": "stream",
     "text": [
      "single quotes are ' '\n",
      "12\n"
     ]
    }
   ],
   "source": [
    "astring = \"Hello world!\"\n",
    "print(\"single quotes are ' '\")\n",
    "\n",
    "print(len(astring))"
   ]
  },
  {
   "cell_type": "code",
   "execution_count": 69,
   "id": "1891f9a2-60bc-4ebc-966c-00c5e9fe087a",
   "metadata": {},
   "outputs": [
    {
     "name": "stdout",
     "output_type": "stream",
     "text": [
      "4\n"
     ]
    }
   ],
   "source": [
    "astring = \"Hello world!\"\n",
    "print(astring.index(\"o\"))"
   ]
  },
  {
   "cell_type": "code",
   "execution_count": 71,
   "id": "f8be6992-c701-49d5-bd09-0438d4678b84",
   "metadata": {},
   "outputs": [
    {
     "name": "stdout",
     "output_type": "stream",
     "text": [
      "3\n"
     ]
    }
   ],
   "source": [
    "astring = \"Hello world!\"\n",
    "print(astring.count(\"l\"))"
   ]
  },
  {
   "cell_type": "code",
   "execution_count": 73,
   "id": "e294f46c-3aef-4a6f-b27b-ddd8c03f140b",
   "metadata": {},
   "outputs": [
    {
     "name": "stdout",
     "output_type": "stream",
     "text": [
      "lo w\n"
     ]
    }
   ],
   "source": [
    "astring = \"Hello world!\"\n",
    "print(astring[3:7])"
   ]
  },
  {
   "cell_type": "code",
   "execution_count": 75,
   "id": "e1c85678-8534-4553-b354-945bd769f370",
   "metadata": {},
   "outputs": [
    {
     "name": "stdout",
     "output_type": "stream",
     "text": [
      "l \n"
     ]
    }
   ],
   "source": [
    "astring = \"Hello world!\"\n",
    "print(astring[3:7:2])"
   ]
  },
  {
   "cell_type": "code",
   "execution_count": 77,
   "id": "838bea8e-9b09-45d5-8ce1-d69f079367a9",
   "metadata": {},
   "outputs": [
    {
     "name": "stdout",
     "output_type": "stream",
     "text": [
      "lo w\n",
      "lo w\n"
     ]
    }
   ],
   "source": [
    "astring = \"Hello world!\"\n",
    "print(astring[3:7])\n",
    "print(astring[3:7:1])"
   ]
  },
  {
   "cell_type": "code",
   "execution_count": 79,
   "id": "b058cf47-d9b9-45aa-a989-a333b79c1654",
   "metadata": {},
   "outputs": [
    {
     "name": "stdout",
     "output_type": "stream",
     "text": [
      "!dlrow olleH\n"
     ]
    }
   ],
   "source": [
    "astring = \"Hello world!\"\n",
    "print(astring[::-1])"
   ]
  },
  {
   "cell_type": "code",
   "execution_count": 81,
   "id": "d674bff3-54fa-4890-a2a3-a98b4d1e5d70",
   "metadata": {},
   "outputs": [
    {
     "name": "stdout",
     "output_type": "stream",
     "text": [
      "HELLO WORLD!\n",
      "hello world!\n"
     ]
    }
   ],
   "source": [
    "astring = \"Hello world!\"\n",
    "print(astring.upper())\n",
    "print(astring.lower())"
   ]
  },
  {
   "cell_type": "code",
   "execution_count": 83,
   "id": "e804f2f5-0429-4a24-8e39-bb525d9f0499",
   "metadata": {},
   "outputs": [
    {
     "name": "stdout",
     "output_type": "stream",
     "text": [
      "True\n",
      "False\n"
     ]
    }
   ],
   "source": [
    "astring = \"Hello world!\"\n",
    "print(astring.startswith(\"Hello\"))\n",
    "print(astring.endswith(\"asdfasdfasdf\"))"
   ]
  },
  {
   "cell_type": "code",
   "execution_count": 85,
   "id": "aaa33517-1085-4f10-97bb-117f9adb214c",
   "metadata": {},
   "outputs": [],
   "source": [
    "astring = \"Hello world!\"\n",
    "afewwords = astring.split(\" \")"
   ]
  },
  {
   "cell_type": "code",
   "execution_count": 87,
   "id": "45921c79-ba91-4cf1-9b60-34a49885e6d6",
   "metadata": {},
   "outputs": [
    {
     "name": "stdout",
     "output_type": "stream",
     "text": [
      "Length of s = 18\n",
      "The first occurrence of the letter a = 13\n",
      "a occurs 2 times\n",
      "The first five characters are 'Hey t'\n",
      "The next five characters are 'here!'\n",
      "The thirteenth character is 'h'\n",
      "The characters with odd index are 'e hr!Wa b'\n",
      "The last five characters are 'at ab'\n",
      "String in uppercase: HEY THERE! WHAT AB\n",
      "String in lowercase: hey there! what ab\n",
      "Split the words of the string: ['Hey', 'there!', 'What', 'ab']\n"
     ]
    }
   ],
   "source": [
    "#Exercise\n",
    "\n",
    "# Corrected string\n",
    "s = \"Hey there! What ab\"\n",
    "\n",
    "# Length should be 20\n",
    "print(\"Length of s = %d\" % len(s))\n",
    "\n",
    "# First occurrence of \"a\" should be at index 8\n",
    "print(\"The first occurrence of the letter a = %d\" % s.index(\"a\"))\n",
    "\n",
    "# Number of a's should be 2\n",
    "print(\"a occurs %d times\" % s.count(\"a\"))\n",
    "\n",
    "# Slicing the string into bits\n",
    "print(\"The first five characters are '%s'\" % s[:5])  # Start to 5\n",
    "print(\"The next five characters are '%s'\" % s[5:10])  # 5 to 10\n",
    "print(\"The thirteenth character is '%s'\" % s[12])  # Just number 12\n",
    "print(\"The characters with odd index are '%s'\" % s[1::2])  # (0-based indexing)\n",
    "print(\"The last five characters are '%s'\" % s[-5:])  # 5th-from-last to end\n",
    "\n",
    "# Convert everything to uppercase\n",
    "print(\"String in uppercase: %s\" % s.upper())\n",
    "\n",
    "# Convert everything to lowercase\n",
    "print(\"String in lowercase: %s\" % s.lower())\n",
    "\n",
    "# Check how a string starts\n",
    "if s.startswith(\"Str\"):\n",
    "    print(\"String starts with 'Str'. Good!\")\n",
    "\n",
    "# Check how a string ends\n",
    "if s.endswith(\"ome!\"):\n",
    "    print(\"String ends with 'ome!'. Good!\")\n",
    "\n",
    "# Split the string into words\n",
    "print(\"Split the words of the string: %s\" % s.split(\" \"))"
   ]
  },
  {
   "cell_type": "code",
   "execution_count": 89,
   "id": "1f876068-65c2-4813-b383-bdcbefae24fa",
   "metadata": {},
   "outputs": [
    {
     "name": "stdout",
     "output_type": "stream",
     "text": [
      "True\n",
      "False\n",
      "True\n"
     ]
    }
   ],
   "source": [
    "#Conditions\n",
    "x = 2\n",
    "print(x == 2) # prints out True\n",
    "print(x == 3) # prints out False\n",
    "print(x < 3) # prints out True"
   ]
  },
  {
   "cell_type": "code",
   "execution_count": 91,
   "id": "701651f7-c0d4-4c81-b1d2-3a8cce66b067",
   "metadata": {},
   "outputs": [
    {
     "name": "stdout",
     "output_type": "stream",
     "text": [
      "Your name is John, and you are also 23 years old.\n",
      "Your name is either John or Rick.\n"
     ]
    }
   ],
   "source": [
    "name = \"John\"\n",
    "age = 23\n",
    "if name == \"John\" and age == 23:\n",
    "    print(\"Your name is John, and you are also 23 years old.\")\n",
    "\n",
    "if name == \"John\" or name == \"Rick\":\n",
    "    print(\"Your name is either John or Rick.\")"
   ]
  },
  {
   "cell_type": "code",
   "execution_count": 93,
   "id": "95ff015d-5cb9-472c-8efe-d34bc1fdac16",
   "metadata": {},
   "outputs": [
    {
     "name": "stdout",
     "output_type": "stream",
     "text": [
      "Your name is either John or Rick.\n"
     ]
    }
   ],
   "source": [
    "name = \"John\"\n",
    "if name in [\"John\", \"Rick\"]:\n",
    "    print(\"Your name is either John or Rick.\")"
   ]
  },
  {
   "cell_type": "code",
   "execution_count": 95,
   "id": "7b2ba2a3-7ea3-40df-b377-f8bb13708471",
   "metadata": {},
   "outputs": [],
   "source": [
    "statement = False\n",
    "another_statement = True\n",
    "if statement is True:\n",
    "    # do something\n",
    "    pass\n",
    "elif another_statement is True: # else if\n",
    "    # do something else\n",
    "    pass\n",
    "else:\n",
    "    # do another thing\n",
    "    pass"
   ]
  },
  {
   "cell_type": "code",
   "execution_count": 97,
   "id": "48508dfe-f313-4494-802c-c74272264585",
   "metadata": {},
   "outputs": [
    {
     "name": "stdout",
     "output_type": "stream",
     "text": [
      "x equals two!\n"
     ]
    }
   ],
   "source": [
    "x = 2\n",
    "if x == 2:\n",
    "    print(\"x equals two!\")\n",
    "else:\n",
    "    print(\"x does not equal to two.\")"
   ]
  },
  {
   "cell_type": "code",
   "execution_count": 99,
   "id": "ec5f047a-bd32-434e-a148-08f90e61b3c3",
   "metadata": {},
   "outputs": [
    {
     "name": "stdout",
     "output_type": "stream",
     "text": [
      "True\n",
      "False\n"
     ]
    }
   ],
   "source": [
    "x = [1,2,3]\n",
    "y = [1,2,3]\n",
    "print(x == y) # Prints out True\n",
    "print(x is y) # Prints out False"
   ]
  },
  {
   "cell_type": "code",
   "execution_count": 101,
   "id": "ce553273-8b7f-4be2-84d6-418d3c77b381",
   "metadata": {},
   "outputs": [
    {
     "name": "stdout",
     "output_type": "stream",
     "text": [
      "True\n",
      "False\n"
     ]
    }
   ],
   "source": [
    "print(not False) # Prints out True\n",
    "print((not False) == (False)) # Prints out False"
   ]
  },
  {
   "cell_type": "code",
   "execution_count": 103,
   "id": "af6eb491-fd15-4ef6-828f-bc6aee039a15",
   "metadata": {},
   "outputs": [
    {
     "name": "stdout",
     "output_type": "stream",
     "text": [
      "1\n",
      "2\n",
      "3\n",
      "4\n",
      "5\n",
      "6\n"
     ]
    }
   ],
   "source": [
    "# Corrected variables\n",
    "number = 20  # Greater than 15 to make the first if statement true\n",
    "second_number = 10  # This works with the last condition as is\n",
    "first_array = [1, 2]  # Non-empty list to make the second and fifth if statements true\n",
    "second_array = [1, 2, 3]  # This works with the existing conditions\n",
    "\n",
    "# Now, all if conditions will evaluate to True\n",
    "if number > 15:\n",
    "    print(\"1\")  # This will print\n",
    "\n",
    "if first_array:\n",
    "    print(\"2\")  # This will print because first_array is not empty\n",
    "\n",
    "if len(second_array) == 3:\n",
    "    print(\"3\")  # This will print because second_array has 3 elements\n",
    "\n",
    "if len(first_array) + len(second_array) == 5:\n",
    "    print(\"4\")  # This will print because sum of lengths is 5 (2 + 3)\n",
    "\n",
    "if first_array and first_array[0] == 1:\n",
    "    print(\"5\")  # This will print because first_array is not empty and the first element is 1\n",
    "\n",
    "if second_number:  # This will print because second_number is not zero (truthy value)\n",
    "    print(\"6\")"
   ]
  },
  {
   "cell_type": "code",
   "execution_count": 105,
   "id": "5a4f5b3c-82f0-4aed-b3ac-ddd4f34c7361",
   "metadata": {},
   "outputs": [
    {
     "name": "stdout",
     "output_type": "stream",
     "text": [
      "2\n",
      "3\n",
      "5\n",
      "7\n"
     ]
    }
   ],
   "source": [
    "#Loops\n",
    "primes = [2, 3, 5, 7]\n",
    "for prime in primes:\n",
    "    print(prime)"
   ]
  },
  {
   "cell_type": "code",
   "execution_count": 107,
   "id": "0d106073-2199-4148-9409-071143632b3d",
   "metadata": {},
   "outputs": [
    {
     "name": "stdout",
     "output_type": "stream",
     "text": [
      "0\n",
      "1\n",
      "2\n",
      "3\n",
      "4\n",
      "3\n",
      "4\n",
      "5\n",
      "3\n",
      "5\n",
      "7\n"
     ]
    }
   ],
   "source": [
    "# Prints out the numbers 0,1,2,3,4\n",
    "for x in range(5):\n",
    "    print(x)\n",
    "\n",
    "# Prints out 3,4,5\n",
    "for x in range(3, 6):\n",
    "    print(x)\n",
    "\n",
    "# Prints out 3,5,7\n",
    "for x in range(3, 8, 2):\n",
    "    print(x)"
   ]
  },
  {
   "cell_type": "code",
   "execution_count": 109,
   "id": "2a9c7ac8-8c4e-46b8-806b-84f3afc8b5de",
   "metadata": {},
   "outputs": [
    {
     "name": "stdout",
     "output_type": "stream",
     "text": [
      "0\n",
      "1\n",
      "2\n",
      "3\n",
      "4\n"
     ]
    }
   ],
   "source": [
    "# Prints out 0,1,2,3,4\n",
    "\n",
    "count = 0\n",
    "while count < 5:\n",
    "    print(count)\n",
    "    count += 1  # This is the same as count = count + 1"
   ]
  },
  {
   "cell_type": "code",
   "execution_count": 111,
   "id": "9441dbdc-3329-4f36-88ae-9c9085020579",
   "metadata": {},
   "outputs": [
    {
     "name": "stdout",
     "output_type": "stream",
     "text": [
      "0\n",
      "1\n",
      "2\n",
      "3\n",
      "4\n",
      "1\n",
      "3\n",
      "5\n",
      "7\n",
      "9\n"
     ]
    }
   ],
   "source": [
    "# Prints out 0,1,2,3,4\n",
    "\n",
    "count = 0\n",
    "while True:\n",
    "    print(count)\n",
    "    count += 1\n",
    "    if count >= 5:\n",
    "        break\n",
    "\n",
    "# Prints out only odd numbers - 1,3,5,7,9\n",
    "for x in range(10):\n",
    "    # Check if x is even\n",
    "    if x % 2 == 0:\n",
    "        continue\n",
    "    print(x)"
   ]
  },
  {
   "cell_type": "code",
   "execution_count": 113,
   "id": "3b8b8407-de4f-4ee2-8884-906f24b03203",
   "metadata": {},
   "outputs": [
    {
     "name": "stdout",
     "output_type": "stream",
     "text": [
      "0\n",
      "1\n",
      "2\n",
      "3\n",
      "4\n",
      "count value reached 5\n",
      "1\n",
      "2\n",
      "3\n",
      "4\n"
     ]
    }
   ],
   "source": [
    "# Prints out 0,1,2,3,4 and then it prints \"count value reached 5\"\n",
    "\n",
    "count=0\n",
    "while(count<5):\n",
    "    print(count)\n",
    "    count +=1\n",
    "else:\n",
    "    print(\"count value reached %d\" %(count))\n",
    "\n",
    "# Prints out 1,2,3,4\n",
    "for i in range(1, 10):\n",
    "    if(i%5==0):\n",
    "        break\n",
    "    print(i)\n",
    "else:\n",
    "    print(\"this is not printed because for loop is terminated because of break but not due to fail in condition\")"
   ]
  },
  {
   "cell_type": "code",
   "execution_count": 115,
   "id": "f7dcab09-fbf1-4864-aa22-59c8ce73c775",
   "metadata": {},
   "outputs": [],
   "source": [
    "#Functions\n",
    "\n",
    "def my_function():\n",
    "    print(\"Hello From My Function!\")"
   ]
  },
  {
   "cell_type": "code",
   "execution_count": 117,
   "id": "601ce9bb-0525-4ab0-9fc5-c76c1e269476",
   "metadata": {},
   "outputs": [],
   "source": [
    "def my_function_with_args(username, greeting):\n",
    "    print(\"Hello, %s , From My Function!, I wish you %s\"%(username, greeting))"
   ]
  },
  {
   "cell_type": "code",
   "execution_count": 119,
   "id": "ebdbde1d-b723-4452-bcdf-f018cc97bccc",
   "metadata": {},
   "outputs": [
    {
     "name": "stdout",
     "output_type": "stream",
     "text": [
      "Hello From My Function!\n",
      "Hello, John Doe, From My Function!, I wish you a great year!\n"
     ]
    }
   ],
   "source": [
    "# Define our 3 functions\n",
    "def my_function():\n",
    "    print(\"Hello From My Function!\")\n",
    "\n",
    "def my_function_with_args(username, greeting):\n",
    "    print(\"Hello, %s, From My Function!, I wish you %s\"%(username, greeting))\n",
    "\n",
    "def sum_two_numbers(a, b):\n",
    "    return a + b\n",
    "\n",
    "# print(a simple greeting)\n",
    "my_function()\n",
    "\n",
    "#prints - \"Hello, John Doe, From My Function!, I wish you a great year!\"\n",
    "my_function_with_args(\"John Doe\", \"a great year!\")\n",
    "\n",
    "# after this line x will hold the value 3!\n",
    "x = sum_two_numbers(1,2)"
   ]
  },
  {
   "cell_type": "code",
   "execution_count": 121,
   "id": "cf1f4871-ce78-4360-9627-059c49cc93ac",
   "metadata": {},
   "outputs": [
    {
     "name": "stdout",
     "output_type": "stream",
     "text": [
      "402\n",
      "984\n",
      "360\n",
      "408\n",
      "980\n",
      "544\n",
      "390\n",
      "984\n",
      "592\n",
      "236\n",
      "942\n",
      "386\n",
      "462\n",
      "418\n",
      "344\n",
      "236\n",
      "566\n",
      "978\n",
      "328\n",
      "162\n",
      "758\n",
      "918\n"
     ]
    }
   ],
   "source": [
    "#Exercise\n",
    "numbers = [\n",
    "    951, 402, 984, 651, 360, 69, 408, 319, 601, 485, 980, 507, 725, 547, 544,\n",
    "    615, 83, 165, 141, 501, 263, 617, 865, 575, 219, 390, 984, 592, 236, 105, 942, 941,\n",
    "    386, 462, 47, 418, 907, 344, 236, 375, 823, 566, 597, 978, 328, 615, 953, 345,\n",
    "    399, 162, 758, 219, 918, 237, 412, 566, 826, 248, 866, 950, 626, 949, 687, 217,\n",
    "    815, 67, 104, 58, 512, 24, 892, 894, 767, 553, 81, 379, 843, 831, 445, 742, 717,\n",
    "    958, 609, 842, 451, 688, 753, 854, 685, 93, 857, 440, 380, 126, 721, 328, 753, 470,\n",
    "    743, 527\n",
    "]\n",
    "\n",
    "for number in numbers:\n",
    "    if number == 237:\n",
    "        break\n",
    "    if number % 2 == 0:\n",
    "        print(number)"
   ]
  },
  {
   "cell_type": "code",
   "execution_count": 123,
   "id": "ac396d43-0c6b-41f9-a268-06be3615c616",
   "metadata": {},
   "outputs": [
    {
     "name": "stdout",
     "output_type": "stream",
     "text": [
      "More organized code is a benefit of functions!\n",
      "More readable code is a benefit of functions!\n",
      "Easier code reuse is a benefit of functions!\n",
      "Allowing programmers to share and connect code together is a benefit of functions!\n"
     ]
    }
   ],
   "source": [
    "#Exericise\n",
    "# Modify this function to return the list of strings as defined above\n",
    "def list_benefits():\n",
    "    return [\n",
    "        \"More organized code\", \n",
    "        \"More readable code\", \n",
    "        \"Easier code reuse\", \n",
    "        \"Allowing programmers to share and connect code together\"\n",
    "    ]\n",
    "\n",
    "# Modify this function to concatenate to each benefit - \" is a benefit of functions!\"\n",
    "def build_sentence(benefit):\n",
    "    return f\"{benefit} is a benefit of functions!\"\n",
    "\n",
    "def name_the_benefits_of_functions():\n",
    "    list_of_benefits = list_benefits()\n",
    "    for benefit in list_of_benefits:\n",
    "        print(build_sentence(benefit))\n",
    "\n",
    "# Run the function to see the results\n",
    "name_the_benefits_of_functions()"
   ]
  },
  {
   "cell_type": "code",
   "execution_count": 125,
   "id": "0d203ee2-8461-48dc-9489-cb040f37cbe4",
   "metadata": {},
   "outputs": [],
   "source": [
    "#Classes and objects\n",
    "class MyClass:\n",
    "    variable = \"blah\"\n",
    "\n",
    "    def function(self):\n",
    "        print(\"This is a message inside the class.\")"
   ]
  },
  {
   "cell_type": "code",
   "execution_count": 127,
   "id": "ec15621f-bd53-4d54-8d4c-865cbcdf18ae",
   "metadata": {},
   "outputs": [],
   "source": [
    "class MyClass:\n",
    "    variable = \"blah\"\n",
    "\n",
    "    def function(self):\n",
    "        print(\"This is a message inside the class.\")\n",
    "\n",
    "myobjectx = MyClass()"
   ]
  },
  {
   "cell_type": "code",
   "execution_count": 129,
   "id": "44a47118-6a86-4238-976b-20cd137a7914",
   "metadata": {},
   "outputs": [
    {
     "data": {
      "text/plain": [
       "'blah'"
      ]
     },
     "execution_count": 129,
     "metadata": {},
     "output_type": "execute_result"
    }
   ],
   "source": [
    "class MyClass:\n",
    "    variable = \"blah\"\n",
    "\n",
    "    def function(self):\n",
    "        print(\"This is a message inside the class.\")\n",
    "\n",
    "myobjectx = MyClass()\n",
    "\n",
    "myobjectx.variable"
   ]
  },
  {
   "cell_type": "code",
   "execution_count": 131,
   "id": "33641014-6fbf-4d51-b90b-24187432a671",
   "metadata": {},
   "outputs": [
    {
     "name": "stdout",
     "output_type": "stream",
     "text": [
      "blah\n"
     ]
    }
   ],
   "source": [
    "class MyClass:\n",
    "    variable = \"blah\"\n",
    "\n",
    "    def function(self):\n",
    "        print(\"This is a message inside the class.\")\n",
    "\n",
    "myobjectx = MyClass()\n",
    "\n",
    "print(myobjectx.variable)"
   ]
  },
  {
   "cell_type": "code",
   "execution_count": 133,
   "id": "55bb1889-9bd4-44a4-a04c-1d0d6cd8cbe7",
   "metadata": {},
   "outputs": [
    {
     "name": "stdout",
     "output_type": "stream",
     "text": [
      "blah\n",
      "yackity\n"
     ]
    }
   ],
   "source": [
    "class MyClass:\n",
    "    variable = \"blah\"\n",
    "\n",
    "    def function(self):\n",
    "        print(\"This is a message inside the class.\")\n",
    "\n",
    "myobjectx = MyClass()\n",
    "myobjecty = MyClass()\n",
    "\n",
    "myobjecty.variable = \"yackity\"\n",
    "\n",
    "# Then print out both values\n",
    "print(myobjectx.variable)\n",
    "print(myobjecty.variable)"
   ]
  },
  {
   "cell_type": "code",
   "execution_count": 135,
   "id": "937a9a4e-9b20-4375-95b0-e274a4aaa6aa",
   "metadata": {},
   "outputs": [
    {
     "name": "stdout",
     "output_type": "stream",
     "text": [
      "This is a message inside the class.\n"
     ]
    }
   ],
   "source": [
    "class MyClass:\n",
    "    variable = \"blah\"\n",
    "\n",
    "    def function(self):\n",
    "        print(\"This is a message inside the class.\")\n",
    "\n",
    "myobjectx = MyClass()\n",
    "\n",
    "myobjectx.function()"
   ]
  },
  {
   "cell_type": "code",
   "execution_count": 137,
   "id": "2d04bf35-09a3-4818-adb3-e1bb0a480a66",
   "metadata": {},
   "outputs": [
    {
     "name": "stdout",
     "output_type": "stream",
     "text": [
      "7\n"
     ]
    }
   ],
   "source": [
    "class NumberHolder:\n",
    "\n",
    "   def __init__(self, number):\n",
    "       self.number = number\n",
    "\n",
    "   def returnNumber(self):\n",
    "       return self.number\n",
    "\n",
    "var = NumberHolder(7)\n",
    "print(var.returnNumber()) #Prints '7'"
   ]
  },
  {
   "cell_type": "code",
   "execution_count": 139,
   "id": "ab48419e-9312-4094-8813-6aa2215c03d3",
   "metadata": {},
   "outputs": [
    {
     "name": "stdout",
     "output_type": "stream",
     "text": [
      "Fer is a red convertible worth $60000.00.\n",
      "Jump is a blue van worth $10000.00.\n"
     ]
    }
   ],
   "source": [
    "#Exercise\n",
    "\n",
    "# Define the Vehicle class\n",
    "class Vehicle:\n",
    "    name = \"\"\n",
    "    kind = \"car\"\n",
    "    color = \"\"\n",
    "    value = 100.00\n",
    "    \n",
    "    def description(self):\n",
    "        desc_str = \"%s is a %s %s worth $%.2f.\" % (self.name, self.color, self.kind, self.value)\n",
    "        return desc_str\n",
    "\n",
    "# Create two new vehicles\n",
    "car1 = Vehicle()\n",
    "car1.name = \"Fer\"\n",
    "car1.color = \"red\"\n",
    "car1.kind = \"convertible\"\n",
    "car1.value = 60000.00\n",
    "\n",
    "car2 = Vehicle()\n",
    "car2.name = \"Jump\"\n",
    "car2.color = \"blue\"\n",
    "car2.kind = \"van\"\n",
    "car2.value = 10000.00\n",
    "\n",
    "# Test code\n",
    "print(car1.description())\n",
    "print(car2.description())"
   ]
  },
  {
   "cell_type": "code",
   "execution_count": 141,
   "id": "0b5935a8-3af4-4b1d-8bd5-e2731ce973ca",
   "metadata": {},
   "outputs": [
    {
     "name": "stdout",
     "output_type": "stream",
     "text": [
      "{'John': 938477566, 'Jack': 938377264, 'Jill': 947662781}\n"
     ]
    }
   ],
   "source": [
    "#Dictionaries\n",
    "phonebook = {}\n",
    "phonebook[\"John\"] = 938477566\n",
    "phonebook[\"Jack\"] = 938377264\n",
    "phonebook[\"Jill\"] = 947662781\n",
    "print(phonebook)"
   ]
  },
  {
   "cell_type": "code",
   "execution_count": 143,
   "id": "4179b13c-aca7-4ed4-ae4d-c9227bf8e15d",
   "metadata": {},
   "outputs": [
    {
     "name": "stdout",
     "output_type": "stream",
     "text": [
      "{'John': 938477566, 'Jack': 938377264, 'Jill': 947662781}\n"
     ]
    }
   ],
   "source": [
    "phonebook = {\n",
    "    \"John\" : 938477566,\n",
    "    \"Jack\" : 938377264,\n",
    "    \"Jill\" : 947662781\n",
    "}\n",
    "print(phonebook)"
   ]
  },
  {
   "cell_type": "code",
   "execution_count": 145,
   "id": "6a68e2e1-80e4-4cc3-af4d-3f081e28a97f",
   "metadata": {},
   "outputs": [
    {
     "name": "stdout",
     "output_type": "stream",
     "text": [
      "Phone number of John is 938477566\n",
      "Phone number of Jack is 938377264\n",
      "Phone number of Jill is 947662781\n"
     ]
    }
   ],
   "source": [
    "phonebook = {\"John\" : 938477566,\"Jack\" : 938377264,\"Jill\" : 947662781}\n",
    "for name, number in phonebook.items():\n",
    "    print(\"Phone number of %s is %d\" % (name, number))"
   ]
  },
  {
   "cell_type": "code",
   "execution_count": 147,
   "id": "5c4f7635-80a3-40ad-881b-c86a8273a157",
   "metadata": {},
   "outputs": [
    {
     "name": "stdout",
     "output_type": "stream",
     "text": [
      "{'Jack': 938377264, 'Jill': 947662781}\n"
     ]
    }
   ],
   "source": [
    "phonebook = {\n",
    "   \"John\" : 938477566,\n",
    "   \"Jack\" : 938377264,\n",
    "   \"Jill\" : 947662781\n",
    "}\n",
    "del phonebook[\"John\"]\n",
    "print(phonebook)"
   ]
  },
  {
   "cell_type": "code",
   "execution_count": 149,
   "id": "0b868aab-036b-4599-8cb0-0d314ab5923a",
   "metadata": {},
   "outputs": [
    {
     "name": "stdout",
     "output_type": "stream",
     "text": [
      "{'Jack': 938377264, 'Jill': 947662781}\n"
     ]
    }
   ],
   "source": [
    "phonebook = {\n",
    "   \"John\" : 938477566,\n",
    "   \"Jack\" : 938377264,\n",
    "   \"Jill\" : 947662781\n",
    "}\n",
    "phonebook.pop(\"John\")\n",
    "print(phonebook)"
   ]
  },
  {
   "cell_type": "code",
   "execution_count": 151,
   "id": "af25faed-e152-4a6d-89a1-19efa399f87f",
   "metadata": {},
   "outputs": [
    {
     "name": "stdout",
     "output_type": "stream",
     "text": [
      "Jake is listed in the phonebook.\n",
      "Jill is not listed in the phonebook.\n"
     ]
    }
   ],
   "source": [
    "phonebook = {  \n",
    "    \"John\" : 938477566,\n",
    "    \"Jack\" : 938377264,\n",
    "    \"Jill\" : 947662781\n",
    "}\n",
    "\n",
    "# Add Jake to the phonebook\n",
    "phonebook[\"Jake\"] = 938273443\n",
    "\n",
    "# Remove Jill from the phonebook\n",
    "del phonebook[\"Jill\"]\n",
    "\n",
    "# Testing code\n",
    "if \"Jake\" in phonebook:  \n",
    "    print(\"Jake is listed in the phonebook.\")\n",
    "    \n",
    "if \"Jill\" not in phonebook:      \n",
    "    print(\"Jill is not listed in the phonebook.\")"
   ]
  },
  {
   "cell_type": "code",
   "execution_count": 153,
   "id": "d0533c4e-77ee-4f30-80fa-1982cd4f0e39",
   "metadata": {},
   "outputs": [
    {
     "data": {
      "text/plain": [
       "['ContentTooShortError',\n",
       " 'FancyURLopener',\n",
       " 'MAXFTPCACHE',\n",
       " 'URLopener',\n",
       " '__all__',\n",
       " '__builtins__',\n",
       " '__doc__',\n",
       " '__file__',\n",
       " '__name__',\n",
       " '__package__',\n",
       " '__version__',\n",
       " '_ftperrors',\n",
       " '_get_proxies',\n",
       " '_get_proxy_settings',\n",
       " '_have_ssl',\n",
       " '_hexdig',\n",
       " '_hextochr',\n",
       " '_hostprog',\n",
       " '_is_unicode',\n",
       " '_localhost',\n",
       " '_noheaders',\n",
       " '_nportprog',\n",
       " '_passwdprog',\n",
       " '_portprog',\n",
       " '_queryprog',\n",
       " '_safe_map',\n",
       " '_safe_quoters',\n",
       " '_tagprog',\n",
       " '_thishost',\n",
       " '_typeprog',\n",
       " '_urlopener',\n",
       " '_userprog',\n",
       " '_valueprog',\n",
       " 'addbase',\n",
       " 'addclosehook',\n",
       " 'addinfo',\n",
       " 'addinfourl',\n",
       " 'always_safe',\n",
       " 'basejoin',\n",
       " 'c',\n",
       " 'ftpcache',\n",
       " 'ftperrors',\n",
       " 'ftpwrapper',\n",
       " 'getproxies',\n",
       " 'getproxies_environment',\n",
       " 'getproxies_macosx_sysconf',\n",
       " 'i',\n",
       " 'localhost',\n",
       " 'main',\n",
       " 'noheaders',\n",
       " 'os',\n",
       " 'pathname2url',\n",
       " 'proxy_bypass',\n",
       " 'proxy_bypass_environment',\n",
       " 'proxy_bypass_macosx_sysconf',\n",
       " 'quote',\n",
       " 'quote_plus',\n",
       " 'reporthook',\n",
       " 'socket',\n",
       " 'splitattr',\n",
       " 'splithost',\n",
       " 'splitnport',\n",
       " 'splitpasswd',\n",
       " 'splitport',\n",
       " 'splitquery',\n",
       " 'splittag',\n",
       " 'splittype',\n",
       " 'splituser',\n",
       " 'splitvalue',\n",
       " 'ssl',\n",
       " 'string',\n",
       " 'sys',\n",
       " 'test',\n",
       " 'test1',\n",
       " 'thishost',\n",
       " 'time',\n",
       " 'toBytes',\n",
       " 'unquote',\n",
       " 'unquote_plus',\n",
       " 'unwrap',\n",
       " 'url2pathname',\n",
       " 'urlcleanup',\n",
       " 'urlencode',\n",
       " 'urlopen',\n",
       " 'urlretrieve']"
      ]
     },
     "execution_count": 153,
     "metadata": {},
     "output_type": "execute_result"
    }
   ],
   "source": [
    "#Modules and Packages\n",
    ">>> import urllib\n",
    ">>> dir(urllib)\n",
    "['ContentTooShortError', 'FancyURLopener', 'MAXFTPCACHE', 'URLopener', '__all__', '__builtins__', \n",
    "'__doc__', '__file__', '__name__', '__package__', '__version__', '_ftperrors', '_get_proxies', \n",
    "'_get_proxy_settings', '_have_ssl', '_hexdig', '_hextochr', '_hostprog', '_is_unicode', '_localhost', \n",
    "'_noheaders', '_nportprog', '_passwdprog', '_portprog', '_queryprog', '_safe_map', '_safe_quoters', \n",
    "'_tagprog', '_thishost', '_typeprog', '_urlopener', '_userprog', '_valueprog', 'addbase', 'addclosehook', \n",
    "'addinfo', 'addinfourl', 'always_safe', 'basejoin', 'c', 'ftpcache', 'ftperrors', 'ftpwrapper', 'getproxies', \n",
    "'getproxies_environment', 'getproxies_macosx_sysconf', 'i', 'localhost', 'main', 'noheaders', 'os', \n",
    "'pathname2url', 'proxy_bypass', 'proxy_bypass_environment', 'proxy_bypass_macosx_sysconf', 'quote', \n",
    "'quote_plus', 'reporthook', 'socket', 'splitattr', 'splithost', 'splitnport', 'splitpasswd', 'splitport', \n",
    "'splitquery', 'splittag', 'splittype', 'splituser', 'splitvalue', 'ssl', 'string', 'sys', 'test', 'test1', \n",
    "'thishost', 'time', 'toBytes', 'unquote', 'unquote_plus', 'unwrap', 'url2pathname', 'urlcleanup', 'urlencode', \n",
    "'urlopen', 'urlretrieve']"
   ]
  },
  {
   "cell_type": "code",
   "execution_count": 155,
   "id": "16c9078c-50f5-4ae2-8e4d-676c4d1f158c",
   "metadata": {},
   "outputs": [
    {
     "name": "stdout",
     "output_type": "stream",
     "text": [
      "['findall', 'finditer']\n"
     ]
    }
   ],
   "source": [
    "#Exercise\n",
    "\n",
    "import re\n",
    "\n",
    "# Get a list of all attributes of the re module\n",
    "all_functions = dir(re)\n",
    "\n",
    "# Filter functions that contain the word \"find\"\n",
    "find_functions = [func for func in all_functions if 'find' in func]\n",
    "\n",
    "# Sort the list alphabetically\n",
    "find_functions.sort()\n",
    "\n",
    "# Print the sorted list\n",
    "print(find_functions)"
   ]
  },
  {
   "cell_type": "code",
   "execution_count": 15,
   "id": "0ef32d0e-7eab-4716-8e19-9718da578a3d",
   "metadata": {},
   "outputs": [
    {
     "name": "stdout",
     "output_type": "stream",
     "text": [
      "Inside play_game\n",
      "Inside draw_game\n",
      "Drawing Ultimate Battle game with result: Player 2 wins\n",
      "The final scores are: {'Player 1': 5, 'Player 2': 10}\n"
     ]
    }
   ],
   "source": [
    "#creation of module and usage of module in the code\n",
    "from My_game import game as G\n",
    "from My_game import draw as D\n",
    "\n",
    "def main():\n",
    "    game_name = \"Ultimate Battle\"\n",
    "    result, score = G.play_game()\n",
    "    \n",
    "    # Use draw module functions to print the game result and score\n",
    "    D.draw_game(game_name, result)\n",
    "    D.draw_score(score)\n",
    "\n",
    "if __name__ == \"__main__\":\n",
    "    main()\n"
   ]
  },
  {
   "cell_type": "code",
   "execution_count": 17,
   "id": "ae481b29-8a3a-4977-9979-43c96253ddc3",
   "metadata": {},
   "outputs": [
    {
     "data": {
      "text/plain": [
       "['__builtins__',\n",
       " '__cached__',\n",
       " '__doc__',\n",
       " '__file__',\n",
       " '__loader__',\n",
       " '__name__',\n",
       " '__package__',\n",
       " '__path__',\n",
       " '__spec__',\n",
       " 'error',\n",
       " 'parse',\n",
       " 'request',\n",
       " 'response']"
      ]
     },
     "execution_count": 17,
     "metadata": {},
     "output_type": "execute_result"
    }
   ],
   "source": [
    "# Built in functions\n",
    "\n",
    "import urllib\n",
    "dir(urllib)"
   ]
  },
  {
   "cell_type": "code",
   "execution_count": 19,
   "id": "32396791-7256-4451-bdbc-944dfd2d5a87",
   "metadata": {},
   "outputs": [
    {
     "name": "stdout",
     "output_type": "stream",
     "text": [
      "Help on module urllib.request in urllib:\n",
      "\n",
      "NAME\n",
      "    urllib.request - An extensible library for opening URLs using a variety of protocols\n",
      "\n",
      "MODULE REFERENCE\n",
      "    https://docs.python.org/3.12/library/urllib.request.html\n",
      "\n",
      "    The following documentation is automatically generated from the Python\n",
      "    source files.  It may be incomplete, incorrect or include features that\n",
      "    are considered implementation detail and may vary between Python\n",
      "    implementations.  When in doubt, consult the module reference at the\n",
      "    location listed above.\n",
      "\n",
      "DESCRIPTION\n",
      "    The simplest way to use this module is to call the urlopen function,\n",
      "    which accepts a string containing a URL or a Request object (described\n",
      "    below).  It opens the URL and returns the results as file-like\n",
      "    object; the returned object has some extra methods described below.\n",
      "\n",
      "    The OpenerDirector manages a collection of Handler objects that do\n",
      "    all the actual work.  Each Handler implements a particular protocol or\n",
      "    option.  The OpenerDirector is a composite object that invokes the\n",
      "    Handlers needed to open the requested URL.  For example, the\n",
      "    HTTPHandler performs HTTP GET and POST requests and deals with\n",
      "    non-error returns.  The HTTPRedirectHandler automatically deals with\n",
      "    HTTP 301, 302, 303, 307, and 308 redirect errors, and the\n",
      "    HTTPDigestAuthHandler deals with digest authentication.\n",
      "\n",
      "    urlopen(url, data=None) -- Basic usage is the same as original\n",
      "    urllib.  pass the url and optionally data to post to an HTTP URL, and\n",
      "    get a file-like object back.  One difference is that you can also pass\n",
      "    a Request instance instead of URL.  Raises a URLError (subclass of\n",
      "    OSError); for HTTP errors, raises an HTTPError, which can also be\n",
      "    treated as a valid response.\n",
      "\n",
      "    build_opener -- Function that creates a new OpenerDirector instance.\n",
      "    Will install the default handlers.  Accepts one or more Handlers as\n",
      "    arguments, either instances or Handler classes that it will\n",
      "    instantiate.  If one of the argument is a subclass of the default\n",
      "    handler, the argument will be installed instead of the default.\n",
      "\n",
      "    install_opener -- Installs a new opener as the default opener.\n",
      "\n",
      "    objects of interest:\n",
      "\n",
      "    OpenerDirector -- Sets up the User Agent as the Python-urllib client and manages\n",
      "    the Handler classes, while dealing with requests and responses.\n",
      "\n",
      "    Request -- An object that encapsulates the state of a request.  The\n",
      "    state can be as simple as the URL.  It can also include extra HTTP\n",
      "    headers, e.g. a User-Agent.\n",
      "\n",
      "    BaseHandler --\n",
      "\n",
      "    internals:\n",
      "    BaseHandler and parent\n",
      "    _call_chain conventions\n",
      "\n",
      "    Example usage:\n",
      "\n",
      "    import urllib.request\n",
      "\n",
      "    # set up authentication info\n",
      "    authinfo = urllib.request.HTTPBasicAuthHandler()\n",
      "    authinfo.add_password(realm='PDQ Application',\n",
      "                          uri='https://mahler:8092/site-updates.py',\n",
      "                          user='klem',\n",
      "                          passwd='geheim$parole')\n",
      "\n",
      "    proxy_support = urllib.request.ProxyHandler({\"http\" : \"http://ahad-haam:3128\"})\n",
      "\n",
      "    # build a new opener that adds authentication and caching FTP handlers\n",
      "    opener = urllib.request.build_opener(proxy_support, authinfo,\n",
      "                                         urllib.request.CacheFTPHandler)\n",
      "\n",
      "    # install it\n",
      "    urllib.request.install_opener(opener)\n",
      "\n",
      "    f = urllib.request.urlopen('https://www.python.org/')\n",
      "\n",
      "CLASSES\n",
      "    builtins.object\n",
      "        AbstractBasicAuthHandler\n",
      "            HTTPBasicAuthHandler(AbstractBasicAuthHandler, BaseHandler)\n",
      "            ProxyBasicAuthHandler(AbstractBasicAuthHandler, BaseHandler)\n",
      "        AbstractDigestAuthHandler\n",
      "        BaseHandler\n",
      "            DataHandler\n",
      "            FTPHandler\n",
      "                CacheFTPHandler\n",
      "            FileHandler\n",
      "            HTTPCookieProcessor\n",
      "            HTTPDefaultErrorHandler\n",
      "            HTTPDigestAuthHandler(BaseHandler, AbstractDigestAuthHandler)\n",
      "            HTTPErrorProcessor\n",
      "            HTTPRedirectHandler\n",
      "            ProxyDigestAuthHandler(BaseHandler, AbstractDigestAuthHandler)\n",
      "            ProxyHandler\n",
      "            UnknownHandler\n",
      "        HTTPPasswordMgr\n",
      "            HTTPPasswordMgrWithDefaultRealm\n",
      "                HTTPPasswordMgrWithPriorAuth\n",
      "        OpenerDirector\n",
      "        Request\n",
      "        URLopener\n",
      "            FancyURLopener\n",
      "    AbstractHTTPHandler(BaseHandler)\n",
      "        HTTPHandler\n",
      "        HTTPSHandler\n",
      "\n",
      "    class AbstractBasicAuthHandler(builtins.object)\n",
      "     |  AbstractBasicAuthHandler(password_mgr=None)\n",
      "     |\n",
      "     |  Methods defined here:\n",
      "     |\n",
      "     |  __init__(self, password_mgr=None)\n",
      "     |      Initialize self.  See help(type(self)) for accurate signature.\n",
      "     |\n",
      "     |  http_error_auth_reqed(self, authreq, host, req, headers)\n",
      "     |\n",
      "     |  http_request(self, req)\n",
      "     |\n",
      "     |  http_response(self, req, response)\n",
      "     |\n",
      "     |  https_request = http_request(self, req)\n",
      "     |\n",
      "     |  https_response = http_response(self, req, response)\n",
      "     |\n",
      "     |  retry_http_basic_auth(self, host, req, realm)\n",
      "     |\n",
      "     |  ----------------------------------------------------------------------\n",
      "     |  Data descriptors defined here:\n",
      "     |\n",
      "     |  __dict__\n",
      "     |      dictionary for instance variables\n",
      "     |\n",
      "     |  __weakref__\n",
      "     |      list of weak references to the object\n",
      "     |\n",
      "     |  ----------------------------------------------------------------------\n",
      "     |  Data and other attributes defined here:\n",
      "     |\n",
      "     |  rx = re.compile('(?:^|,)[ \\t]*([^ \\t,]+)[ \\t]+realm=([\"\\']?)([^\"\\']*)\\...\n",
      "\n",
      "    class AbstractDigestAuthHandler(builtins.object)\n",
      "     |  AbstractDigestAuthHandler(passwd=None)\n",
      "     |\n",
      "     |  Methods defined here:\n",
      "     |\n",
      "     |  __init__(self, passwd=None)\n",
      "     |      Initialize self.  See help(type(self)) for accurate signature.\n",
      "     |\n",
      "     |  get_algorithm_impls(self, algorithm)\n",
      "     |\n",
      "     |  get_authorization(self, req, chal)\n",
      "     |\n",
      "     |  get_cnonce(self, nonce)\n",
      "     |\n",
      "     |  get_entity_digest(self, data, chal)\n",
      "     |\n",
      "     |  http_error_auth_reqed(self, auth_header, host, req, headers)\n",
      "     |\n",
      "     |  reset_retry_count(self)\n",
      "     |\n",
      "     |  retry_http_digest_auth(self, req, auth)\n",
      "     |\n",
      "     |  ----------------------------------------------------------------------\n",
      "     |  Data descriptors defined here:\n",
      "     |\n",
      "     |  __dict__\n",
      "     |      dictionary for instance variables\n",
      "     |\n",
      "     |  __weakref__\n",
      "     |      list of weak references to the object\n",
      "\n",
      "    class BaseHandler(builtins.object)\n",
      "     |  Methods defined here:\n",
      "     |\n",
      "     |  __lt__(self, other)\n",
      "     |      Return self<value.\n",
      "     |\n",
      "     |  add_parent(self, parent)\n",
      "     |\n",
      "     |  close(self)\n",
      "     |\n",
      "     |  ----------------------------------------------------------------------\n",
      "     |  Data descriptors defined here:\n",
      "     |\n",
      "     |  __dict__\n",
      "     |      dictionary for instance variables\n",
      "     |\n",
      "     |  __weakref__\n",
      "     |      list of weak references to the object\n",
      "     |\n",
      "     |  ----------------------------------------------------------------------\n",
      "     |  Data and other attributes defined here:\n",
      "     |\n",
      "     |  handler_order = 500\n",
      "\n",
      "    class CacheFTPHandler(FTPHandler)\n",
      "     |  Method resolution order:\n",
      "     |      CacheFTPHandler\n",
      "     |      FTPHandler\n",
      "     |      BaseHandler\n",
      "     |      builtins.object\n",
      "     |\n",
      "     |  Methods defined here:\n",
      "     |\n",
      "     |  __init__(self)\n",
      "     |      Initialize self.  See help(type(self)) for accurate signature.\n",
      "     |\n",
      "     |  check_cache(self)\n",
      "     |\n",
      "     |  clear_cache(self)\n",
      "     |\n",
      "     |  connect_ftp(self, user, passwd, host, port, dirs, timeout)\n",
      "     |\n",
      "     |  setMaxConns(self, m)\n",
      "     |\n",
      "     |  setTimeout(self, t)\n",
      "     |\n",
      "     |  ----------------------------------------------------------------------\n",
      "     |  Methods inherited from FTPHandler:\n",
      "     |\n",
      "     |  ftp_open(self, req)\n",
      "     |\n",
      "     |  ----------------------------------------------------------------------\n",
      "     |  Methods inherited from BaseHandler:\n",
      "     |\n",
      "     |  __lt__(self, other)\n",
      "     |      Return self<value.\n",
      "     |\n",
      "     |  add_parent(self, parent)\n",
      "     |\n",
      "     |  close(self)\n",
      "     |\n",
      "     |  ----------------------------------------------------------------------\n",
      "     |  Data descriptors inherited from BaseHandler:\n",
      "     |\n",
      "     |  __dict__\n",
      "     |      dictionary for instance variables\n",
      "     |\n",
      "     |  __weakref__\n",
      "     |      list of weak references to the object\n",
      "     |\n",
      "     |  ----------------------------------------------------------------------\n",
      "     |  Data and other attributes inherited from BaseHandler:\n",
      "     |\n",
      "     |  handler_order = 500\n",
      "\n",
      "    class DataHandler(BaseHandler)\n",
      "     |  Method resolution order:\n",
      "     |      DataHandler\n",
      "     |      BaseHandler\n",
      "     |      builtins.object\n",
      "     |\n",
      "     |  Methods defined here:\n",
      "     |\n",
      "     |  data_open(self, req)\n",
      "     |\n",
      "     |  ----------------------------------------------------------------------\n",
      "     |  Methods inherited from BaseHandler:\n",
      "     |\n",
      "     |  __lt__(self, other)\n",
      "     |      Return self<value.\n",
      "     |\n",
      "     |  add_parent(self, parent)\n",
      "     |\n",
      "     |  close(self)\n",
      "     |\n",
      "     |  ----------------------------------------------------------------------\n",
      "     |  Data descriptors inherited from BaseHandler:\n",
      "     |\n",
      "     |  __dict__\n",
      "     |      dictionary for instance variables\n",
      "     |\n",
      "     |  __weakref__\n",
      "     |      list of weak references to the object\n",
      "     |\n",
      "     |  ----------------------------------------------------------------------\n",
      "     |  Data and other attributes inherited from BaseHandler:\n",
      "     |\n",
      "     |  handler_order = 500\n",
      "\n",
      "    class FTPHandler(BaseHandler)\n",
      "     |  Method resolution order:\n",
      "     |      FTPHandler\n",
      "     |      BaseHandler\n",
      "     |      builtins.object\n",
      "     |\n",
      "     |  Methods defined here:\n",
      "     |\n",
      "     |  connect_ftp(self, user, passwd, host, port, dirs, timeout)\n",
      "     |\n",
      "     |  ftp_open(self, req)\n",
      "     |\n",
      "     |  ----------------------------------------------------------------------\n",
      "     |  Methods inherited from BaseHandler:\n",
      "     |\n",
      "     |  __lt__(self, other)\n",
      "     |      Return self<value.\n",
      "     |\n",
      "     |  add_parent(self, parent)\n",
      "     |\n",
      "     |  close(self)\n",
      "     |\n",
      "     |  ----------------------------------------------------------------------\n",
      "     |  Data descriptors inherited from BaseHandler:\n",
      "     |\n",
      "     |  __dict__\n",
      "     |      dictionary for instance variables\n",
      "     |\n",
      "     |  __weakref__\n",
      "     |      list of weak references to the object\n",
      "     |\n",
      "     |  ----------------------------------------------------------------------\n",
      "     |  Data and other attributes inherited from BaseHandler:\n",
      "     |\n",
      "     |  handler_order = 500\n",
      "\n",
      "    class FancyURLopener(URLopener)\n",
      "     |  FancyURLopener(*args, **kwargs)\n",
      "     |\n",
      "     |  Derived class with handlers for errors we can handle (perhaps).\n",
      "     |\n",
      "     |  Method resolution order:\n",
      "     |      FancyURLopener\n",
      "     |      URLopener\n",
      "     |      builtins.object\n",
      "     |\n",
      "     |  Methods defined here:\n",
      "     |\n",
      "     |  __init__(self, *args, **kwargs)\n",
      "     |      Initialize self.  See help(type(self)) for accurate signature.\n",
      "     |\n",
      "     |  get_user_passwd(self, host, realm, clear_cache=0)\n",
      "     |\n",
      "     |  http_error_301(self, url, fp, errcode, errmsg, headers, data=None)\n",
      "     |      Error 301 -- also relocated (permanently).\n",
      "     |\n",
      "     |  http_error_302(self, url, fp, errcode, errmsg, headers, data=None)\n",
      "     |      Error 302 -- relocated (temporarily).\n",
      "     |\n",
      "     |  http_error_303(self, url, fp, errcode, errmsg, headers, data=None)\n",
      "     |      Error 303 -- also relocated (essentially identical to 302).\n",
      "     |\n",
      "     |  http_error_307(self, url, fp, errcode, errmsg, headers, data=None)\n",
      "     |      Error 307 -- relocated, but turn POST into error.\n",
      "     |\n",
      "     |  http_error_308(self, url, fp, errcode, errmsg, headers, data=None)\n",
      "     |      Error 308 -- relocated, but turn POST into error.\n",
      "     |\n",
      "     |  http_error_401(self, url, fp, errcode, errmsg, headers, data=None, retry=False)\n",
      "     |      Error 401 -- authentication required.\n",
      "     |      This function supports Basic authentication only.\n",
      "     |\n",
      "     |  http_error_407(self, url, fp, errcode, errmsg, headers, data=None, retry=False)\n",
      "     |      Error 407 -- proxy authentication required.\n",
      "     |      This function supports Basic authentication only.\n",
      "     |\n",
      "     |  http_error_default(self, url, fp, errcode, errmsg, headers)\n",
      "     |      Default error handling -- don't raise an exception.\n",
      "     |\n",
      "     |  prompt_user_passwd(self, host, realm)\n",
      "     |      Override this in a GUI environment!\n",
      "     |\n",
      "     |  redirect_internal(self, url, fp, errcode, errmsg, headers, data)\n",
      "     |\n",
      "     |  retry_http_basic_auth(self, url, realm, data=None)\n",
      "     |\n",
      "     |  retry_https_basic_auth(self, url, realm, data=None)\n",
      "     |\n",
      "     |  retry_proxy_http_basic_auth(self, url, realm, data=None)\n",
      "     |\n",
      "     |  retry_proxy_https_basic_auth(self, url, realm, data=None)\n",
      "     |\n",
      "     |  ----------------------------------------------------------------------\n",
      "     |  Methods inherited from URLopener:\n",
      "     |\n",
      "     |  __del__(self)\n",
      "     |\n",
      "     |  addheader(self, *args)\n",
      "     |      Add a header to be used by the HTTP interface only\n",
      "     |      e.g. u.addheader('Accept', 'sound/basic')\n",
      "     |\n",
      "     |  cleanup(self)\n",
      "     |\n",
      "     |  close(self)\n",
      "     |\n",
      "     |  http_error(self, url, fp, errcode, errmsg, headers, data=None)\n",
      "     |      Handle http errors.\n",
      "     |\n",
      "     |      Derived class can override this, or provide specific handlers\n",
      "     |      named http_error_DDD where DDD is the 3-digit error code.\n",
      "     |\n",
      "     |  open(self, fullurl, data=None)\n",
      "     |      Use URLopener().open(file) instead of open(file, 'r').\n",
      "     |\n",
      "     |  open_data(self, url, data=None)\n",
      "     |      Use \"data\" URL.\n",
      "     |\n",
      "     |  open_file(self, url)\n",
      "     |      Use local file or FTP depending on form of URL.\n",
      "     |\n",
      "     |  open_ftp(self, url)\n",
      "     |      Use FTP protocol.\n",
      "     |\n",
      "     |  open_http(self, url, data=None)\n",
      "     |      Use HTTP protocol.\n",
      "     |\n",
      "     |  open_https(self, url, data=None)\n",
      "     |      Use HTTPS protocol.\n",
      "     |\n",
      "     |  open_local_file(self, url)\n",
      "     |      Use local file.\n",
      "     |\n",
      "     |  open_unknown(self, fullurl, data=None)\n",
      "     |      Overridable interface to open unknown URL type.\n",
      "     |\n",
      "     |  open_unknown_proxy(self, proxy, fullurl, data=None)\n",
      "     |      Overridable interface to open unknown URL type.\n",
      "     |\n",
      "     |  retrieve(self, url, filename=None, reporthook=None, data=None)\n",
      "     |      retrieve(url) returns (filename, headers) for a local object\n",
      "     |      or (tempfilename, headers) for a remote object.\n",
      "     |\n",
      "     |  ----------------------------------------------------------------------\n",
      "     |  Data descriptors inherited from URLopener:\n",
      "     |\n",
      "     |  __dict__\n",
      "     |      dictionary for instance variables\n",
      "     |\n",
      "     |  __weakref__\n",
      "     |      list of weak references to the object\n",
      "     |\n",
      "     |  ----------------------------------------------------------------------\n",
      "     |  Data and other attributes inherited from URLopener:\n",
      "     |\n",
      "     |  version = 'Python-urllib/3.12'\n",
      "\n",
      "    class FileHandler(BaseHandler)\n",
      "     |  Method resolution order:\n",
      "     |      FileHandler\n",
      "     |      BaseHandler\n",
      "     |      builtins.object\n",
      "     |\n",
      "     |  Methods defined here:\n",
      "     |\n",
      "     |  file_open(self, req)\n",
      "     |      # Use local file or FTP depending on form of URL\n",
      "     |\n",
      "     |  get_names(self)\n",
      "     |\n",
      "     |  open_local_file(self, req)\n",
      "     |      # not entirely sure what the rules are here\n",
      "     |\n",
      "     |  ----------------------------------------------------------------------\n",
      "     |  Data and other attributes defined here:\n",
      "     |\n",
      "     |  names = None\n",
      "     |\n",
      "     |  ----------------------------------------------------------------------\n",
      "     |  Methods inherited from BaseHandler:\n",
      "     |\n",
      "     |  __lt__(self, other)\n",
      "     |      Return self<value.\n",
      "     |\n",
      "     |  add_parent(self, parent)\n",
      "     |\n",
      "     |  close(self)\n",
      "     |\n",
      "     |  ----------------------------------------------------------------------\n",
      "     |  Data descriptors inherited from BaseHandler:\n",
      "     |\n",
      "     |  __dict__\n",
      "     |      dictionary for instance variables\n",
      "     |\n",
      "     |  __weakref__\n",
      "     |      list of weak references to the object\n",
      "     |\n",
      "     |  ----------------------------------------------------------------------\n",
      "     |  Data and other attributes inherited from BaseHandler:\n",
      "     |\n",
      "     |  handler_order = 500\n",
      "\n",
      "    class HTTPBasicAuthHandler(AbstractBasicAuthHandler, BaseHandler)\n",
      "     |  HTTPBasicAuthHandler(password_mgr=None)\n",
      "     |\n",
      "     |  Method resolution order:\n",
      "     |      HTTPBasicAuthHandler\n",
      "     |      AbstractBasicAuthHandler\n",
      "     |      BaseHandler\n",
      "     |      builtins.object\n",
      "     |\n",
      "     |  Methods defined here:\n",
      "     |\n",
      "     |  http_error_401(self, req, fp, code, msg, headers)\n",
      "     |\n",
      "     |  ----------------------------------------------------------------------\n",
      "     |  Data and other attributes defined here:\n",
      "     |\n",
      "     |  auth_header = 'Authorization'\n",
      "     |\n",
      "     |  ----------------------------------------------------------------------\n",
      "     |  Methods inherited from AbstractBasicAuthHandler:\n",
      "     |\n",
      "     |  __init__(self, password_mgr=None)\n",
      "     |      Initialize self.  See help(type(self)) for accurate signature.\n",
      "     |\n",
      "     |  http_error_auth_reqed(self, authreq, host, req, headers)\n",
      "     |\n",
      "     |  http_request(self, req)\n",
      "     |\n",
      "     |  http_response(self, req, response)\n",
      "     |\n",
      "     |  https_request = http_request(self, req)\n",
      "     |\n",
      "     |  https_response = http_response(self, req, response)\n",
      "     |\n",
      "     |  retry_http_basic_auth(self, host, req, realm)\n",
      "     |\n",
      "     |  ----------------------------------------------------------------------\n",
      "     |  Data descriptors inherited from AbstractBasicAuthHandler:\n",
      "     |\n",
      "     |  __dict__\n",
      "     |      dictionary for instance variables\n",
      "     |\n",
      "     |  __weakref__\n",
      "     |      list of weak references to the object\n",
      "     |\n",
      "     |  ----------------------------------------------------------------------\n",
      "     |  Data and other attributes inherited from AbstractBasicAuthHandler:\n",
      "     |\n",
      "     |  rx = re.compile('(?:^|,)[ \\t]*([^ \\t,]+)[ \\t]+realm=([\"\\']?)([^\"\\']*)\\...\n",
      "     |\n",
      "     |  ----------------------------------------------------------------------\n",
      "     |  Methods inherited from BaseHandler:\n",
      "     |\n",
      "     |  __lt__(self, other)\n",
      "     |      Return self<value.\n",
      "     |\n",
      "     |  add_parent(self, parent)\n",
      "     |\n",
      "     |  close(self)\n",
      "     |\n",
      "     |  ----------------------------------------------------------------------\n",
      "     |  Data and other attributes inherited from BaseHandler:\n",
      "     |\n",
      "     |  handler_order = 500\n",
      "\n",
      "    class HTTPCookieProcessor(BaseHandler)\n",
      "     |  HTTPCookieProcessor(cookiejar=None)\n",
      "     |\n",
      "     |  Method resolution order:\n",
      "     |      HTTPCookieProcessor\n",
      "     |      BaseHandler\n",
      "     |      builtins.object\n",
      "     |\n",
      "     |  Methods defined here:\n",
      "     |\n",
      "     |  __init__(self, cookiejar=None)\n",
      "     |      Initialize self.  See help(type(self)) for accurate signature.\n",
      "     |\n",
      "     |  http_request(self, request)\n",
      "     |\n",
      "     |  http_response(self, request, response)\n",
      "     |\n",
      "     |  https_request = http_request(self, request)\n",
      "     |\n",
      "     |  https_response = http_response(self, request, response)\n",
      "     |\n",
      "     |  ----------------------------------------------------------------------\n",
      "     |  Methods inherited from BaseHandler:\n",
      "     |\n",
      "     |  __lt__(self, other)\n",
      "     |      Return self<value.\n",
      "     |\n",
      "     |  add_parent(self, parent)\n",
      "     |\n",
      "     |  close(self)\n",
      "     |\n",
      "     |  ----------------------------------------------------------------------\n",
      "     |  Data descriptors inherited from BaseHandler:\n",
      "     |\n",
      "     |  __dict__\n",
      "     |      dictionary for instance variables\n",
      "     |\n",
      "     |  __weakref__\n",
      "     |      list of weak references to the object\n",
      "     |\n",
      "     |  ----------------------------------------------------------------------\n",
      "     |  Data and other attributes inherited from BaseHandler:\n",
      "     |\n",
      "     |  handler_order = 500\n",
      "\n",
      "    class HTTPDefaultErrorHandler(BaseHandler)\n",
      "     |  Method resolution order:\n",
      "     |      HTTPDefaultErrorHandler\n",
      "     |      BaseHandler\n",
      "     |      builtins.object\n",
      "     |\n",
      "     |  Methods defined here:\n",
      "     |\n",
      "     |  http_error_default(self, req, fp, code, msg, hdrs)\n",
      "     |\n",
      "     |  ----------------------------------------------------------------------\n",
      "     |  Methods inherited from BaseHandler:\n",
      "     |\n",
      "     |  __lt__(self, other)\n",
      "     |      Return self<value.\n",
      "     |\n",
      "     |  add_parent(self, parent)\n",
      "     |\n",
      "     |  close(self)\n",
      "     |\n",
      "     |  ----------------------------------------------------------------------\n",
      "     |  Data descriptors inherited from BaseHandler:\n",
      "     |\n",
      "     |  __dict__\n",
      "     |      dictionary for instance variables\n",
      "     |\n",
      "     |  __weakref__\n",
      "     |      list of weak references to the object\n",
      "     |\n",
      "     |  ----------------------------------------------------------------------\n",
      "     |  Data and other attributes inherited from BaseHandler:\n",
      "     |\n",
      "     |  handler_order = 500\n",
      "\n",
      "    class HTTPDigestAuthHandler(BaseHandler, AbstractDigestAuthHandler)\n",
      "     |  HTTPDigestAuthHandler(passwd=None)\n",
      "     |\n",
      "     |  An authentication protocol defined by RFC 2069\n",
      "     |\n",
      "     |  Digest authentication improves on basic authentication because it\n",
      "     |  does not transmit passwords in the clear.\n",
      "     |\n",
      "     |  Method resolution order:\n",
      "     |      HTTPDigestAuthHandler\n",
      "     |      BaseHandler\n",
      "     |      AbstractDigestAuthHandler\n",
      "     |      builtins.object\n",
      "     |\n",
      "     |  Methods defined here:\n",
      "     |\n",
      "     |  http_error_401(self, req, fp, code, msg, headers)\n",
      "     |\n",
      "     |  ----------------------------------------------------------------------\n",
      "     |  Data and other attributes defined here:\n",
      "     |\n",
      "     |  auth_header = 'Authorization'\n",
      "     |\n",
      "     |  handler_order = 490\n",
      "     |\n",
      "     |  ----------------------------------------------------------------------\n",
      "     |  Methods inherited from BaseHandler:\n",
      "     |\n",
      "     |  __lt__(self, other)\n",
      "     |      Return self<value.\n",
      "     |\n",
      "     |  add_parent(self, parent)\n",
      "     |\n",
      "     |  close(self)\n",
      "     |\n",
      "     |  ----------------------------------------------------------------------\n",
      "     |  Data descriptors inherited from BaseHandler:\n",
      "     |\n",
      "     |  __dict__\n",
      "     |      dictionary for instance variables\n",
      "     |\n",
      "     |  __weakref__\n",
      "     |      list of weak references to the object\n",
      "     |\n",
      "     |  ----------------------------------------------------------------------\n",
      "     |  Methods inherited from AbstractDigestAuthHandler:\n",
      "     |\n",
      "     |  __init__(self, passwd=None)\n",
      "     |      Initialize self.  See help(type(self)) for accurate signature.\n",
      "     |\n",
      "     |  get_algorithm_impls(self, algorithm)\n",
      "     |\n",
      "     |  get_authorization(self, req, chal)\n",
      "     |\n",
      "     |  get_cnonce(self, nonce)\n",
      "     |\n",
      "     |  get_entity_digest(self, data, chal)\n",
      "     |\n",
      "     |  http_error_auth_reqed(self, auth_header, host, req, headers)\n",
      "     |\n",
      "     |  reset_retry_count(self)\n",
      "     |\n",
      "     |  retry_http_digest_auth(self, req, auth)\n",
      "\n",
      "    class HTTPErrorProcessor(BaseHandler)\n",
      "     |  Process HTTP error responses.\n",
      "     |\n",
      "     |  Method resolution order:\n",
      "     |      HTTPErrorProcessor\n",
      "     |      BaseHandler\n",
      "     |      builtins.object\n",
      "     |\n",
      "     |  Methods defined here:\n",
      "     |\n",
      "     |  http_response(self, request, response)\n",
      "     |\n",
      "     |  https_response = http_response(self, request, response)\n",
      "     |\n",
      "     |  ----------------------------------------------------------------------\n",
      "     |  Data and other attributes defined here:\n",
      "     |\n",
      "     |  handler_order = 1000\n",
      "     |\n",
      "     |  ----------------------------------------------------------------------\n",
      "     |  Methods inherited from BaseHandler:\n",
      "     |\n",
      "     |  __lt__(self, other)\n",
      "     |      Return self<value.\n",
      "     |\n",
      "     |  add_parent(self, parent)\n",
      "     |\n",
      "     |  close(self)\n",
      "     |\n",
      "     |  ----------------------------------------------------------------------\n",
      "     |  Data descriptors inherited from BaseHandler:\n",
      "     |\n",
      "     |  __dict__\n",
      "     |      dictionary for instance variables\n",
      "     |\n",
      "     |  __weakref__\n",
      "     |      list of weak references to the object\n",
      "\n",
      "    class HTTPHandler(AbstractHTTPHandler)\n",
      "     |  HTTPHandler(debuglevel=None)\n",
      "     |\n",
      "     |  Method resolution order:\n",
      "     |      HTTPHandler\n",
      "     |      AbstractHTTPHandler\n",
      "     |      BaseHandler\n",
      "     |      builtins.object\n",
      "     |\n",
      "     |  Methods defined here:\n",
      "     |\n",
      "     |  http_open(self, req)\n",
      "     |\n",
      "     |  http_request = do_request_(self, request)\n",
      "     |\n",
      "     |  ----------------------------------------------------------------------\n",
      "     |  Methods inherited from AbstractHTTPHandler:\n",
      "     |\n",
      "     |  __init__(self, debuglevel=None)\n",
      "     |      Initialize self.  See help(type(self)) for accurate signature.\n",
      "     |\n",
      "     |  do_open(self, http_class, req, **http_conn_args)\n",
      "     |      Return an HTTPResponse object for the request, using http_class.\n",
      "     |\n",
      "     |      http_class must implement the HTTPConnection API from http.client.\n",
      "     |\n",
      "     |  do_request_(self, request)\n",
      "     |\n",
      "     |  set_http_debuglevel(self, level)\n",
      "     |\n",
      "     |  ----------------------------------------------------------------------\n",
      "     |  Methods inherited from BaseHandler:\n",
      "     |\n",
      "     |  __lt__(self, other)\n",
      "     |      Return self<value.\n",
      "     |\n",
      "     |  add_parent(self, parent)\n",
      "     |\n",
      "     |  close(self)\n",
      "     |\n",
      "     |  ----------------------------------------------------------------------\n",
      "     |  Data descriptors inherited from BaseHandler:\n",
      "     |\n",
      "     |  __dict__\n",
      "     |      dictionary for instance variables\n",
      "     |\n",
      "     |  __weakref__\n",
      "     |      list of weak references to the object\n",
      "     |\n",
      "     |  ----------------------------------------------------------------------\n",
      "     |  Data and other attributes inherited from BaseHandler:\n",
      "     |\n",
      "     |  handler_order = 500\n",
      "\n",
      "    class HTTPPasswordMgr(builtins.object)\n",
      "     |  Methods defined here:\n",
      "     |\n",
      "     |  __init__(self)\n",
      "     |      Initialize self.  See help(type(self)) for accurate signature.\n",
      "     |\n",
      "     |  add_password(self, realm, uri, user, passwd)\n",
      "     |\n",
      "     |  find_user_password(self, realm, authuri)\n",
      "     |\n",
      "     |  is_suburi(self, base, test)\n",
      "     |      Check if test is below base in a URI tree\n",
      "     |\n",
      "     |      Both args must be URIs in reduced form.\n",
      "     |\n",
      "     |  reduce_uri(self, uri, default_port=True)\n",
      "     |      Accept authority or URI and extract only the authority and path.\n",
      "     |\n",
      "     |  ----------------------------------------------------------------------\n",
      "     |  Data descriptors defined here:\n",
      "     |\n",
      "     |  __dict__\n",
      "     |      dictionary for instance variables\n",
      "     |\n",
      "     |  __weakref__\n",
      "     |      list of weak references to the object\n",
      "\n",
      "    class HTTPPasswordMgrWithDefaultRealm(HTTPPasswordMgr)\n",
      "     |  Method resolution order:\n",
      "     |      HTTPPasswordMgrWithDefaultRealm\n",
      "     |      HTTPPasswordMgr\n",
      "     |      builtins.object\n",
      "     |\n",
      "     |  Methods defined here:\n",
      "     |\n",
      "     |  find_user_password(self, realm, authuri)\n",
      "     |\n",
      "     |  ----------------------------------------------------------------------\n",
      "     |  Methods inherited from HTTPPasswordMgr:\n",
      "     |\n",
      "     |  __init__(self)\n",
      "     |      Initialize self.  See help(type(self)) for accurate signature.\n",
      "     |\n",
      "     |  add_password(self, realm, uri, user, passwd)\n",
      "     |\n",
      "     |  is_suburi(self, base, test)\n",
      "     |      Check if test is below base in a URI tree\n",
      "     |\n",
      "     |      Both args must be URIs in reduced form.\n",
      "     |\n",
      "     |  reduce_uri(self, uri, default_port=True)\n",
      "     |      Accept authority or URI and extract only the authority and path.\n",
      "     |\n",
      "     |  ----------------------------------------------------------------------\n",
      "     |  Data descriptors inherited from HTTPPasswordMgr:\n",
      "     |\n",
      "     |  __dict__\n",
      "     |      dictionary for instance variables\n",
      "     |\n",
      "     |  __weakref__\n",
      "     |      list of weak references to the object\n",
      "\n",
      "    class HTTPPasswordMgrWithPriorAuth(HTTPPasswordMgrWithDefaultRealm)\n",
      "     |  HTTPPasswordMgrWithPriorAuth(*args, **kwargs)\n",
      "     |\n",
      "     |  Method resolution order:\n",
      "     |      HTTPPasswordMgrWithPriorAuth\n",
      "     |      HTTPPasswordMgrWithDefaultRealm\n",
      "     |      HTTPPasswordMgr\n",
      "     |      builtins.object\n",
      "     |\n",
      "     |  Methods defined here:\n",
      "     |\n",
      "     |  __init__(self, *args, **kwargs)\n",
      "     |      Initialize self.  See help(type(self)) for accurate signature.\n",
      "     |\n",
      "     |  add_password(self, realm, uri, user, passwd, is_authenticated=False)\n",
      "     |\n",
      "     |  is_authenticated(self, authuri)\n",
      "     |\n",
      "     |  update_authenticated(self, uri, is_authenticated=False)\n",
      "     |\n",
      "     |  ----------------------------------------------------------------------\n",
      "     |  Methods inherited from HTTPPasswordMgrWithDefaultRealm:\n",
      "     |\n",
      "     |  find_user_password(self, realm, authuri)\n",
      "     |\n",
      "     |  ----------------------------------------------------------------------\n",
      "     |  Methods inherited from HTTPPasswordMgr:\n",
      "     |\n",
      "     |  is_suburi(self, base, test)\n",
      "     |      Check if test is below base in a URI tree\n",
      "     |\n",
      "     |      Both args must be URIs in reduced form.\n",
      "     |\n",
      "     |  reduce_uri(self, uri, default_port=True)\n",
      "     |      Accept authority or URI and extract only the authority and path.\n",
      "     |\n",
      "     |  ----------------------------------------------------------------------\n",
      "     |  Data descriptors inherited from HTTPPasswordMgr:\n",
      "     |\n",
      "     |  __dict__\n",
      "     |      dictionary for instance variables\n",
      "     |\n",
      "     |  __weakref__\n",
      "     |      list of weak references to the object\n",
      "\n",
      "    class HTTPRedirectHandler(BaseHandler)\n",
      "     |  Method resolution order:\n",
      "     |      HTTPRedirectHandler\n",
      "     |      BaseHandler\n",
      "     |      builtins.object\n",
      "     |\n",
      "     |  Methods defined here:\n",
      "     |\n",
      "     |  http_error_301 = http_error_302(self, req, fp, code, msg, headers)\n",
      "     |\n",
      "     |  http_error_302(self, req, fp, code, msg, headers)\n",
      "     |      # Implementation note: To avoid the server sending us into an\n",
      "     |      # infinite loop, the request object needs to track what URLs we\n",
      "     |      # have already seen.  Do this by adding a handler-specific\n",
      "     |      # attribute to the Request object.\n",
      "     |\n",
      "     |  http_error_303 = http_error_302(self, req, fp, code, msg, headers)\n",
      "     |\n",
      "     |  http_error_307 = http_error_302(self, req, fp, code, msg, headers)\n",
      "     |\n",
      "     |  http_error_308 = http_error_302(self, req, fp, code, msg, headers)\n",
      "     |\n",
      "     |  redirect_request(self, req, fp, code, msg, headers, newurl)\n",
      "     |      Return a Request or None in response to a redirect.\n",
      "     |\n",
      "     |      This is called by the http_error_30x methods when a\n",
      "     |      redirection response is received.  If a redirection should\n",
      "     |      take place, return a new Request to allow http_error_30x to\n",
      "     |      perform the redirect.  Otherwise, raise HTTPError if no-one\n",
      "     |      else should try to handle this url.  Return None if you can't\n",
      "     |      but another Handler might.\n",
      "     |\n",
      "     |  ----------------------------------------------------------------------\n",
      "     |  Data and other attributes defined here:\n",
      "     |\n",
      "     |  inf_msg = 'The HTTP server returned a redirect error that w...n infini...\n",
      "     |\n",
      "     |  max_redirections = 10\n",
      "     |\n",
      "     |  max_repeats = 4\n",
      "     |\n",
      "     |  ----------------------------------------------------------------------\n",
      "     |  Methods inherited from BaseHandler:\n",
      "     |\n",
      "     |  __lt__(self, other)\n",
      "     |      Return self<value.\n",
      "     |\n",
      "     |  add_parent(self, parent)\n",
      "     |\n",
      "     |  close(self)\n",
      "     |\n",
      "     |  ----------------------------------------------------------------------\n",
      "     |  Data descriptors inherited from BaseHandler:\n",
      "     |\n",
      "     |  __dict__\n",
      "     |      dictionary for instance variables\n",
      "     |\n",
      "     |  __weakref__\n",
      "     |      list of weak references to the object\n",
      "     |\n",
      "     |  ----------------------------------------------------------------------\n",
      "     |  Data and other attributes inherited from BaseHandler:\n",
      "     |\n",
      "     |  handler_order = 500\n",
      "\n",
      "    class HTTPSHandler(AbstractHTTPHandler)\n",
      "     |  HTTPSHandler(debuglevel=None, context=None, check_hostname=None)\n",
      "     |\n",
      "     |  Method resolution order:\n",
      "     |      HTTPSHandler\n",
      "     |      AbstractHTTPHandler\n",
      "     |      BaseHandler\n",
      "     |      builtins.object\n",
      "     |\n",
      "     |  Methods defined here:\n",
      "     |\n",
      "     |  __init__(self, debuglevel=None, context=None, check_hostname=None)\n",
      "     |      Initialize self.  See help(type(self)) for accurate signature.\n",
      "     |\n",
      "     |  https_open(self, req)\n",
      "     |\n",
      "     |  https_request = do_request_(self, request)\n",
      "     |\n",
      "     |  ----------------------------------------------------------------------\n",
      "     |  Methods inherited from AbstractHTTPHandler:\n",
      "     |\n",
      "     |  do_open(self, http_class, req, **http_conn_args)\n",
      "     |      Return an HTTPResponse object for the request, using http_class.\n",
      "     |\n",
      "     |      http_class must implement the HTTPConnection API from http.client.\n",
      "     |\n",
      "     |  do_request_(self, request)\n",
      "     |\n",
      "     |  set_http_debuglevel(self, level)\n",
      "     |\n",
      "     |  ----------------------------------------------------------------------\n",
      "     |  Methods inherited from BaseHandler:\n",
      "     |\n",
      "     |  __lt__(self, other)\n",
      "     |      Return self<value.\n",
      "     |\n",
      "     |  add_parent(self, parent)\n",
      "     |\n",
      "     |  close(self)\n",
      "     |\n",
      "     |  ----------------------------------------------------------------------\n",
      "     |  Data descriptors inherited from BaseHandler:\n",
      "     |\n",
      "     |  __dict__\n",
      "     |      dictionary for instance variables\n",
      "     |\n",
      "     |  __weakref__\n",
      "     |      list of weak references to the object\n",
      "     |\n",
      "     |  ----------------------------------------------------------------------\n",
      "     |  Data and other attributes inherited from BaseHandler:\n",
      "     |\n",
      "     |  handler_order = 500\n",
      "\n",
      "    class OpenerDirector(builtins.object)\n",
      "     |  Methods defined here:\n",
      "     |\n",
      "     |  __init__(self)\n",
      "     |      Initialize self.  See help(type(self)) for accurate signature.\n",
      "     |\n",
      "     |  add_handler(self, handler)\n",
      "     |\n",
      "     |  close(self)\n",
      "     |\n",
      "     |  error(self, proto, *args)\n",
      "     |\n",
      "     |  open(self, fullurl, data=None, timeout=<object object at 0x104b34bb0>)\n",
      "     |\n",
      "     |  ----------------------------------------------------------------------\n",
      "     |  Data descriptors defined here:\n",
      "     |\n",
      "     |  __dict__\n",
      "     |      dictionary for instance variables\n",
      "     |\n",
      "     |  __weakref__\n",
      "     |      list of weak references to the object\n",
      "\n",
      "    class ProxyBasicAuthHandler(AbstractBasicAuthHandler, BaseHandler)\n",
      "     |  ProxyBasicAuthHandler(password_mgr=None)\n",
      "     |\n",
      "     |  Method resolution order:\n",
      "     |      ProxyBasicAuthHandler\n",
      "     |      AbstractBasicAuthHandler\n",
      "     |      BaseHandler\n",
      "     |      builtins.object\n",
      "     |\n",
      "     |  Methods defined here:\n",
      "     |\n",
      "     |  http_error_407(self, req, fp, code, msg, headers)\n",
      "     |\n",
      "     |  ----------------------------------------------------------------------\n",
      "     |  Data and other attributes defined here:\n",
      "     |\n",
      "     |  auth_header = 'Proxy-authorization'\n",
      "     |\n",
      "     |  ----------------------------------------------------------------------\n",
      "     |  Methods inherited from AbstractBasicAuthHandler:\n",
      "     |\n",
      "     |  __init__(self, password_mgr=None)\n",
      "     |      Initialize self.  See help(type(self)) for accurate signature.\n",
      "     |\n",
      "     |  http_error_auth_reqed(self, authreq, host, req, headers)\n",
      "     |\n",
      "     |  http_request(self, req)\n",
      "     |\n",
      "     |  http_response(self, req, response)\n",
      "     |\n",
      "     |  https_request = http_request(self, req)\n",
      "     |\n",
      "     |  https_response = http_response(self, req, response)\n",
      "     |\n",
      "     |  retry_http_basic_auth(self, host, req, realm)\n",
      "     |\n",
      "     |  ----------------------------------------------------------------------\n",
      "     |  Data descriptors inherited from AbstractBasicAuthHandler:\n",
      "     |\n",
      "     |  __dict__\n",
      "     |      dictionary for instance variables\n",
      "     |\n",
      "     |  __weakref__\n",
      "     |      list of weak references to the object\n",
      "     |\n",
      "     |  ----------------------------------------------------------------------\n",
      "     |  Data and other attributes inherited from AbstractBasicAuthHandler:\n",
      "     |\n",
      "     |  rx = re.compile('(?:^|,)[ \\t]*([^ \\t,]+)[ \\t]+realm=([\"\\']?)([^\"\\']*)\\...\n",
      "     |\n",
      "     |  ----------------------------------------------------------------------\n",
      "     |  Methods inherited from BaseHandler:\n",
      "     |\n",
      "     |  __lt__(self, other)\n",
      "     |      Return self<value.\n",
      "     |\n",
      "     |  add_parent(self, parent)\n",
      "     |\n",
      "     |  close(self)\n",
      "     |\n",
      "     |  ----------------------------------------------------------------------\n",
      "     |  Data and other attributes inherited from BaseHandler:\n",
      "     |\n",
      "     |  handler_order = 500\n",
      "\n",
      "    class ProxyDigestAuthHandler(BaseHandler, AbstractDigestAuthHandler)\n",
      "     |  ProxyDigestAuthHandler(passwd=None)\n",
      "     |\n",
      "     |  Method resolution order:\n",
      "     |      ProxyDigestAuthHandler\n",
      "     |      BaseHandler\n",
      "     |      AbstractDigestAuthHandler\n",
      "     |      builtins.object\n",
      "     |\n",
      "     |  Methods defined here:\n",
      "     |\n",
      "     |  http_error_407(self, req, fp, code, msg, headers)\n",
      "     |\n",
      "     |  ----------------------------------------------------------------------\n",
      "     |  Data and other attributes defined here:\n",
      "     |\n",
      "     |  auth_header = 'Proxy-Authorization'\n",
      "     |\n",
      "     |  handler_order = 490\n",
      "     |\n",
      "     |  ----------------------------------------------------------------------\n",
      "     |  Methods inherited from BaseHandler:\n",
      "     |\n",
      "     |  __lt__(self, other)\n",
      "     |      Return self<value.\n",
      "     |\n",
      "     |  add_parent(self, parent)\n",
      "     |\n",
      "     |  close(self)\n",
      "     |\n",
      "     |  ----------------------------------------------------------------------\n",
      "     |  Data descriptors inherited from BaseHandler:\n",
      "     |\n",
      "     |  __dict__\n",
      "     |      dictionary for instance variables\n",
      "     |\n",
      "     |  __weakref__\n",
      "     |      list of weak references to the object\n",
      "     |\n",
      "     |  ----------------------------------------------------------------------\n",
      "     |  Methods inherited from AbstractDigestAuthHandler:\n",
      "     |\n",
      "     |  __init__(self, passwd=None)\n",
      "     |      Initialize self.  See help(type(self)) for accurate signature.\n",
      "     |\n",
      "     |  get_algorithm_impls(self, algorithm)\n",
      "     |\n",
      "     |  get_authorization(self, req, chal)\n",
      "     |\n",
      "     |  get_cnonce(self, nonce)\n",
      "     |\n",
      "     |  get_entity_digest(self, data, chal)\n",
      "     |\n",
      "     |  http_error_auth_reqed(self, auth_header, host, req, headers)\n",
      "     |\n",
      "     |  reset_retry_count(self)\n",
      "     |\n",
      "     |  retry_http_digest_auth(self, req, auth)\n",
      "\n",
      "    class ProxyHandler(BaseHandler)\n",
      "     |  ProxyHandler(proxies=None)\n",
      "     |\n",
      "     |  Method resolution order:\n",
      "     |      ProxyHandler\n",
      "     |      BaseHandler\n",
      "     |      builtins.object\n",
      "     |\n",
      "     |  Methods defined here:\n",
      "     |\n",
      "     |  __init__(self, proxies=None)\n",
      "     |      Initialize self.  See help(type(self)) for accurate signature.\n",
      "     |\n",
      "     |  proxy_open(self, req, proxy, type)\n",
      "     |\n",
      "     |  ----------------------------------------------------------------------\n",
      "     |  Data and other attributes defined here:\n",
      "     |\n",
      "     |  handler_order = 100\n",
      "     |\n",
      "     |  ----------------------------------------------------------------------\n",
      "     |  Methods inherited from BaseHandler:\n",
      "     |\n",
      "     |  __lt__(self, other)\n",
      "     |      Return self<value.\n",
      "     |\n",
      "     |  add_parent(self, parent)\n",
      "     |\n",
      "     |  close(self)\n",
      "     |\n",
      "     |  ----------------------------------------------------------------------\n",
      "     |  Data descriptors inherited from BaseHandler:\n",
      "     |\n",
      "     |  __dict__\n",
      "     |      dictionary for instance variables\n",
      "     |\n",
      "     |  __weakref__\n",
      "     |      list of weak references to the object\n",
      "\n",
      "    class Request(builtins.object)\n",
      "     |  Request(url, data=None, headers={}, origin_req_host=None, unverifiable=False, method=None)\n",
      "     |\n",
      "     |  Methods defined here:\n",
      "     |\n",
      "     |  __init__(self, url, data=None, headers={}, origin_req_host=None, unverifiable=False, method=None)\n",
      "     |      Initialize self.  See help(type(self)) for accurate signature.\n",
      "     |\n",
      "     |  add_header(self, key, val)\n",
      "     |\n",
      "     |  add_unredirected_header(self, key, val)\n",
      "     |\n",
      "     |  get_full_url(self)\n",
      "     |\n",
      "     |  get_header(self, header_name, default=None)\n",
      "     |\n",
      "     |  get_method(self)\n",
      "     |      Return a string indicating the HTTP request method.\n",
      "     |\n",
      "     |  has_header(self, header_name)\n",
      "     |\n",
      "     |  has_proxy(self)\n",
      "     |\n",
      "     |  header_items(self)\n",
      "     |\n",
      "     |  remove_header(self, header_name)\n",
      "     |\n",
      "     |  set_proxy(self, host, type)\n",
      "     |\n",
      "     |  ----------------------------------------------------------------------\n",
      "     |  Data descriptors defined here:\n",
      "     |\n",
      "     |  __dict__\n",
      "     |      dictionary for instance variables\n",
      "     |\n",
      "     |  __weakref__\n",
      "     |      list of weak references to the object\n",
      "     |\n",
      "     |  data\n",
      "     |\n",
      "     |  full_url\n",
      "\n",
      "    class URLopener(builtins.object)\n",
      "     |  URLopener(proxies=None, **x509)\n",
      "     |\n",
      "     |  Class to open URLs.\n",
      "     |  This is a class rather than just a subroutine because we may need\n",
      "     |  more than one set of global protocol-specific options.\n",
      "     |  Note -- this is a base class for those who don't want the\n",
      "     |  automatic handling of errors type 302 (relocated) and 401\n",
      "     |  (authorization needed).\n",
      "     |\n",
      "     |  Methods defined here:\n",
      "     |\n",
      "     |  __del__(self)\n",
      "     |\n",
      "     |  __init__(self, proxies=None, **x509)\n",
      "     |      Initialize self.  See help(type(self)) for accurate signature.\n",
      "     |\n",
      "     |  addheader(self, *args)\n",
      "     |      Add a header to be used by the HTTP interface only\n",
      "     |      e.g. u.addheader('Accept', 'sound/basic')\n",
      "     |\n",
      "     |  cleanup(self)\n",
      "     |\n",
      "     |  close(self)\n",
      "     |\n",
      "     |  http_error(self, url, fp, errcode, errmsg, headers, data=None)\n",
      "     |      Handle http errors.\n",
      "     |\n",
      "     |      Derived class can override this, or provide specific handlers\n",
      "     |      named http_error_DDD where DDD is the 3-digit error code.\n",
      "     |\n",
      "     |  http_error_default(self, url, fp, errcode, errmsg, headers)\n",
      "     |      Default error handler: close the connection and raise OSError.\n",
      "     |\n",
      "     |  open(self, fullurl, data=None)\n",
      "     |      Use URLopener().open(file) instead of open(file, 'r').\n",
      "     |\n",
      "     |  open_data(self, url, data=None)\n",
      "     |      Use \"data\" URL.\n",
      "     |\n",
      "     |  open_file(self, url)\n",
      "     |      Use local file or FTP depending on form of URL.\n",
      "     |\n",
      "     |  open_ftp(self, url)\n",
      "     |      Use FTP protocol.\n",
      "     |\n",
      "     |  open_http(self, url, data=None)\n",
      "     |      Use HTTP protocol.\n",
      "     |\n",
      "     |  open_https(self, url, data=None)\n",
      "     |      Use HTTPS protocol.\n",
      "     |\n",
      "     |  open_local_file(self, url)\n",
      "     |      Use local file.\n",
      "     |\n",
      "     |  open_unknown(self, fullurl, data=None)\n",
      "     |      Overridable interface to open unknown URL type.\n",
      "     |\n",
      "     |  open_unknown_proxy(self, proxy, fullurl, data=None)\n",
      "     |      Overridable interface to open unknown URL type.\n",
      "     |\n",
      "     |  retrieve(self, url, filename=None, reporthook=None, data=None)\n",
      "     |      retrieve(url) returns (filename, headers) for a local object\n",
      "     |      or (tempfilename, headers) for a remote object.\n",
      "     |\n",
      "     |  ----------------------------------------------------------------------\n",
      "     |  Data descriptors defined here:\n",
      "     |\n",
      "     |  __dict__\n",
      "     |      dictionary for instance variables\n",
      "     |\n",
      "     |  __weakref__\n",
      "     |      list of weak references to the object\n",
      "     |\n",
      "     |  ----------------------------------------------------------------------\n",
      "     |  Data and other attributes defined here:\n",
      "     |\n",
      "     |  version = 'Python-urllib/3.12'\n",
      "\n",
      "    class UnknownHandler(BaseHandler)\n",
      "     |  Method resolution order:\n",
      "     |      UnknownHandler\n",
      "     |      BaseHandler\n",
      "     |      builtins.object\n",
      "     |\n",
      "     |  Methods defined here:\n",
      "     |\n",
      "     |  unknown_open(self, req)\n",
      "     |\n",
      "     |  ----------------------------------------------------------------------\n",
      "     |  Methods inherited from BaseHandler:\n",
      "     |\n",
      "     |  __lt__(self, other)\n",
      "     |      Return self<value.\n",
      "     |\n",
      "     |  add_parent(self, parent)\n",
      "     |\n",
      "     |  close(self)\n",
      "     |\n",
      "     |  ----------------------------------------------------------------------\n",
      "     |  Data descriptors inherited from BaseHandler:\n",
      "     |\n",
      "     |  __dict__\n",
      "     |      dictionary for instance variables\n",
      "     |\n",
      "     |  __weakref__\n",
      "     |      list of weak references to the object\n",
      "     |\n",
      "     |  ----------------------------------------------------------------------\n",
      "     |  Data and other attributes inherited from BaseHandler:\n",
      "     |\n",
      "     |  handler_order = 500\n",
      "\n",
      "FUNCTIONS\n",
      "    build_opener(*handlers)\n",
      "        Create an opener object from a list of handlers.\n",
      "\n",
      "        The opener will use several default handlers, including support\n",
      "        for HTTP, FTP and when applicable HTTPS.\n",
      "\n",
      "        If any of the handlers passed as arguments are subclasses of the\n",
      "        default handlers, the default handlers will not be used.\n",
      "\n",
      "    getproxies()\n",
      "\n",
      "    install_opener(opener)\n",
      "\n",
      "    pathname2url(pathname)\n",
      "        OS-specific conversion from a file system path to a relative URL\n",
      "        of the 'file' scheme; not recommended for general use.\n",
      "\n",
      "    url2pathname(pathname)\n",
      "        OS-specific conversion from a relative URL of the 'file' scheme\n",
      "        to a file system path; not recommended for general use.\n",
      "\n",
      "    urlcleanup()\n",
      "        Clean up temporary files from urlretrieve calls.\n",
      "\n",
      "    urlopen(url, data=None, timeout=<object object at 0x104b34bb0>, *, cafile=None, capath=None, cadefault=False, context=None)\n",
      "        Open the URL url, which can be either a string or a Request object.\n",
      "\n",
      "        *data* must be an object specifying additional data to be sent to\n",
      "        the server, or None if no such data is needed.  See Request for\n",
      "        details.\n",
      "\n",
      "        urllib.request module uses HTTP/1.1 and includes a \"Connection:close\"\n",
      "        header in its HTTP requests.\n",
      "\n",
      "        The optional *timeout* parameter specifies a timeout in seconds for\n",
      "        blocking operations like the connection attempt (if not specified, the\n",
      "        global default timeout setting will be used). This only works for HTTP,\n",
      "        HTTPS and FTP connections.\n",
      "\n",
      "        If *context* is specified, it must be a ssl.SSLContext instance describing\n",
      "        the various SSL options. See HTTPSConnection for more details.\n",
      "\n",
      "        The optional *cafile* and *capath* parameters specify a set of trusted CA\n",
      "        certificates for HTTPS requests. cafile should point to a single file\n",
      "        containing a bundle of CA certificates, whereas capath should point to a\n",
      "        directory of hashed certificate files. More information can be found in\n",
      "        ssl.SSLContext.load_verify_locations().\n",
      "\n",
      "        The *cadefault* parameter is ignored.\n",
      "\n",
      "\n",
      "        This function always returns an object which can work as a\n",
      "        context manager and has the properties url, headers, and status.\n",
      "        See urllib.response.addinfourl for more detail on these properties.\n",
      "\n",
      "        For HTTP and HTTPS URLs, this function returns a http.client.HTTPResponse\n",
      "        object slightly modified. In addition to the three new methods above, the\n",
      "        msg attribute contains the same information as the reason attribute ---\n",
      "        the reason phrase returned by the server --- instead of the response\n",
      "        headers as it is specified in the documentation for HTTPResponse.\n",
      "\n",
      "        For FTP, file, and data URLs and requests explicitly handled by legacy\n",
      "        URLopener and FancyURLopener classes, this function returns a\n",
      "        urllib.response.addinfourl object.\n",
      "\n",
      "        Note that None may be returned if no handler handles the request (though\n",
      "        the default installed global OpenerDirector uses UnknownHandler to ensure\n",
      "        this never happens).\n",
      "\n",
      "        In addition, if proxy settings are detected (for example, when a *_proxy\n",
      "        environment variable like http_proxy is set), ProxyHandler is default\n",
      "        installed and makes sure the requests are handled through the proxy.\n",
      "\n",
      "    urlretrieve(url, filename=None, reporthook=None, data=None)\n",
      "        Retrieve a URL into a temporary location on disk.\n",
      "\n",
      "        Requires a URL argument. If a filename is passed, it is used as\n",
      "        the temporary file location. The reporthook argument should be\n",
      "        a callable that accepts a block number, a read size, and the\n",
      "        total file size of the URL target. The data argument should be\n",
      "        valid URL encoded data.\n",
      "\n",
      "        If a filename is passed and the URL points to a local resource,\n",
      "        the result is a copy from local file to new file.\n",
      "\n",
      "        Returns a tuple containing the path to the newly created\n",
      "        data file as well as the resulting HTTPMessage object.\n",
      "\n",
      "DATA\n",
      "    __all__ = ['Request', 'OpenerDirector', 'BaseHandler', 'HTTPDefaultErr...\n",
      "\n",
      "VERSION\n",
      "    3.12\n",
      "\n",
      "FILE\n",
      "    /opt/anaconda3/lib/python3.12/urllib/request.py\n",
      "\n",
      "\n"
     ]
    }
   ],
   "source": [
    "import urllib.request\n",
    "\n",
    "\n",
    "help(urllib.request)"
   ]
  },
  {
   "cell_type": "code",
   "execution_count": 21,
   "id": "6c33cb07-9904-49f5-ad20-630e7d12643c",
   "metadata": {},
   "outputs": [
    {
     "name": "stdout",
     "output_type": "stream",
     "text": [
      "['findall', 'finditer']\n"
     ]
    }
   ],
   "source": [
    "#Exercise\n",
    "\n",
    "import re\n",
    "\n",
    "# Get a list of all attributes of the re module\n",
    "all_functions = dir(re)\n",
    "\n",
    "# Filter functions that contain the word \"find\"\n",
    "find_functions = [func for func in all_functions if 'find' in func]\n",
    "\n",
    "# Sort the list alphabetically\n",
    "find_functions.sort()\n",
    "\n",
    "# Print the sorted list\n",
    "print(find_functions)"
   ]
  },
  {
   "cell_type": "code",
   "execution_count": 1,
   "id": "1705167d-1fbb-4c77-bdcd-1140302196c2",
   "metadata": {},
   "outputs": [
    {
     "name": "stdout",
     "output_type": "stream",
     "text": [
      "Length of s = 30\n",
      "The first occurrence of the letter a = 13\n",
      "a occurs 2 times\n",
      "The first five characters are 'Hey t'\n",
      "The next five characters are 'here!'\n",
      "The thirteenth character is 'h'\n",
      "The characters with odd index are 'e hr!Wa r o on?'\n",
      "The last five characters are 'oing?'\n",
      "String in uppercase: HEY THERE! WHAT ARE YOU DOING?\n",
      "String in lowercase: hey there! what are you doing?\n",
      "String starts with 'Hey'. Good!\n",
      "String ends with 'doing?'. Good!\n",
      "Split the words of the string: ['Hey', 'there!', 'What', 'are', 'you', 'doing?']\n"
     ]
    }
   ],
   "source": [
    "s = \"Hey there! What are you doing?\"\n",
    "# Length should be 20\n",
    "print(\"Length of s = %d\" % len(s))\n",
    "\n",
    "# First occurrence of \"a\" should be at index 8\n",
    "print(\"The first occurrence of the letter a = %d\" % s.index(\"a\"))\n",
    "\n",
    "# Number of a's should be 2\n",
    "print(\"a occurs %d times\" % s.count(\"a\"))\n",
    "\n",
    "# Slicing the string into bits\n",
    "print(\"The first five characters are '%s'\" % s[:5]) # Start to 5\n",
    "print(\"The next five characters are '%s'\" % s[5:10]) # 5 to 10\n",
    "print(\"The thirteenth character is '%s'\" % s[12]) # Just number 12\n",
    "print(\"The characters with odd index are '%s'\" % s[1::2]) #(0-based indexing)\n",
    "print(\"The last five characters are '%s'\" % s[-5:]) # 5th-from-last to end\n",
    "\n",
    "# Convert everything to uppercase\n",
    "print(\"String in uppercase: %s\" % s.upper())\n",
    "\n",
    "# Convert everything to lowercase\n",
    "print(\"String in lowercase: %s\" % s.lower())\n",
    "\n",
    "# Check how a string starts\n",
    "if s.startswith(\"Hey\"):\n",
    "    print(\"String starts with 'Hey'. Good!\")\n",
    "\n",
    "# Check how a string ends\n",
    "if s.endswith(\"doing?\"):\n",
    "    print(\"String ends with 'doing?'. Good!\")\n",
    "\n",
    "# Split the string into words\n",
    "print(\"Split the words of the string: %s\" % s.split(\" \"))"
   ]
  },
  {
   "cell_type": "code",
   "execution_count": null,
   "id": "3b7000be-abfc-4c72-8569-4e68e1a2c1b8",
   "metadata": {},
   "outputs": [],
   "source": []
  }
 ],
 "metadata": {
  "kernelspec": {
   "display_name": "Python 3 (ipykernel)",
   "language": "python",
   "name": "python3"
  },
  "language_info": {
   "codemirror_mode": {
    "name": "ipython",
    "version": 3
   },
   "file_extension": ".py",
   "mimetype": "text/x-python",
   "name": "python",
   "nbconvert_exporter": "python",
   "pygments_lexer": "ipython3",
   "version": "3.12.4"
  }
 },
 "nbformat": 4,
 "nbformat_minor": 5
}
