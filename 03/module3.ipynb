{
 "cells": [
  {
   "cell_type": "markdown",
   "id": "bdecd487-83e0-494f-bc80-1350e82d4df5",
   "metadata": {},
   "source": [
    "Logic Gates"
   ]
  },
  {
   "cell_type": "markdown",
   "id": "43ce36db-f8cc-4a8b-8c9a-08844edecf0b",
   "metadata": {},
   "source": [
    "This code snippet is importing the `numpy` library, which is a powerful library used for numerical computing in Python. The alias `np` is commonly used as a shorthand to reference the `numpy` library more conveniently. \n",
    "\n",
    "Here's a breakdown of what this line of code does:\n",
    "\n",
    "- `import numpy as np`: This statement imports the `numpy` library and assigns it the alias `np`, allowing you to access `numpy` functions and classes using this shorter name. \n",
    "\n",
    "`numpy` is widely used for working with arrays, performing mathematical and logical operations on arrays, and applying a variety of operations to manipulate array data efficiently. It's a fundamental package for scientific computing with Python."
   ]
  },
  {
   "cell_type": "code",
   "execution_count": 3,
   "id": "8d7ee648-563b-48c8-ac3d-c7859aa34a8a",
   "metadata": {},
   "outputs": [],
   "source": [
    "# import\n",
    "import numpy as np"
   ]
  },
  {
   "cell_type": "markdown",
   "id": "a853b814-e3cc-4057-936e-55bbde650994",
   "metadata": {},
   "source": [
    "This Python code defines a class named `LogicGate` that implements several basic logic gates using NumPy arrays and simple binary thresholding:\n",
    "\n",
    "1. Importing Libraries:\n",
    "   - `import numpy as np`: The `numpy` library is imported with the alias `np` to facilitate array operations.\n",
    "\n",
    "2. Class Definition: \n",
    "   - `class LogicGate()`:\n",
    "      - This line defines a class named `LogicGate`.\n",
    "\n",
    "3. Constructor:\n",
    "   - `def __init__(self) -> None:`\n",
    "      - The constructor method initializes the `LogicGate` object. It doesn't perform any specific initialization and simply has a placeholder `pass` statement.\n",
    "\n",
    "4. AND Gate:\n",
    "   - `def and_gate(self, x1, x2) -> int:`:\n",
    "      - This method implements a basic AND gate.\n",
    "      - It takes two binary inputs `x1` and `x2`.\n",
    "      - `b = -0.7`: A bias term.\n",
    "      - `w = np.array([0.5, 0.5, 1])`: Weights for the inputs and bias.\n",
    "      - `x = np.array([x1, x2, b])`: Input array combined with the bias.\n",
    "      - `y = np.sum(x * w)`: Weighted sum of inputs.\n",
    "      - Returns `1` if the sum is greater than `0`, otherwise returns `0`.\n",
    "\n",
    "5. NAND Gate:\n",
    "   - `def nand_gate(self, x1, x2) -> int:`:\n",
    "      - Implements a basic NAND gate.\n",
    "      - `b = 0.7`, `w = np.array([-0.5, -0.5, 1])`: Bias and weights.\n",
    "      - Similar logic to the AND gate with different parameters.\n",
    "      - Returns `1` or `0` based on the weighted sum.\n",
    "\n",
    "6. OR Gate:\n",
    "   - `def or_gate(self, x1, x2) -> int:`:\n",
    "      - Implements a basic OR gate.\n",
    "      - `b = -0.9`, `w = np.array([1, 1, 1])`: Bias and weights.\n",
    "      - Same logic with different bias and weights.\n",
    "      - Returns `1` or `0` based on the weighted sum.\n",
    "\n",
    "7. NOR Gate:\n",
    "   - `def nor_gate(self, x1, x2) -> int:`:\n",
    "      - Implements a basic NOR gate.\n",
    "      - `b = 0.9`, `w = np.array([-1, -1, 1])`: Bias and weights.\n",
    "      - Same logic with different bias and weights.\n",
    "      - Returns `1` or `0` based on the weighted sum.\n",
    "\n",
    "8. XOR Gate:\n",
    "   - `def xor_gate(self, x1, x2) -> int:`:\n",
    "      - Implements a basic XOR gate using combinations of other gates.\n",
    "      - `y1 = self.or_gate(x1, x2)`: Result of OR gate on inputs.\n",
    "      - `y2 = self.nand_gate(x1, x2)`: Result of NAND gate on inputs.\n",
    "      - `return self.and_gate(y1, y2)`: Final XOR result by applying AND gate on the results of OR and NAND gates.\n",
    "\n",
    "This code effectively defines a simple neural network-like structure to simulate logic gates, using basic linear combinations and thresholding to replicate the logic gate behavior.\n"
   ]
  },
  {
   "cell_type": "code",
   "execution_count": 5,
   "id": "2130938c-93d4-4370-9ee6-75e1fdf087b7",
   "metadata": {},
   "outputs": [],
   "source": [
    "class LogicGate():\n",
    "    def __init__(self) -> None:\n",
    "        pass\n",
    "    \n",
    "    #implementing AND gate\n",
    "    def and_gate(self, x1, x2) -> int:\n",
    "        b = -0.7\n",
    "        w = np.array([0.5, 0.5, 1])\n",
    "        x = np.array([x1, x2, b])\n",
    "\n",
    "        y = np.sum(x*w)\n",
    "\n",
    "        if y > 0:\n",
    "            return 1\n",
    "        else:\n",
    "            return 0\n",
    "\n",
    "    #implementing NAND gate\n",
    "    def nand_gate(self, x1, x2) -> int:\n",
    "        b = 0.7\n",
    "        w = np.array([-0.5, -0.5, 1])\n",
    "        x = np.array([x1, x2, b])\n",
    "\n",
    "        y = np.sum(x*w)\n",
    "\n",
    "        if y > 0:\n",
    "            return 1\n",
    "        else:\n",
    "            return 0\n",
    "    \n",
    "    #implementing OR gate\n",
    "    def or_gate(self, x1, x2) -> int:\n",
    "        b = -0.9\n",
    "        w = np.array([1, 1, 1])\n",
    "        x = np.array([x1, x2, b])\n",
    "\n",
    "        y = np.sum(x*w)\n",
    "\n",
    "        if y > 0:\n",
    "            return 1\n",
    "        else:\n",
    "            return 0\n",
    "    \n",
    "    #implementing NOR gate\n",
    "    def nor_gate(self, x1, x2) -> int:\n",
    "        b = 0.9\n",
    "        w = np.array([-1, -1, 1])\n",
    "        x = np.array([x1, x2, b])\n",
    "\n",
    "        y = np.sum(x*w)\n",
    "\n",
    "        if y > 0:\n",
    "            return 1\n",
    "        else:\n",
    "            return 0\n",
    "    \n",
    "    #implementing XOR gate\n",
    "    def xor_gate(self, x1, x2) -> int:\n",
    "        y1 = self.or_gate(x1, x2)\n",
    "        y2 = self.nand_gate(x1, x2)\n",
    "        return self.and_gate(y1, y2)"
   ]
  },
  {
   "cell_type": "markdown",
   "id": "4cbeeeb7-a531-474c-a855-bccc3295d83e",
   "metadata": {},
   "source": [
    "The `test_cases` list contains input pairs that represent the possible combinations of binary inputs for testing the logic gates. Here's a detailed description:\n",
    "\n",
    "```python\n",
    "# Test cases for logic gates\n",
    "test_cases = [[0, 0], [0, 1], [1, 0], [1, 1]]\n",
    "```\n",
    "\n",
    "- `test_cases` is a list of lists, with each sub-list containing two binary values (0 or 1). These pairs represent all the possible input combinations for two-input logic gates.\n",
    "\n",
    "Specifically, the test cases are:\n",
    "\n",
    "1. [0, 0]: Both inputs are 0.\n",
    "2. [0, 1]: First input is 0, second input is 1.\n",
    "3. [1, 0]: First input is 1, second input is 0.\n",
    "4. [1, 1]: Both inputs are 1.\n",
    "\n",
    "These test cases will be used to verify the correctness of each logic gate method in the `LogicGate` class. Below is an example of how you might use the `test_cases` to test the `LogicGate` class methods:\n",
    "\n",
    "```python\n",
    "# Instantiate the LogicGate class\n",
    "lg = LogicGate()\n",
    "\n",
    "# Test each gate with the test cases\n",
    "print(\"AND Gate Results:\")\n",
    "for case in test_cases:\n",
    "    result = lg.and_gate(case[0], case[1])\n",
    "    print(f\"AND({case[0]}, {case[1]}) = {result}\")\n",
    "\n",
    "print(\"\\nNAND Gate Results:\")\n",
    "for case in test_cases:\n",
    "    result = lg.nand_gate(case[0], case[1])\n",
    "    print(f\"NAND({case[0]}, {case[1]}) = {result}\")\n",
    "\n",
    "print(\"\\nOR Gate Results:\")\n",
    "for case in test_cases:\n",
    "    result = lg.or_gate(case[0], case[1])\n",
    "    print(f\"OR({case[0]}, {case[1]}) = {result}\")\n",
    "\n",
    "print(\"\\nNOR Gate Results:\")\n",
    "for case in test_cases:\n",
    "    result = lg.nor_gate(case[0], case[1])\n",
    "    print(f\"NOR({case[0]}, {case[1]}) = {result}\")\n",
    "\n",
    "print(\"\\nXOR Gate Results:\")\n",
    "for case in test_cases:\n",
    "    result = lg.xor_gate(case[0], case[1])\n",
    "    print(f\"XOR({case[0]}, {case[1]}) = {result}\")\n",
    "```\n",
    "\n",
    "When you run this code, it will output the results of applying each logic gate function to all the combinations of inputs defined in `test_cases`. This helps ensure that the logic gate methods are working correctly.\n"
   ]
  },
  {
   "cell_type": "code",
   "execution_count": 11,
   "id": "2edc6b02-ee20-48a7-b69e-589c1dea7168",
   "metadata": {},
   "outputs": [],
   "source": [
    "#test cases\n",
    "test_cases = [[0, 0], [0, 1], [1, 0], [1, 1]]"
   ]
  },
  {
   "cell_type": "code",
   "execution_count": null,
   "id": "dc2d14f7-86dd-47d9-96f9-0c5d71efa86e",
   "metadata": {},
   "outputs": [],
   "source": []
  },
  {
   "cell_type": "markdown",
   "id": "2b5e0217-f7a4-4154-83e2-a900dbc10ecf",
   "metadata": {},
   "source": [
    "logic gate() creating"
   ]
  },
  {
   "cell_type": "code",
   "execution_count": 7,
   "id": "28496985-463d-41ec-b7f5-fd217470250c",
   "metadata": {},
   "outputs": [],
   "source": [
    "gates = LogicGate()"
   ]
  },
  {
   "cell_type": "markdown",
   "id": "6b6e1b88-c217-4b8b-b6de-b99d770ac012",
   "metadata": {},
   "source": [
    "The provided code snippet is designed to print the results of the `AND` gate for each test case defined in the `test_cases` list. However, it seems that the `gates` object should be an instance of the `LogicGate` class. Let's ensure the `LogicGate` object is instantiated properly and present the full test code to execute and print the `AND` gate results.\n",
    "\n",
    "Here's the complete code snippet:\n",
    "\n",
    "```python\n",
    "# Assuming the LogicGate class is already defined as shown above.\n",
    "\n",
    "# Instantiate the LogicGate class\n",
    "gates = LogicGate()\n",
    "\n",
    "# Test cases for logic gates\n",
    "test_cases = [[0, 0], [0, 1], [1, 0], [1, 1]]\n",
    "\n",
    "# Print results for AND Gate\n",
    "for test in test_cases:\n",
    "    y = gates.and_gate(test[0], test[1])\n",
    "    print(f\"{y}=AND({test[0]}, {test[1]})\")\n",
    "```\n",
    "\n",
    "Explanation:\n",
    "- The `gates` object is an instance of the `LogicGate` class.\n",
    "- The `test_cases` list defines all possible combinations of binary inputs.\n",
    "- The `for` loop iterates through all test cases.\n",
    "- For each test case, it calls the `and_gate` method with the respective inputs and prints the result in a formatted string displaying the input and the output of the `AND` gate.\n",
    "\n",
    "When you run this code, it will print the results for each pair of inputs processed by the `AND` gate:\n",
    "\n",
    "```plaintext\n",
    "0=AND(0, 0)\n",
    "0=AND(0, 1)\n",
    "0=AND(1, 0)\n",
    "1=AND(1, 1)\n",
    "```"
   ]
  },
  {
   "cell_type": "code",
   "execution_count": 17,
   "id": "a242f498-d114-44be-bc82-bf5728c94cc7",
   "metadata": {},
   "outputs": [
    {
     "name": "stdout",
     "output_type": "stream",
     "text": [
      "Test for AND Gate\n",
      "0=AND(0, 0)\n",
      "0=AND(0, 1)\n",
      "0=AND(1, 0)\n",
      "1=AND(1, 1)\n"
     ]
    }
   ],
   "source": [
    "print('Test for AND Gate')\n",
    "for test in test_cases:\n",
    "    y = gates.and_gate(test[0], test[1])\n",
    "    print(f\"{y}=AND({test[0]}, {test[1]})\")"
   ]
  },
  {
   "cell_type": "markdown",
   "id": "d837929c-a756-4f24-a632-c0def673ad43",
   "metadata": {},
   "source": [
    "To print the results for the `NAND` gate using the test cases, you can follow a similar structure as provided for the `AND` gate. Here's the complete code snippet, which also includes the test for the `NAND` gate:\n",
    "\n",
    "```python\n",
    "# Assuming the LogicGate class is already defined as shown above.\n",
    "\n",
    "# Instantiate the LogicGate class\n",
    "gates = LogicGate()\n",
    "\n",
    "# Test cases for logic gates\n",
    "test_cases = [[0, 0], [0, 1], [1, 0], [1, 1]]\n",
    "\n",
    "# Print results for NAND Gate\n",
    "for test in test_cases:\n",
    "    y = gates.nand_gate(test[0], test[1])\n",
    "    print(f\"{y}=NAND({test[0]}, {test[1]})\")\n",
    "```\n",
    "\n",
    "Explanation:\n",
    "- The test cases for different gates are all provided under `test_cases`.\n",
    "- A `for` loop iterates through each test case, calling the `nand_gate` method and printing the results.\n",
    "  \n",
    "When you run this code, it will output the results of applying the `NAND` gate to all the test cases, like this:\n",
    "\n",
    "```plaintext\n",
    "1=NAND(0, 0)\n",
    "1=NAND(0, 1)\n",
    "1=NAND(1, 0)\n",
    "0=NAND(1, 1)\n",
    "```\n",
    "\n",
    "This code snippet ensures that each pair of inputs from the `test_cases` list is processed by the `NAND` gate function, and the resulting output is printed clearly."
   ]
  },
  {
   "cell_type": "code",
   "execution_count": 23,
   "id": "c0ee3617-2913-4948-9c3d-38a8c4e8d943",
   "metadata": {},
   "outputs": [
    {
     "name": "stdout",
     "output_type": "stream",
     "text": [
      "Test for NAND Gate\n",
      "1=NAND(0, 0)\n",
      "1=NAND(0, 1)\n",
      "1=NAND(1, 0)\n",
      "0=NAND(1, 1)\n"
     ]
    }
   ],
   "source": [
    "print('Test for NAND Gate')\n",
    "for test in test_cases:\n",
    "    y = gates.nand_gate(test[0], test[1])\n",
    "    print(f\"{y}=NAND({test[0]}, {test[1]})\")"
   ]
  },
  {
   "cell_type": "markdown",
   "id": "d1c73fc6-f6d4-40d9-8495-24038b484259",
   "metadata": {},
   "source": [
    "To print the results for the OR gate using the test_cases, you can add the relevant code in the existing structure. Here is the complete code snippet including the tests for the AND, NAND, and OR gates"
   ]
  },
  {
   "cell_type": "code",
   "execution_count": 26,
   "id": "c478cc94-7d85-439a-8053-12b7653a1a9a",
   "metadata": {},
   "outputs": [
    {
     "name": "stdout",
     "output_type": "stream",
     "text": [
      "Test for OR Gate\n",
      "0=OR(0, 0)\n",
      "1=OR(0, 1)\n",
      "1=OR(1, 0)\n",
      "1=OR(1, 1)\n"
     ]
    }
   ],
   "source": [
    "print('Test for OR Gate')\n",
    "for test in test_cases:\n",
    "    y = gates.or_gate(test[0], test[1])\n",
    "    print(f\"{y}=OR({test[0]}, {test[1]})\")"
   ]
  },
  {
   "cell_type": "markdown",
   "id": "c88e8fe8-b134-4885-b2e2-738e3e935d84",
   "metadata": {},
   "source": [
    "Nor gate"
   ]
  },
  {
   "cell_type": "code",
   "execution_count": 29,
   "id": "f5399615-e456-493d-8a88-a2f7bcb8db34",
   "metadata": {},
   "outputs": [
    {
     "name": "stdout",
     "output_type": "stream",
     "text": [
      "Test for NOR Gate\n",
      "1=NOR(0, 0)\n",
      "0=NOR(0, 1)\n",
      "0=NOR(1, 0)\n",
      "0=NOR(1, 1)\n"
     ]
    }
   ],
   "source": [
    "print('Test for NOR Gate')\n",
    "for test in test_cases:\n",
    "    y = gates.nor_gate(test[0], test[1])\n",
    "    print(f\"{y}=NOR({test[0]}, {test[1]})\")"
   ]
  },
  {
   "cell_type": "markdown",
   "id": "1040d174-233b-4110-bc6b-572b9e75c8d9",
   "metadata": {},
   "source": [
    "XOR gate"
   ]
  },
  {
   "cell_type": "code",
   "execution_count": 34,
   "id": "7f08b96a-e7d4-4c81-a5f0-c3f22b9e720f",
   "metadata": {},
   "outputs": [
    {
     "name": "stdout",
     "output_type": "stream",
     "text": [
      "Test for XOR Gate\n",
      "0=XOR(0, 0)\n",
      "1=XOR(0, 1)\n",
      "1=XOR(1, 0)\n",
      "0=XOR(1, 1)\n"
     ]
    }
   ],
   "source": [
    "print('Test for XOR Gate')\n",
    "for test in test_cases:\n",
    "    y = gates.xor_gate(test[0], test[1])\n",
    "    print(f\"{y}=XOR({test[0]}, {test[1]})\")"
   ]
  },
  {
   "cell_type": "code",
   "execution_count": null,
   "id": "fdd40782-1b79-4af6-b717-503ed09cf7b6",
   "metadata": {},
   "outputs": [],
   "source": []
  }
 ],
 "metadata": {
  "kernelspec": {
   "display_name": "Python 3 (ipykernel)",
   "language": "python",
   "name": "python3"
  },
  "language_info": {
   "codemirror_mode": {
    "name": "ipython",
    "version": 3
   },
   "file_extension": ".py",
   "mimetype": "text/x-python",
   "name": "python",
   "nbconvert_exporter": "python",
   "pygments_lexer": "ipython3",
   "version": "3.12.4"
  }
 },
 "nbformat": 4,
 "nbformat_minor": 5
}
