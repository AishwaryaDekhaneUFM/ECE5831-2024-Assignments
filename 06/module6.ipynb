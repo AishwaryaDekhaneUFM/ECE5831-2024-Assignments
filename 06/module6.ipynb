{
 "cells": [
  {
   "cell_type": "code",
   "execution_count": 321,
   "id": "02d218cb-14d6-4461-b1c2-8ca00620564b",
   "metadata": {},
   "outputs": [],
   "source": [
    "\n",
    "import numpy as np"
   ]
  },
  {
   "cell_type": "code",
   "execution_count": 322,
   "id": "e14187fd-dab7-4d35-a030-216422436ecf",
   "metadata": {},
   "outputs": [],
   "source": [
    "def mean_squared_error(y_hat, y):\n",
    "    return np.sum((y_hat - y)**2)/y.size"
   ]
  },
  {
   "cell_type": "code",
   "execution_count": 323,
   "id": "140aaab4-b5c3-42b5-9ad5-7dec9ddb00ce",
   "metadata": {},
   "outputs": [
    {
     "data": {
      "text/plain": [
       "0.025000000000000022"
      ]
     },
     "execution_count": 323,
     "metadata": {},
     "output_type": "execute_result"
    }
   ],
   "source": [
    "y      = np.array([1,   2,   3,    4])\n",
    "y_hat1 = np.array([1.2, 1.9, 2.9,  4.2]) \n",
    "mean_squared_error(y_hat1, y)"
   ]
  },
  {
   "cell_type": "code",
   "execution_count": 324,
   "id": "de23ad33-efc4-4b4e-8f1f-068de2150682",
   "metadata": {},
   "outputs": [
    {
     "data": {
      "text/plain": [
       "1.0250000000000004"
      ]
     },
     "execution_count": 324,
     "metadata": {},
     "output_type": "execute_result"
    }
   ],
   "source": [
    "y_hat2 = np.array([2.2, 0.9, 2.9,  5.2]) \n",
    "mean_squared_error(y_hat2, y)"
   ]
  },
  {
   "cell_type": "code",
   "execution_count": 325,
   "id": "b01ebc80-9912-4270-8d2e-a8eab2fce2dc",
   "metadata": {},
   "outputs": [],
   "source": [
    "def cross_entropy_error(y_hat, y):\n",
    "    return -np.sum(y*np.log(y_hat + 1e-7))"
   ]
  },
  {
   "cell_type": "code",
   "execution_count": 326,
   "id": "679fc1d9-ee3b-499f-aac4-6c11ab1f7e3a",
   "metadata": {},
   "outputs": [],
   "source": [
    "y = np.array([0, 1, 0, 0, 0])"
   ]
  },
  {
   "cell_type": "code",
   "execution_count": 327,
   "id": "33dd36fb-88ca-4d30-a306-0fe06b66f7e7",
   "metadata": {},
   "outputs": [],
   "source": [
    "\n",
    "y_hat1 = np.array([0.1, 0.7, 0.1, 0.1, 0])"
   ]
  },
  {
   "cell_type": "code",
   "execution_count": 328,
   "id": "c7227e30-a525-4c31-986d-47fe3866697b",
   "metadata": {},
   "outputs": [
    {
     "data": {
      "text/plain": [
       "0.3566748010815999"
      ]
     },
     "execution_count": 328,
     "metadata": {},
     "output_type": "execute_result"
    }
   ],
   "source": [
    "cross_entropy_error(y_hat1, y)"
   ]
  },
  {
   "cell_type": "code",
   "execution_count": 329,
   "id": "a00e0469-a7b5-4653-b5dc-894a02d6622b",
   "metadata": {},
   "outputs": [],
   "source": [
    "y_hat2 = np.array([0.7, 0.05, 0.05, 0.2, 0])"
   ]
  },
  {
   "cell_type": "code",
   "execution_count": 330,
   "id": "3ba9a23d-7b18-4812-a147-13d2fc58be06",
   "metadata": {},
   "outputs": [
    {
     "data": {
      "text/plain": [
       "2.9957302735559908"
      ]
     },
     "execution_count": 330,
     "metadata": {},
     "output_type": "execute_result"
    }
   ],
   "source": [
    "\n",
    "cross_entropy_error(y_hat2, y)"
   ]
  },
  {
   "cell_type": "code",
   "execution_count": 331,
   "id": "cbaf9fe9-1cd8-465a-971a-eca1e5ca4117",
   "metadata": {},
   "outputs": [
    {
     "name": "stdout",
     "output_type": "stream",
     "text": [
      "File: train-images-idx3-ubyte.gz already exists locally.\n",
      "File: train-labels-idx1-ubyte.gz already exists locally.\n",
      "File: t10k-images-idx3-ubyte.gz already exists locally.\n",
      "File: t10k-labels-idx1-ubyte.gz already exists locally.\n",
      "Loading dataset from pickle: /Users/aishwaryadekhane/Desktop/My_Files/Sem-3/PRNN/HW6/06/dataset/mnist.pkl\n",
      "Dataset loaded successfully.\n"
     ]
    }
   ],
   "source": [
    "import mnist\n",
    "\n",
    "my_mnist = mnist.Mnist()"
   ]
  },
  {
   "cell_type": "code",
   "execution_count": 332,
   "id": "e5505b6b-3f62-4387-9383-87457b66de70",
   "metadata": {},
   "outputs": [],
   "source": [
    "(train_images, train_labels), (_, _) = my_mnist.load()"
   ]
  },
  {
   "cell_type": "code",
   "execution_count": 333,
   "id": "f94391b1-cc80-4cf2-9c99-9294e9e6ca0e",
   "metadata": {},
   "outputs": [],
   "source": [
    "train_size = train_images.shape[0]\n",
    "batch_size = 32"
   ]
  },
  {
   "cell_type": "code",
   "execution_count": 334,
   "id": "c053c3b7-85e9-427c-a660-e1d47f5771d0",
   "metadata": {},
   "outputs": [
    {
     "name": "stdout",
     "output_type": "stream",
     "text": [
      "[41376 13273 23998 22825 28135 31597 13549 22976 19416 28751  5022 32289\n",
      " 10581 38929 37144 51391 27421 32841 27589 29990 39044 30390 12415 16532\n",
      " 47599 22576  4829 20479 19774 38399 25304 36679]\n"
     ]
    }
   ],
   "source": [
    "batch_mask = np.random.choice(train_size, batch_size)\n",
    "print(batch_mask)"
   ]
  },
  {
   "cell_type": "code",
   "execution_count": 335,
   "id": "761c7220-b1fa-498d-9c3d-1d66a41e388a",
   "metadata": {},
   "outputs": [
    {
     "data": {
      "text/plain": [
       "60000"
      ]
     },
     "execution_count": 335,
     "metadata": {},
     "output_type": "execute_result"
    }
   ],
   "source": [
    "train_size"
   ]
  },
  {
   "cell_type": "code",
   "execution_count": 336,
   "id": "deee2252-2c92-47fd-9acd-7f53248b5d9b",
   "metadata": {},
   "outputs": [],
   "source": [
    "def cross_entropy_error(y_hat, y):\n",
    "    batch_size = 1 if y_hat.ndim == 1 else y_hat.shape[0]\n",
    "    return -np.sum(y*np.log(y_hat + 1e-7))/batch_size"
   ]
  },
  {
   "cell_type": "code",
   "execution_count": 337,
   "id": "f4f4f02a-2b3d-4559-9e0a-017b2b5c164b",
   "metadata": {},
   "outputs": [],
   "source": [
    "y_hat_batch = np.array([ [0.2, 0.2, 0.3, 0.1, 0.2], [0.1, 0.1, 0.1, 0.1, 0.6]])\n",
    "y_batch =     np.array([ [0,   0,   1,   0,    0],   [0,   0,   0,   0,   1]])"
   ]
  },
  {
   "cell_type": "code",
   "execution_count": 338,
   "id": "0d8e5e09-1be7-41c6-8c0c-0e7859e07f7e",
   "metadata": {},
   "outputs": [
    {
     "data": {
      "text/plain": [
       "1e+48"
      ]
     },
     "execution_count": 338,
     "metadata": {},
     "output_type": "execute_result"
    }
   ],
   "source": [
    "(0.1/10e-50)"
   ]
  },
  {
   "cell_type": "code",
   "execution_count": 339,
   "id": "568150bc-56d2-48fd-adaa-25bfca554bd3",
   "metadata": {},
   "outputs": [
    {
     "data": {
      "text/plain": [
       "0.8573989640459981"
      ]
     },
     "execution_count": 339,
     "metadata": {},
     "output_type": "execute_result"
    }
   ],
   "source": [
    "cross_entropy_error(y_hat_batch, y_batch)"
   ]
  },
  {
   "cell_type": "code",
   "execution_count": 340,
   "id": "edb2a618-3959-4e1a-901b-5b74fc494bb6",
   "metadata": {},
   "outputs": [],
   "source": [
    "def numerical_diff(f, x):\n",
    "    h = 10e-50\n",
    "    return (f(x + h) - f(x))/h"
   ]
  },
  {
   "cell_type": "code",
   "execution_count": 341,
   "id": "d1b53ab2-8792-4a32-b84e-aa0bacc27921",
   "metadata": {},
   "outputs": [],
   "source": [
    "def func(x):\n",
    "    return x**2 + 0.1*x"
   ]
  },
  {
   "cell_type": "code",
   "execution_count": 342,
   "id": "94cd898a-3c60-49e0-9624-15c40ecf4a6f",
   "metadata": {},
   "outputs": [
    {
     "data": {
      "text/plain": [
       "0.0"
      ]
     },
     "execution_count": 342,
     "metadata": {},
     "output_type": "execute_result"
    }
   ],
   "source": [
    "numerical_diff(func, 0.8)"
   ]
  },
  {
   "cell_type": "code",
   "execution_count": 343,
   "id": "06609d14-60ef-464e-bc77-f171dbe1f429",
   "metadata": {},
   "outputs": [],
   "source": [
    "# more reasonable approx\n",
    "def numerical_diff(f, x):\n",
    "    h = 1e-4\n",
    "    return (f(x + h) - f(x - h))/(2*h)"
   ]
  },
  {
   "cell_type": "code",
   "execution_count": 344,
   "id": "40276ec1-9151-442b-97a0-f7f06eeef008",
   "metadata": {},
   "outputs": [
    {
     "data": {
      "text/plain": [
       "1.6999999999994797"
      ]
     },
     "execution_count": 344,
     "metadata": {},
     "output_type": "execute_result"
    }
   ],
   "source": [
    "numerical_diff(func, 0.8)"
   ]
  },
  {
   "cell_type": "code",
   "execution_count": 345,
   "id": "300e4796-eeaa-4f1c-b025-e6b45f1ecd23",
   "metadata": {},
   "outputs": [
    {
     "data": {
      "text/plain": [
       "0.49999999999994493"
      ]
     },
     "execution_count": 345,
     "metadata": {},
     "output_type": "execute_result"
    }
   ],
   "source": [
    "numerical_diff(func, 0.2)"
   ]
  },
  {
   "cell_type": "code",
   "execution_count": 346,
   "id": "38c18cfd-7fb7-423e-b6da-137b0b120a56",
   "metadata": {},
   "outputs": [],
   "source": [
    "def func(x):\n",
    "    return x[0]**2 + x[1]**2\n",
    "\n",
    "def func_tmp1(x0):\n",
    "    return x0**2 + 4.0**2"
   ]
  },
  {
   "cell_type": "code",
   "execution_count": 347,
   "id": "00bfc8ca-48b6-40b4-8074-320e3d92a14b",
   "metadata": {},
   "outputs": [
    {
     "data": {
      "text/plain": [
       "6.00000000000378"
      ]
     },
     "execution_count": 347,
     "metadata": {},
     "output_type": "execute_result"
    }
   ],
   "source": [
    "\n",
    "numerical_diff(func_tmp1, 3.0)"
   ]
  },
  {
   "cell_type": "code",
   "execution_count": 348,
   "id": "414bd4f0-9ad1-4b91-a274-7a347cc2dcb8",
   "metadata": {},
   "outputs": [],
   "source": [
    "def func_tmp2(x1):\n",
    "    return 3.0**2 + x1**2"
   ]
  },
  {
   "cell_type": "code",
   "execution_count": 349,
   "id": "d1ee59a5-3226-4aa2-b84f-b9d6fb9e63d1",
   "metadata": {},
   "outputs": [
    {
     "data": {
      "text/plain": [
       "7.999999999999119"
      ]
     },
     "execution_count": 349,
     "metadata": {},
     "output_type": "execute_result"
    }
   ],
   "source": [
    "numerical_diff(func_tmp2, 4.0)"
   ]
  },
  {
   "cell_type": "markdown",
   "id": "79dba4af-44d5-46f5-8683-62e627646d36",
   "metadata": {},
   "source": [
    "## Numerical Gradient"
   ]
  },
  {
   "cell_type": "code",
   "execution_count": 351,
   "id": "6d5e5178-dd87-4d9e-8d77-7293b8df1896",
   "metadata": {},
   "outputs": [],
   "source": [
    "import numpy as np"
   ]
  },
  {
   "cell_type": "code",
   "execution_count": 352,
   "id": "a9cd3839-a55a-432b-a9b5-b887b27383f7",
   "metadata": {},
   "outputs": [],
   "source": [
    "def func2(x):\n",
    "    return x[0]**2 + x[1]**2"
   ]
  },
  {
   "cell_type": "code",
   "execution_count": 353,
   "id": "423345aa-bc8b-4ea2-bb2d-957cc6eababf",
   "metadata": {},
   "outputs": [],
   "source": [
    "# partial derivatives when x0 = 3, x1 = 4\n",
    "\n",
    "def func_tmp1(x0):\n",
    "    return x0**2 + 4**2\n",
    "\n",
    "def func_tmp2(x1):\n",
    "    return 3**2 + x1**2"
   ]
  },
  {
   "cell_type": "code",
   "execution_count": 354,
   "id": "421c780d-1003-49d7-82bd-ec55b628c03a",
   "metadata": {},
   "outputs": [],
   "source": [
    "def _numerical_diff(f, x):\n",
    "    h = 1e-4\n",
    "    return (f(x + h) - f(x - h))/(2*h)"
   ]
  },
  {
   "cell_type": "code",
   "execution_count": 355,
   "id": "75e97dc6-5764-4d4d-88a9-f807e7773a68",
   "metadata": {},
   "outputs": [],
   "source": [
    "def _numerical_gradient(f, x):\n",
    "    h = 1e-4 # 0.0001\n",
    "    grad = np.zeros_like(x) \n",
    "    \n",
    "    for idx in range(x.size):\n",
    "        tmp_val = x[idx]\n",
    "        \n",
    "        # f(x+h) \n",
    "        x[idx] = float(tmp_val) + h\n",
    "        fxh1 = f(x)\n",
    "        \n",
    "        # f(x-h) \n",
    "        x[idx] = tmp_val - h \n",
    "        fxh2 = f(x) \n",
    "        \n",
    "        grad[idx] = (fxh1 - fxh2) / (2*h)\n",
    "        x[idx] = tmp_val \n",
    "        \n",
    "    return grad"
   ]
  },
  {
   "cell_type": "code",
   "execution_count": 356,
   "id": "1eefa573-04e4-4780-88ba-b102ed911224",
   "metadata": {},
   "outputs": [
    {
     "data": {
      "text/plain": [
       "6.00000000000378"
      ]
     },
     "execution_count": 356,
     "metadata": {},
     "output_type": "execute_result"
    }
   ],
   "source": [
    "_numerical_diff(func_tmp1, 3.0)"
   ]
  },
  {
   "cell_type": "code",
   "execution_count": 357,
   "id": "faba983c-6ef4-47ee-bd05-de23bcf58b30",
   "metadata": {},
   "outputs": [
    {
     "data": {
      "text/plain": [
       "7.999999999999119"
      ]
     },
     "execution_count": 357,
     "metadata": {},
     "output_type": "execute_result"
    }
   ],
   "source": [
    "_numerical_diff(func_tmp2, 4.0)"
   ]
  },
  {
   "cell_type": "code",
   "execution_count": 358,
   "id": "4311edfb-0ce9-4de9-801d-4d01b596e26f",
   "metadata": {},
   "outputs": [
    {
     "data": {
      "text/plain": [
       "array([6., 8.])"
      ]
     },
     "execution_count": 358,
     "metadata": {},
     "output_type": "execute_result"
    }
   ],
   "source": [
    "_numerical_gradient(func2, np.array([3.0, 4.0]))"
   ]
  },
  {
   "cell_type": "code",
   "execution_count": 359,
   "id": "493e685b-2b2c-471e-9f1d-0637cb9b3b4f",
   "metadata": {},
   "outputs": [],
   "source": [
    "def gradient_descent(f, init_x, lr=0.1, step_num = 100):\n",
    "    x = init_x\n",
    "    for i in range(step_num):\n",
    "        grad = _numerical_gradient(f, x)\n",
    "        x -= lr*grad  # x = x - lr*grad\n",
    "\n",
    "    return x"
   ]
  },
  {
   "cell_type": "code",
   "execution_count": 360,
   "id": "08659c24-e3c7-49f4-b2e8-675649b5044b",
   "metadata": {},
   "outputs": [
    {
     "data": {
      "text/plain": [
       "array([5.65680105e-06, 2.02028609e-06])"
      ]
     },
     "execution_count": 360,
     "metadata": {},
     "output_type": "execute_result"
    }
   ],
   "source": [
    "init_x = np.array([2800.0, 1000.0])\n",
    "# func2 = x0**2 + x1**2\n",
    "gradient_descent(func2, init_x, step_num=10000, lr=0.001)"
   ]
  },
  {
   "cell_type": "markdown",
   "id": "8a900b8e-69f7-4619-92ef-0ccd7ac20cf4",
   "metadata": {},
   "source": [
    "## SimpleNet"
   ]
  },
  {
   "cell_type": "code",
   "execution_count": 362,
   "id": "8f4f06b2-9775-4485-8699-4d9fdcf8c279",
   "metadata": {},
   "outputs": [],
   "source": [
    "class SimpleNet:\n",
    "    def __init__(self):\n",
    "        self.w = np.random.randn(2, 3)\n",
    "\n",
    "\n",
    "    # for multi-dimensional x\n",
    "    def softmax(self, x):\n",
    "        if x.ndim == 2:\n",
    "            x = x.T\n",
    "            x = x - np.max(x, axis=0)\n",
    "            y = np.exp(x) / np.sum(np.exp(x), axis=0)\n",
    "            return y.T \n",
    "\n",
    "        x = x - np.max(x)  \n",
    "        return np.exp(x) / np.sum(np.exp(x))\n",
    "\n",
    "\n",
    "    def cross_entroy_error(self, y, t):\n",
    "        delta = 1e-7\n",
    "        batch_size = 1 if y.ndim == 1 else y.shape[0]\n",
    "\n",
    "        return -np.sum(t*np.log(y + delta)) / batch_size\n",
    "\n",
    "\n",
    "    # for multi-dimensional x\n",
    "    def numerical_gradient(self, f, x):\n",
    "        h = 1e-4 # 0.0001\n",
    "        grad = np.zeros_like(x)\n",
    "        \n",
    "        it = np.nditer(x, flags=['multi_index'], op_flags=['readwrite'])\n",
    "        while not it.finished:\n",
    "            idx = it.multi_index\n",
    "            tmp_val = x[idx]\n",
    "            x[idx] = float(tmp_val) + h\n",
    "            fxh1 = f(x) # f(x+h)\n",
    "            \n",
    "            x[idx] = tmp_val - h \n",
    "            fxh2 = f(x) # f(x-h)\n",
    "            grad[idx] = (fxh1 - fxh2) / (2*h)\n",
    "            \n",
    "            x[idx] = tmp_val \n",
    "            it.iternext()   \n",
    "            \n",
    "        return grad\n",
    "\n",
    "\n",
    "    def predict(self, x):\n",
    "        return np.dot(x, self.w)\n",
    "    \n",
    "\n",
    "    def loss(self, x, y):\n",
    "        z = self.predict(x)\n",
    "        y_hat = self.softmax(z)\n",
    "        loss = self.cross_entroy_error(y_hat, y)\n",
    "\n",
    "        return loss"
   ]
  },
  {
   "cell_type": "code",
   "execution_count": 363,
   "id": "c823fee2-e463-43c4-9fcb-25e7c7701440",
   "metadata": {},
   "outputs": [
    {
     "name": "stdout",
     "output_type": "stream",
     "text": [
      "[[-0.1988396   0.14299547  0.86231077]\n",
      " [-0.90436627  0.14081144 -0.65060149]]\n"
     ]
    }
   ],
   "source": [
    "net = SimpleNet()\n",
    "print(net.w)"
   ]
  },
  {
   "cell_type": "code",
   "execution_count": 364,
   "id": "2eca269a-c993-4602-a545-7703d5b37c3f",
   "metadata": {},
   "outputs": [
    {
     "name": "stdout",
     "output_type": "stream",
     "text": [
      "[-0.31101731  0.126851    0.48000326]\n"
     ]
    }
   ],
   "source": [
    "x = np.array([0.7, 0.19])\n",
    "p = net.predict(x)\n",
    "print(p)"
   ]
  },
  {
   "cell_type": "code",
   "execution_count": 365,
   "id": "30209419-dc91-4bd0-a11a-1708809360ce",
   "metadata": {},
   "outputs": [
    {
     "data": {
      "text/plain": [
       "2"
      ]
     },
     "execution_count": 365,
     "metadata": {},
     "output_type": "execute_result"
    }
   ],
   "source": [
    "np.argmax(p)"
   ]
  },
  {
   "cell_type": "code",
   "execution_count": 366,
   "id": "b475e1c1-d68a-41a5-a788-21c271c97652",
   "metadata": {},
   "outputs": [
    {
     "data": {
      "text/plain": [
       "1.1213379903239098"
      ]
     },
     "execution_count": 366,
     "metadata": {},
     "output_type": "execute_result"
    }
   ],
   "source": [
    "y = np.array([0, 1, 0])\n",
    "net.loss(x, y)"
   ]
  },
  {
   "cell_type": "code",
   "execution_count": 367,
   "id": "49b5aaa4-5a9b-43f6-99f1-76808acde0bb",
   "metadata": {},
   "outputs": [
    {
     "data": {
      "text/plain": [
       "0.7681858291598309"
      ]
     },
     "execution_count": 367,
     "metadata": {},
     "output_type": "execute_result"
    }
   ],
   "source": [
    "y = np.array([0, 0, 1])\n",
    "net.loss(x, y)"
   ]
  },
  {
   "cell_type": "code",
   "execution_count": 368,
   "id": "32b6b152-5420-472b-8a89-1d5c0da2ce82",
   "metadata": {},
   "outputs": [],
   "source": [
    "def loss_function(w):\n",
    "    return net.loss(x, y)"
   ]
  },
  {
   "cell_type": "code",
   "execution_count": 369,
   "id": "0b836c8e-696e-4121-9303-e439b7fda9a6",
   "metadata": {},
   "outputs": [
    {
     "name": "stdout",
     "output_type": "stream",
     "text": [
      "[[ 0.14721197  0.22809035 -0.37530232]\n",
      " [ 0.03995753  0.06191024 -0.10186777]]\n"
     ]
    }
   ],
   "source": [
    "dw = net.numerical_gradient(loss_function, net.w)\n",
    "print(dw)"
   ]
  },
  {
   "cell_type": "code",
   "execution_count": 370,
   "id": "f7636d1b-a37d-41ba-ac08-ccc5dba59ee1",
   "metadata": {},
   "outputs": [],
   "source": [
    "# using lamda\n",
    "loss_function = lambda w: net.loss(x, y)"
   ]
  },
  {
   "cell_type": "code",
   "execution_count": 371,
   "id": "f23c614e-8d19-455e-bf4c-3aaa8213700f",
   "metadata": {},
   "outputs": [
    {
     "name": "stdout",
     "output_type": "stream",
     "text": [
      "[[ 0.14721197  0.22809035 -0.37530232]\n",
      " [ 0.03995753  0.06191024 -0.10186777]]\n"
     ]
    }
   ],
   "source": [
    "dw = net.numerical_gradient(loss_function, net.w)\n",
    "print(dw)"
   ]
  },
  {
   "cell_type": "markdown",
   "id": "70832a5a-09ea-46a4-ae77-51fe07d5bd8e",
   "metadata": {},
   "source": [
    "# TwoLayerNet class"
   ]
  },
  {
   "cell_type": "code",
   "execution_count": 373,
   "id": "87af154b-5b07-4e37-b367-746573f4a1e8",
   "metadata": {},
   "outputs": [],
   "source": [
    "class Activations:\n",
    "    def sigmoid(self, x):\n",
    "        return 1/(1 + np.exp(-x))\n",
    "    \n",
    "    # for multi-dimensional x\n",
    "    def softmax(self, x):\n",
    "        if x.ndim == 2:\n",
    "            x = x.T\n",
    "            x = x - np.max(x, axis=0)\n",
    "            y = np.exp(x) / np.sum(np.exp(x), axis=0)\n",
    "            return y.T \n",
    "\n",
    "        x = x - np.max(x)  \n",
    "        return np.exp(x) / np.sum(np.exp(x))"
   ]
  },
  {
   "cell_type": "code",
   "execution_count": 374,
   "id": "97933fb9-3748-4f74-b0c9-874c570409c9",
   "metadata": {},
   "outputs": [],
   "source": [
    "class Errors:\n",
    "    def cross_entroy_error(self, y, t):\n",
    "        delta = 1e-7\n",
    "        batch_size = 1 if y.ndim == 1 else y.shape[0]\n",
    "\n",
    "        return -np.sum(t*np.log(y + delta)) / batch_size"
   ]
  },
  {
   "cell_type": "code",
   "execution_count": 375,
   "id": "9ab55c47-dc5b-4f39-a277-98cf165e893d",
   "metadata": {},
   "outputs": [],
   "source": [
    "import activations\n",
    "import errors"
   ]
  },
  {
   "cell_type": "code",
   "execution_count": 376,
   "id": "723e2c43-df2d-4107-90ce-d39bcde22dbb",
   "metadata": {},
   "outputs": [],
   "source": [
    "class TwoLayerNet:\n",
    "    def __init__(self, input_size, hidden_size, output_size, weight_init_std=0.01):\n",
    "        self.params = {}\n",
    "\n",
    "        self.params['w1'] = weight_init_std*np.random.randn(input_size, hidden_size)\n",
    "        self.params['b1'] = np.zeros(hidden_size)\n",
    "\n",
    "        self.params['w2'] = weight_init_std*np.random.randn(hidden_size, output_size)\n",
    "        self.params['b2'] = np.zeros(output_size)\n",
    "\n",
    "        self.activations = activations.Activations()\n",
    "        self.errors = errors.Errors()\n",
    "\n",
    "    def predict(self, x):\n",
    "        w1, w2 = self.params['w1'], self.params['w2']\n",
    "        b1, b2 = self.params['b1'], self.params['b2']\n",
    "        \n",
    "        a1 = np.dot(x, w1) + b1\n",
    "        z1 = self.activations.sigmoid(a1)\n",
    "        a2 = np.dot(z1, w2) + b2\n",
    "        y = self.activations.softmax(a2)\n",
    "\n",
    "        return y\n",
    "    \n",
    "    def loss(self, x, y):\n",
    "        y_hat = self.predict(x)\n",
    "\n",
    "        return self.errors.cross_entropy_error(y_hat, y)\n",
    "    \n",
    "\n",
    "    def accuracy(self, x, y):\n",
    "        y_hat = self.predict(x)\n",
    "        p = np.argmax(y_hat, axis=1)\n",
    "        y_p = np.argmax(y, axis=1)\n",
    "\n",
    "        return np.sum(p == y_p)/float(x.shape[0])\n",
    "    \n",
    "\n",
    "    # for multi-dimensional x\n",
    "    def _numerical_gradient(self, f, x):\n",
    "        h = 1e-4 # 0.0001\n",
    "        grad = np.zeros_like(x)\n",
    "        \n",
    "        it = np.nditer(x, flags=['multi_index'], op_flags=['readwrite'])\n",
    "        while not it.finished:\n",
    "            idx = it.multi_index\n",
    "            tmp_val = x[idx]\n",
    "            x[idx] = float(tmp_val) + h\n",
    "            fxh1 = f(x) # f(x+h)\n",
    "            \n",
    "            x[idx] = tmp_val - h \n",
    "            fxh2 = f(x) # f(x-h)\n",
    "            grad[idx] = (fxh1 - fxh2) / (2*h)\n",
    "            \n",
    "            x[idx] = tmp_val \n",
    "            it.iternext()   \n",
    "            \n",
    "        return grad\n",
    "    \n",
    "\n",
    "    def numerical_gradient(self, x, y):\n",
    "        loss_w = lambda w: self.loss(x, y)\n",
    "\n",
    "        grads = {}\n",
    "        grads['w1'] = self._numerical_gradient(loss_w, self.params['w1'])\n",
    "        grads['b1'] = self._numerical_gradient(loss_w, self.params['b1'])\n",
    "        grads['w2'] = self._numerical_gradient(loss_w, self.params['w2'])\n",
    "        grads['b2'] = self._numerical_gradient(loss_w, self.params['b2'])\n",
    "\n",
    "        return grads\n",
    "    "
   ]
  },
  {
   "cell_type": "code",
   "execution_count": null,
   "id": "9d061918-2159-4337-80e6-5060f88ef61c",
   "metadata": {},
   "outputs": [],
   "source": []
  },
  {
   "cell_type": "code",
   "execution_count": null,
   "id": "2b01c323-e888-4226-bcff-2d59489a0466",
   "metadata": {},
   "outputs": [],
   "source": []
  },
  {
   "cell_type": "markdown",
   "id": "97cdc420-36cf-4507-8956-34bedf85676f",
   "metadata": {},
   "source": [
    "# Train TwoLayerNet"
   ]
  },
  {
   "cell_type": "code",
   "execution_count": 378,
   "id": "4d62f16f-8c84-4b6d-8b54-58e8f6f7feab",
   "metadata": {},
   "outputs": [],
   "source": [
    "import mnist\n",
    "from two_layer_net import TwoLayerNet\n",
    "\n",
    "import matplotlib.pyplot as plt\n",
    "import numpy as np"
   ]
  },
  {
   "cell_type": "code",
   "execution_count": 379,
   "id": "239fdb2e-64b2-4db2-a14c-d239e4213826",
   "metadata": {},
   "outputs": [
    {
     "name": "stdout",
     "output_type": "stream",
     "text": [
      "File: train-images-idx3-ubyte.gz already exists locally.\n",
      "File: train-labels-idx1-ubyte.gz already exists locally.\n",
      "File: t10k-images-idx3-ubyte.gz already exists locally.\n",
      "File: t10k-labels-idx1-ubyte.gz already exists locally.\n",
      "Loading dataset from pickle: /Users/aishwaryadekhane/Desktop/My_Files/Sem-3/PRNN/HW6/06/dataset/mnist.pkl\n",
      "Dataset loaded successfully.\n"
     ]
    }
   ],
   "source": [
    "my_mnist = mnist.Mnist()"
   ]
  },
  {
   "cell_type": "code",
   "execution_count": 380,
   "id": "57e206cd-e98e-427a-b5e1-25319e707e41",
   "metadata": {},
   "outputs": [],
   "source": [
    "(x_train, y_train), (x_test, y_test) = my_mnist.load()"
   ]
  },
  {
   "cell_type": "code",
   "execution_count": 381,
   "id": "09e47635-2fa0-4e23-87fb-82d3d444e94c",
   "metadata": {},
   "outputs": [
    {
     "name": "stdout",
     "output_type": "stream",
     "text": [
      "(60000, 784)\n",
      "(60000, 10)\n",
      "(10000, 784)\n",
      "(10000, 10)\n"
     ]
    }
   ],
   "source": [
    "print(x_train.shape)\n",
    "print(y_train.shape)\n",
    "print(x_test.shape)\n",
    "print(y_test.shape)"
   ]
  },
  {
   "cell_type": "code",
   "execution_count": 382,
   "id": "ea3d7a75-f114-4258-a7aa-ceb5dc15ee6e",
   "metadata": {},
   "outputs": [],
   "source": [
    "network = TwoLayerNet(input_size=28*28, hidden_size=100, output_size=10)"
   ]
  },
  {
   "cell_type": "code",
   "execution_count": 383,
   "id": "44ec4107-c888-42c8-b5b8-c5eba940bc68",
   "metadata": {},
   "outputs": [
    {
     "data": {
      "text/plain": [
       "{'w1': array([[ 0.01277634,  0.00902699,  0.02844181, ...,  0.01060857,\n",
       "         -0.00534211,  0.0100141 ],\n",
       "        [-0.01772073,  0.00551563,  0.01467955, ...,  0.00260196,\n",
       "         -0.01604172, -0.01036561],\n",
       "        [ 0.00539491,  0.00222672, -0.01364071, ...,  0.00832692,\n",
       "         -0.000104  ,  0.00262404],\n",
       "        ...,\n",
       "        [-0.02053311, -0.0082245 , -0.01384812, ...,  0.00095653,\n",
       "         -0.00181294, -0.00642946],\n",
       "        [ 0.00479824, -0.00801507,  0.00357133, ...,  0.01043009,\n",
       "          0.01265405, -0.0038007 ],\n",
       "        [-0.01396166, -0.00585727,  0.00072895, ...,  0.00274195,\n",
       "         -0.00222377, -0.01348624]]),\n",
       " 'b1': array([0., 0., 0., 0., 0., 0., 0., 0., 0., 0., 0., 0., 0., 0., 0., 0., 0.,\n",
       "        0., 0., 0., 0., 0., 0., 0., 0., 0., 0., 0., 0., 0., 0., 0., 0., 0.,\n",
       "        0., 0., 0., 0., 0., 0., 0., 0., 0., 0., 0., 0., 0., 0., 0., 0., 0.,\n",
       "        0., 0., 0., 0., 0., 0., 0., 0., 0., 0., 0., 0., 0., 0., 0., 0., 0.,\n",
       "        0., 0., 0., 0., 0., 0., 0., 0., 0., 0., 0., 0., 0., 0., 0., 0., 0.,\n",
       "        0., 0., 0., 0., 0., 0., 0., 0., 0., 0., 0., 0., 0., 0., 0.]),\n",
       " 'w2': array([[ 3.16099559e-04, -1.35256683e-02,  9.99814390e-03,\n",
       "          1.73052455e-03,  3.77417287e-03,  2.91956262e-03,\n",
       "          2.02726671e-03, -2.27338625e-03,  1.07805522e-02,\n",
       "          1.40119899e-02],\n",
       "        [-3.26465452e-03, -1.25864901e-02, -1.02536742e-02,\n",
       "          7.38947647e-03, -9.00691897e-03, -1.34000901e-02,\n",
       "          9.55279557e-03,  1.19294862e-02,  1.11313654e-03,\n",
       "         -6.42087115e-03],\n",
       "        [-1.85104077e-03,  1.83123113e-02,  1.79135641e-03,\n",
       "         -7.21030707e-03,  1.45450316e-02,  1.47048028e-02,\n",
       "          1.32867668e-02,  9.67470125e-03, -8.10527534e-03,\n",
       "         -1.35256086e-02],\n",
       "        [ 1.03094547e-02, -2.03577962e-02, -7.93490531e-03,\n",
       "          1.41295714e-03,  5.97141538e-03, -1.04691427e-02,\n",
       "         -9.27850830e-03,  1.98891840e-04,  5.30884882e-03,\n",
       "         -4.43614619e-03],\n",
       "        [-7.00271779e-03, -7.17538750e-03,  1.07227535e-02,\n",
       "          1.15711361e-02, -2.12302248e-03, -1.20468802e-03,\n",
       "          4.63447760e-03, -3.92418883e-03, -7.07806021e-03,\n",
       "         -1.00720788e-02],\n",
       "        [ 1.54871218e-02, -4.09000586e-03, -7.21593350e-03,\n",
       "          9.25868190e-03, -5.33511493e-03,  7.83809607e-03,\n",
       "          1.00181148e-02, -1.26221382e-02,  2.37424504e-03,\n",
       "          1.40986625e-02],\n",
       "        [ 1.09896801e-02,  6.81509700e-04,  1.35861343e-03,\n",
       "          6.60978283e-03, -4.70005667e-03, -1.35182542e-02,\n",
       "         -8.79199811e-03,  5.75183418e-03, -5.66627898e-03,\n",
       "          2.11868090e-03],\n",
       "        [ 7.45427969e-03, -1.92461614e-02, -2.25012460e-03,\n",
       "          9.92597623e-03,  5.93843452e-03, -3.09854969e-02,\n",
       "          1.20576841e-02,  7.32550684e-03,  2.54316390e-03,\n",
       "          5.39969179e-03],\n",
       "        [-1.34155122e-02,  9.83620786e-03,  6.54853734e-03,\n",
       "         -8.33659045e-03, -1.30249360e-02,  1.49783295e-02,\n",
       "          1.25484380e-03, -1.85854705e-02,  9.93558654e-03,\n",
       "          1.11947859e-02],\n",
       "        [-2.48014726e-02, -1.40756196e-02,  1.73397525e-02,\n",
       "         -5.61661361e-03,  4.33343542e-03, -5.56923573e-03,\n",
       "         -1.46606608e-02,  2.31635736e-02,  2.41632862e-02,\n",
       "         -1.35424980e-03],\n",
       "        [-9.28337585e-03,  1.69176854e-02, -8.08645673e-03,\n",
       "         -1.01714725e-02, -1.28947100e-02,  6.96451353e-03,\n",
       "         -1.01066553e-02,  2.96392630e-03, -1.85583771e-02,\n",
       "          1.10920037e-02],\n",
       "        [ 1.16175634e-03, -2.41789488e-03, -1.11851566e-04,\n",
       "         -7.21480317e-03, -4.22150870e-03,  1.39945431e-02,\n",
       "         -3.95466369e-03,  7.05352337e-03,  8.32008674e-03,\n",
       "         -2.03663460e-02],\n",
       "        [-1.74449937e-02,  1.90682651e-02, -1.20362935e-02,\n",
       "         -1.18414142e-02,  5.29512312e-03, -3.85992929e-03,\n",
       "          4.36097622e-03, -1.45041788e-02, -4.50639238e-04,\n",
       "         -5.21181329e-03],\n",
       "        [-5.03254082e-03,  1.97569578e-02, -6.01908481e-03,\n",
       "          2.96569619e-03, -1.45552373e-02,  1.69266895e-03,\n",
       "         -8.10919808e-03, -8.13423515e-05,  1.22400509e-02,\n",
       "         -3.64752014e-03],\n",
       "        [ 7.17893726e-03,  1.11685947e-02,  2.62835538e-03,\n",
       "         -5.72872048e-03,  9.26686381e-03, -9.02602842e-04,\n",
       "         -6.47573239e-03,  1.00558426e-02,  7.62909308e-04,\n",
       "         -2.45472697e-03],\n",
       "        [-1.37664268e-02,  9.33792954e-03, -6.42441444e-03,\n",
       "         -1.52454594e-02,  1.56524955e-02,  1.46528281e-02,\n",
       "         -1.19068381e-02,  1.95156606e-02, -3.06511798e-03,\n",
       "          1.24492065e-02],\n",
       "        [ 1.84752332e-02,  2.40401580e-02,  4.22517353e-03,\n",
       "         -2.02148636e-03, -3.30659646e-04, -1.64335537e-03,\n",
       "          1.03376709e-02,  1.13408177e-02, -4.63085571e-04,\n",
       "         -1.20486688e-02],\n",
       "        [-2.48599055e-03, -5.99210521e-03, -4.72405806e-03,\n",
       "         -5.05799953e-03, -1.34619985e-02,  1.20056187e-02,\n",
       "         -2.19041764e-03, -8.32509845e-03, -9.21300130e-03,\n",
       "         -2.26571289e-02],\n",
       "        [ 1.39242826e-03, -1.32653410e-03,  4.88414126e-03,\n",
       "          8.03082040e-03, -8.73201568e-03, -5.25521320e-03,\n",
       "         -1.78375684e-02,  1.48262897e-02, -3.69056409e-04,\n",
       "         -2.76366796e-03],\n",
       "        [-1.93246256e-02,  9.04634725e-03, -5.89295839e-03,\n",
       "         -4.79231280e-03,  7.40301986e-03, -1.10176569e-02,\n",
       "          8.30785155e-03, -5.25757615e-03, -1.24850435e-02,\n",
       "         -8.62401278e-03],\n",
       "        [-1.06301487e-02,  1.22464855e-02, -1.24415643e-02,\n",
       "         -1.08513432e-02, -1.25952154e-02, -5.61241884e-04,\n",
       "          9.92494066e-03, -3.54881832e-05,  1.50775377e-03,\n",
       "          1.15726800e-03],\n",
       "        [ 4.92640852e-03, -1.76946653e-02, -2.23404739e-03,\n",
       "         -1.21903811e-02, -8.97374090e-03, -1.69022248e-03,\n",
       "          4.05703396e-04,  1.11729632e-02, -2.27846412e-02,\n",
       "         -1.35094250e-02],\n",
       "        [ 1.07757892e-02,  3.21962689e-03,  5.53413220e-03,\n",
       "          8.32498870e-03,  1.20178273e-03,  1.32431757e-02,\n",
       "         -2.48911861e-02,  4.59398572e-03,  9.39688601e-03,\n",
       "          5.02716685e-03],\n",
       "        [ 2.63489618e-03,  4.47119675e-03,  5.86294493e-03,\n",
       "          5.70745620e-03,  8.21582520e-03,  1.71435084e-02,\n",
       "          1.93123670e-02, -1.10672683e-02, -1.41864830e-02,\n",
       "          3.43147155e-03],\n",
       "        [ 1.40504020e-02, -5.68933417e-03,  1.36718409e-02,\n",
       "         -1.09235700e-02,  9.05418785e-03,  8.72808112e-03,\n",
       "          2.70524236e-03,  2.02272580e-02,  1.97116196e-02,\n",
       "         -1.40524462e-02],\n",
       "        [-1.11642028e-02,  1.19742264e-03, -1.75677605e-02,\n",
       "          1.31359417e-02,  9.33038350e-03, -1.37086655e-02,\n",
       "         -5.27676958e-03, -3.21602041e-03, -1.21633469e-03,\n",
       "         -1.21041006e-02],\n",
       "        [ 3.24760093e-03, -8.01214295e-03, -2.65335935e-03,\n",
       "         -1.00666989e-02, -1.53122361e-02, -5.14588125e-04,\n",
       "         -6.19085003e-04,  2.27109398e-03, -4.51631919e-03,\n",
       "          3.72895375e-03],\n",
       "        [-1.62400160e-03,  2.80695727e-03, -9.83459566e-03,\n",
       "          7.24438308e-03,  3.54870594e-03,  9.43229487e-03,\n",
       "          5.45203508e-03,  1.08005984e-02, -6.56712113e-04,\n",
       "         -8.96070558e-03],\n",
       "        [-6.31945739e-03, -4.45330407e-03,  8.15230135e-03,\n",
       "          2.52392786e-04, -5.01542135e-03, -4.16959286e-03,\n",
       "          8.67529052e-03, -7.12755166e-03,  8.23260636e-03,\n",
       "         -9.33374063e-03],\n",
       "        [-1.41172305e-02, -6.72603680e-03, -8.30356122e-03,\n",
       "          5.18530646e-04, -4.14388624e-03, -1.24976975e-02,\n",
       "         -1.43414371e-02, -1.07425280e-02, -9.51738775e-03,\n",
       "         -8.19035088e-03],\n",
       "        [ 5.52385449e-03,  6.11656166e-03, -2.81092223e-03,\n",
       "          1.07304719e-02, -1.99487519e-02, -6.36130596e-03,\n",
       "         -1.17262900e-02,  9.87391369e-03, -4.50834042e-03,\n",
       "         -1.21169649e-02],\n",
       "        [-8.05699475e-03, -4.88421531e-04,  8.60501039e-03,\n",
       "          1.13681811e-02,  1.16231437e-02, -4.04233901e-03,\n",
       "         -1.06393382e-03, -1.23472343e-02,  6.29550458e-04,\n",
       "         -9.38817846e-03],\n",
       "        [-9.58696212e-03,  5.36468572e-03,  8.41683800e-03,\n",
       "         -6.37902587e-03,  5.61254798e-03,  1.92250864e-02,\n",
       "          1.14020746e-03,  1.95971594e-02,  1.57495820e-02,\n",
       "          3.45257333e-03],\n",
       "        [-1.20272594e-04,  7.03939785e-03,  5.83704026e-03,\n",
       "          1.38627233e-02, -9.51379888e-03, -2.84936360e-03,\n",
       "         -1.32859863e-02, -2.53968286e-03, -2.09114182e-02,\n",
       "         -3.13806262e-03],\n",
       "        [-2.01328645e-02, -1.69541988e-02,  2.23425749e-02,\n",
       "         -1.27797899e-02,  2.48382385e-02, -4.21072312e-03,\n",
       "          1.71902163e-03,  1.52559239e-02, -1.31998361e-02,\n",
       "         -1.37440912e-02],\n",
       "        [ 3.75254527e-03,  2.57236012e-03,  7.77574825e-03,\n",
       "         -3.85175322e-03,  4.61184096e-03,  1.56026540e-02,\n",
       "         -1.35391880e-02,  8.11173964e-03, -1.14249577e-02,\n",
       "          4.96928651e-03],\n",
       "        [ 2.28854000e-03,  4.52953894e-03, -8.56619171e-03,\n",
       "          5.79395106e-03, -1.09424977e-02,  8.50128611e-03,\n",
       "         -1.27570594e-03,  8.27324447e-03,  6.75944191e-03,\n",
       "          1.33067791e-02],\n",
       "        [ 3.27412788e-03, -4.33163341e-03, -1.73363015e-02,\n",
       "         -6.89692924e-03, -1.48540936e-02,  3.74742691e-03,\n",
       "          4.39121651e-03,  6.78940136e-04, -5.49074222e-04,\n",
       "         -4.04745410e-03],\n",
       "        [ 3.15808657e-03, -7.26187742e-03,  2.13707909e-03,\n",
       "          6.05638062e-04,  1.83202323e-02, -8.00766091e-03,\n",
       "         -5.32382665e-04,  1.20186455e-03, -4.45770078e-03,\n",
       "         -5.33930608e-03],\n",
       "        [ 6.25874726e-03,  3.95344832e-03, -3.75261628e-03,\n",
       "          3.55228122e-03, -3.65260050e-03, -6.48644025e-03,\n",
       "         -7.72312221e-03, -6.48414722e-03, -1.12677217e-02,\n",
       "         -5.46594647e-03],\n",
       "        [ 3.83357275e-03,  9.37004689e-03,  7.26127826e-03,\n",
       "          8.50716246e-03, -2.23643248e-03,  6.09076103e-03,\n",
       "          1.97280208e-03, -1.79946482e-02,  8.29603686e-03,\n",
       "         -6.67315215e-03],\n",
       "        [ 8.78487020e-03, -1.12241583e-02, -3.61533529e-04,\n",
       "          9.74662506e-03, -4.53386230e-03,  2.20399302e-03,\n",
       "          1.65126075e-02, -9.60380822e-03,  1.34128290e-02,\n",
       "          6.97861175e-03],\n",
       "        [-3.89868309e-04, -5.04409952e-03, -1.56766089e-02,\n",
       "          1.02479714e-04,  2.28584657e-03, -3.97903467e-03,\n",
       "          8.63816418e-03, -1.29663154e-02, -1.69255312e-02,\n",
       "          1.01507769e-02],\n",
       "        [-1.10519283e-02, -2.48179013e-03, -3.69721184e-03,\n",
       "         -2.34405621e-03,  8.03016007e-03, -9.08646133e-03,\n",
       "          2.98470787e-04,  1.03446502e-02, -1.11579530e-03,\n",
       "         -4.66812034e-03],\n",
       "        [ 3.12445302e-03, -2.91751579e-03,  1.50034166e-02,\n",
       "          1.25257800e-02, -6.80801882e-03,  3.34555851e-03,\n",
       "          2.23809596e-03,  1.63039510e-03, -2.16789524e-03,\n",
       "         -7.08348780e-03],\n",
       "        [-7.73528014e-05,  1.09819867e-02, -3.68440583e-03,\n",
       "          4.46010927e-03, -6.09725059e-04, -3.28892914e-03,\n",
       "          2.22723272e-02,  7.32169062e-03, -7.56020010e-04,\n",
       "          6.03241234e-03],\n",
       "        [-4.16802360e-03,  1.04227685e-02,  1.20521328e-02,\n",
       "         -1.02454990e-02, -9.24347189e-03,  1.42739658e-02,\n",
       "          7.16543009e-03,  8.82521132e-03, -8.02501185e-03,\n",
       "         -5.69692224e-03],\n",
       "        [-1.12838614e-02, -8.46216419e-04,  1.59152475e-02,\n",
       "         -1.60685334e-03, -2.63657117e-04,  9.69533601e-03,\n",
       "         -4.32856377e-03,  1.19009387e-02,  5.67903929e-04,\n",
       "          1.11508082e-02],\n",
       "        [-1.55588717e-02,  2.29706061e-02, -2.80542579e-03,\n",
       "          2.18198043e-03,  2.40074147e-02,  1.84645590e-03,\n",
       "         -1.35697826e-03, -5.81866583e-03, -4.42392946e-03,\n",
       "          3.82196744e-03],\n",
       "        [-1.84128006e-02,  1.62679126e-02,  6.36025696e-03,\n",
       "          6.89509423e-03, -2.74342359e-03, -8.94176314e-03,\n",
       "         -1.15062573e-02, -3.14452106e-03, -6.08889472e-03,\n",
       "         -1.81277654e-02],\n",
       "        [ 6.54708238e-03, -1.96388113e-02, -6.83075990e-03,\n",
       "          3.73620103e-03,  1.79188987e-02,  6.45469633e-03,\n",
       "          2.09480224e-02,  1.82332349e-02, -2.21456930e-02,\n",
       "         -2.06303483e-02],\n",
       "        [ 1.46769730e-02,  1.57257384e-03, -1.17446292e-02,\n",
       "          8.55362857e-03,  2.45095858e-02,  2.34511945e-02,\n",
       "          3.11341961e-04,  1.05057958e-03, -9.38116443e-03,\n",
       "         -2.28359570e-02],\n",
       "        [-1.16209173e-03,  6.69825260e-03, -5.64309765e-04,\n",
       "          2.97340767e-03,  1.21015789e-02,  5.45267215e-03,\n",
       "         -1.74016744e-02,  1.72879206e-02,  3.23178861e-03,\n",
       "          1.66908986e-02],\n",
       "        [ 2.00662230e-03,  7.03333210e-03, -7.05436619e-03,\n",
       "          7.18938406e-03,  4.12351539e-04, -1.41972921e-03,\n",
       "          8.93915568e-03, -1.05965473e-02,  6.59290847e-03,\n",
       "          6.27602129e-03],\n",
       "        [ 1.28399247e-02, -8.23479269e-03, -1.08580734e-02,\n",
       "         -8.73634705e-03,  3.06189504e-03, -1.87874437e-03,\n",
       "         -6.28755117e-03, -1.26124650e-02,  3.65115743e-03,\n",
       "         -6.06438140e-03],\n",
       "        [ 3.23398626e-04,  5.24851744e-03,  1.36416042e-02,\n",
       "         -1.45454922e-03, -4.31269786e-03, -7.24681161e-04,\n",
       "          1.29439976e-03, -4.91959177e-04,  4.92791586e-03,\n",
       "         -7.24462983e-03],\n",
       "        [-3.65600393e-03, -1.18373099e-03,  1.36991018e-03,\n",
       "         -5.74067690e-03, -4.75107329e-03,  1.10953342e-02,\n",
       "         -9.39722934e-03,  2.14230498e-02,  4.64561066e-03,\n",
       "          1.61883192e-02],\n",
       "        [ 1.63839855e-03, -1.21129225e-03, -8.00824431e-03,\n",
       "          4.98022426e-03, -8.95881700e-03,  5.89266188e-03,\n",
       "         -2.84861277e-03,  9.17716361e-03,  2.27039719e-04,\n",
       "         -1.75125626e-03],\n",
       "        [-1.95213077e-03,  1.04166471e-02,  6.28431563e-03,\n",
       "         -7.21552570e-03,  1.59674344e-03, -3.86272577e-03,\n",
       "         -4.77348122e-03,  9.04211187e-03,  3.50997829e-03,\n",
       "         -9.86781325e-04],\n",
       "        [-6.46635045e-03, -5.29526893e-03, -2.41066428e-03,\n",
       "          1.68689192e-02, -8.25412468e-03,  7.15427388e-03,\n",
       "         -3.22161359e-03, -1.86747651e-02,  1.61522065e-02,\n",
       "          1.29207618e-02],\n",
       "        [-8.27796237e-03, -8.05237280e-03, -4.71458681e-03,\n",
       "          1.03759177e-02,  1.78950091e-02,  1.36861285e-02,\n",
       "         -7.93018200e-03, -1.06361111e-02,  5.71829375e-03,\n",
       "         -8.61057977e-04],\n",
       "        [ 1.48840085e-03, -2.17545559e-03,  1.44433855e-02,\n",
       "         -7.88738707e-03, -7.93122450e-04,  4.95553819e-03,\n",
       "         -1.53640352e-03,  1.97466143e-02,  4.45095003e-03,\n",
       "         -1.73847248e-02],\n",
       "        [-1.08629485e-02, -8.30812829e-03,  2.11429135e-03,\n",
       "          1.45008863e-02, -1.40531898e-02,  8.50209060e-03,\n",
       "          1.75640770e-02, -2.97554969e-03, -3.63336766e-03,\n",
       "         -1.06194136e-02],\n",
       "        [ 1.06566077e-02,  9.41579574e-03,  2.28861803e-03,\n",
       "          5.13615656e-03, -1.72159436e-03, -6.69751575e-03,\n",
       "          6.89596402e-03, -9.97607816e-03, -1.77107720e-02,\n",
       "          1.71447401e-02],\n",
       "        [ 1.32226784e-02,  1.50561599e-02, -6.25174411e-03,\n",
       "          2.58166170e-03, -5.80347288e-03, -4.59854117e-03,\n",
       "         -1.45186523e-02, -1.78727796e-03, -9.63806371e-03,\n",
       "         -1.69464256e-02],\n",
       "        [ 5.42699342e-04,  5.49545061e-03,  2.31847641e-03,\n",
       "          7.14614304e-04,  7.72266850e-04,  6.81734512e-05,\n",
       "         -1.49979169e-02, -4.91383320e-03,  1.01478233e-02,\n",
       "         -7.43031963e-03],\n",
       "        [-1.10443806e-02,  1.24835072e-02, -2.21540322e-03,\n",
       "          1.72782233e-02,  7.95398527e-03,  1.50513052e-02,\n",
       "         -1.21335602e-02,  1.18770371e-02, -7.81024792e-03,\n",
       "          2.10517489e-02],\n",
       "        [ 3.22424398e-03, -3.10844706e-03, -1.21024084e-02,\n",
       "          2.70921645e-03,  1.49455676e-02,  1.48845292e-02,\n",
       "         -1.25282106e-03,  2.22352862e-02,  7.62859357e-03,\n",
       "          1.38320329e-05],\n",
       "        [-6.50108301e-03,  1.55754706e-03, -1.03821083e-02,\n",
       "          8.47621694e-03,  6.37347868e-03,  1.32646744e-02,\n",
       "          3.66927289e-03,  2.69501678e-03,  3.89780060e-03,\n",
       "         -1.62592831e-02],\n",
       "        [-1.57609755e-03,  5.58765939e-03, -4.13638485e-03,\n",
       "          1.58081846e-03, -1.61331658e-02,  3.23877721e-03,\n",
       "         -4.46889666e-03, -4.02893688e-03, -1.83861070e-02,\n",
       "         -1.18523609e-03],\n",
       "        [ 1.08883118e-02, -7.53076954e-03, -5.94487962e-03,\n",
       "          9.94306826e-03,  3.45462346e-04, -3.88472729e-03,\n",
       "         -1.34726499e-02,  1.52255330e-02, -2.30179345e-02,\n",
       "         -1.70441211e-02],\n",
       "        [ 1.30057108e-02, -1.91858102e-04,  7.59779288e-03,\n",
       "         -1.20901607e-02, -1.45970879e-03, -3.16427601e-03,\n",
       "          1.41112920e-02,  4.89696608e-03,  7.01917470e-03,\n",
       "          2.40677479e-02],\n",
       "        [-5.34743818e-03, -1.23732088e-02, -1.09782965e-03,\n",
       "          3.72612942e-04, -1.58481608e-03, -1.24937406e-03,\n",
       "         -4.57479892e-03,  4.50978770e-03, -2.33169277e-03,\n",
       "         -6.64359962e-03],\n",
       "        [ 9.18375974e-03,  2.05060309e-03, -8.72281826e-03,\n",
       "         -1.11453849e-02,  1.31280364e-02, -9.88650947e-03,\n",
       "          1.16717609e-02,  1.05552892e-02,  2.67999643e-03,\n",
       "          1.83565323e-02],\n",
       "        [-1.37174870e-03,  8.62530167e-03,  1.30894806e-02,\n",
       "         -2.44924388e-04, -1.03279509e-02, -1.39525302e-02,\n",
       "         -7.08043037e-03,  1.17506703e-02,  5.64133333e-03,\n",
       "         -6.47964885e-03],\n",
       "        [-6.39573590e-03, -1.98954245e-02,  8.85617865e-04,\n",
       "          1.23625928e-02, -1.51633459e-02,  8.18919970e-03,\n",
       "          8.17609957e-03,  5.53383526e-03, -2.79758484e-03,\n",
       "         -2.11041267e-03],\n",
       "        [-3.01327538e-02, -1.56358409e-02,  1.74867953e-02,\n",
       "         -7.66606648e-03, -5.39971131e-03, -9.45012423e-03,\n",
       "          7.01531592e-03,  4.36637384e-03,  2.69470818e-03,\n",
       "         -6.80618467e-03],\n",
       "        [-2.54546172e-02,  4.75804706e-03, -7.19427093e-03,\n",
       "         -5.85485465e-03,  8.73357136e-03,  5.17903754e-03,\n",
       "         -7.27181244e-03, -3.02011778e-03, -6.79868433e-05,\n",
       "          1.27262234e-03],\n",
       "        [-1.65495739e-04, -3.54050838e-03,  4.25215981e-03,\n",
       "          7.67261157e-03, -5.83826744e-03, -2.73649538e-03,\n",
       "          8.48545069e-03,  1.34537771e-02,  9.97443976e-03,\n",
       "         -1.38698301e-02],\n",
       "        [-7.81942203e-03, -1.93312150e-02,  5.72528575e-03,\n",
       "          8.57804379e-03, -1.23479095e-02, -4.33542515e-04,\n",
       "          1.31232424e-03, -1.59436005e-03,  5.49442748e-03,\n",
       "          1.64359968e-03],\n",
       "        [ 2.09084777e-03, -1.37437877e-02, -2.10965962e-03,\n",
       "          9.60505696e-03,  1.62140261e-03, -4.15983438e-04,\n",
       "         -5.30894391e-03,  7.58248716e-04,  3.49379503e-04,\n",
       "          7.88500747e-03],\n",
       "        [ 1.73807919e-02,  1.27206904e-02,  6.70065182e-03,\n",
       "         -5.25237756e-03,  4.65733420e-03,  1.07769144e-02,\n",
       "         -7.39895475e-03, -9.28319018e-03,  6.68202599e-03,\n",
       "          1.40361449e-02],\n",
       "        [ 8.41791143e-03, -4.68270105e-03,  9.58490028e-03,\n",
       "          9.59185623e-03, -5.07235126e-03, -3.92172728e-03,\n",
       "         -8.66882786e-03, -7.93743526e-03,  7.83351972e-03,\n",
       "          9.88335255e-03],\n",
       "        [ 1.08351459e-02,  1.22900367e-02,  5.07165011e-03,\n",
       "         -1.11609159e-02,  1.20549720e-02, -4.53535548e-03,\n",
       "         -8.92064700e-03,  3.27412041e-04,  4.00840536e-03,\n",
       "          7.29710618e-03],\n",
       "        [-2.02968567e-02, -9.72162653e-03, -2.82248766e-03,\n",
       "          1.57106963e-02,  3.35717272e-03,  1.28306103e-02,\n",
       "         -1.55558918e-02, -3.70849486e-03, -1.03879347e-02,\n",
       "          6.41788449e-03],\n",
       "        [-2.06597048e-04, -5.78892954e-03,  1.79422474e-02,\n",
       "         -2.52280306e-03, -1.50058949e-02, -9.83532763e-03,\n",
       "         -4.17232726e-03, -5.10650913e-03, -3.26904118e-03,\n",
       "         -1.11374545e-02],\n",
       "        [ 3.86195428e-03, -1.23497879e-03, -1.19294186e-02,\n",
       "          4.88061847e-03,  2.78683614e-04,  7.84124980e-04,\n",
       "         -5.60413820e-03, -9.33682634e-03,  9.26609873e-03,\n",
       "          4.78079598e-03],\n",
       "        [-3.60314962e-03, -4.08672727e-03,  2.46692839e-03,\n",
       "         -1.65753942e-02,  7.38261150e-03,  2.08142810e-03,\n",
       "          5.67259904e-03, -1.52354069e-02, -8.06880456e-03,\n",
       "         -2.08086757e-03],\n",
       "        [-1.30687520e-02,  3.00169417e-03,  1.00358543e-03,\n",
       "          2.01381829e-03,  5.47465767e-03,  1.43746681e-03,\n",
       "         -1.19702809e-02,  5.13723590e-03,  8.54813565e-04,\n",
       "         -1.40722134e-03],\n",
       "        [ 1.94540917e-02, -4.55481456e-03, -4.17299411e-03,\n",
       "          1.70211540e-02,  1.90544752e-02,  4.09008495e-03,\n",
       "          5.10290466e-03, -6.64008992e-03, -2.67355815e-02,\n",
       "         -7.75403342e-03],\n",
       "        [-8.93533286e-03,  7.15148708e-03,  1.93068374e-04,\n",
       "          1.26986048e-02, -1.29671904e-02, -2.37628102e-03,\n",
       "          1.06449559e-02, -2.26947365e-03, -9.56574495e-03,\n",
       "         -2.02277608e-03],\n",
       "        [-1.62309944e-03, -1.37959817e-02, -6.62379610e-05,\n",
       "         -2.02152195e-02,  4.09192195e-03, -1.67823143e-02,\n",
       "          1.57004355e-02,  1.35260749e-02,  1.13977043e-02,\n",
       "         -1.35308589e-02],\n",
       "        [ 7.36089039e-04,  1.39455904e-02,  4.89345772e-03,\n",
       "         -1.76076736e-03,  1.63495629e-02, -1.10576305e-02,\n",
       "          7.63576715e-03,  8.63703800e-03, -2.65027380e-03,\n",
       "          1.89317598e-03],\n",
       "        [-7.13155466e-03,  1.14542496e-02,  1.16318780e-03,\n",
       "         -1.25917998e-02, -7.83463211e-03,  7.89089063e-03,\n",
       "         -1.22032698e-02, -3.50289248e-03, -2.18140813e-02,\n",
       "          5.55276026e-03],\n",
       "        [-1.57738633e-02, -2.01476923e-03,  2.83697767e-03,\n",
       "          1.63636412e-02, -5.43664660e-03,  5.23899459e-03,\n",
       "          3.59231738e-03, -1.10272346e-02, -7.39825407e-03,\n",
       "          9.47906591e-03],\n",
       "        [-1.52221982e-03, -1.35681898e-02, -9.61592444e-03,\n",
       "          8.99324092e-03,  1.98265118e-03,  5.04278202e-03,\n",
       "         -2.26628654e-03,  1.82879118e-02, -1.56485455e-02,\n",
       "          1.27632258e-03],\n",
       "        [-1.99948326e-02,  5.32782568e-03,  6.69597803e-03,\n",
       "         -3.14812774e-03,  1.67702548e-02, -2.54541906e-03,\n",
       "         -1.30991513e-02, -1.16542979e-02,  1.95224738e-03,\n",
       "          2.88786229e-03],\n",
       "        [-1.85130338e-03, -1.66003763e-03, -1.02299808e-03,\n",
       "          7.59368647e-03, -4.10729138e-03,  3.93750367e-03,\n",
       "         -6.90006763e-03, -3.36379683e-03,  1.43164986e-02,\n",
       "         -1.06661567e-02],\n",
       "        [-6.83417647e-03, -7.86558854e-03, -3.21339746e-03,\n",
       "          9.05096419e-04, -3.46523493e-03, -6.86241888e-03,\n",
       "          8.77594923e-03,  3.62592722e-03, -1.56889448e-02,\n",
       "          7.23177187e-04],\n",
       "        [ 9.09558118e-03,  6.89340638e-04, -3.94090944e-03,\n",
       "         -1.24297455e-02,  2.64149543e-03, -6.44925106e-04,\n",
       "          1.20945293e-02, -9.97163808e-03,  1.81271993e-02,\n",
       "          3.48178728e-04]]),\n",
       " 'b2': array([0., 0., 0., 0., 0., 0., 0., 0., 0., 0.])}"
      ]
     },
     "execution_count": 383,
     "metadata": {},
     "output_type": "execute_result"
    }
   ],
   "source": [
    "network.params"
   ]
  },
  {
   "cell_type": "code",
   "execution_count": 384,
   "id": "d0bdff08-8c4c-44b2-9928-a82bdf173973",
   "metadata": {},
   "outputs": [],
   "source": [
    "iterations = 10\n",
    "train_size = x_train[:100].shape[0]\n",
    "batch_size = 2\n",
    "lr = 0.1\n",
    "\n",
    "iter_per_ecoph = max(train_size/batch_size, 1)"
   ]
  },
  {
   "cell_type": "code",
   "execution_count": 385,
   "id": "9dd74859-d1ab-46f9-9059-4548066808ac",
   "metadata": {},
   "outputs": [],
   "source": [
    "train_losses = []\n",
    "train_accs = []\n",
    "test_accs = []"
   ]
  },
  {
   "cell_type": "code",
   "execution_count": 386,
   "id": "d2f78964-6ad0-4b00-bd92-73dd69a2f9a7",
   "metadata": {},
   "outputs": [
    {
     "name": "stdout",
     "output_type": "stream",
     "text": [
      "train acc, test_acc : 0.10441666666666667, 0.1028\n"
     ]
    }
   ],
   "source": [
    "for i in range(iterations):\n",
    "    batch_mask = np.random.choice(train_size, batch_size)\n",
    "    x_batch = x_train[batch_mask]\n",
    "    y_batch = y_train[batch_mask]\n",
    "\n",
    "    grads = network.numerical_gradient(x_batch, y_batch)\n",
    "\n",
    "    for key in ('w1', 'b1', 'w2', 'b2'):\n",
    "        network.params[key] -= lr*grads[key]\n",
    "\n",
    "    ## this is for plotting losses over time\n",
    "    train_losses.append(network.loss(x_batch, y_batch))\n",
    "\n",
    "    if i%iter_per_ecoph == 0:\n",
    "        train_acc = network.accuracy(x_train, y_train)\n",
    "        train_accs.append(train_acc)\n",
    "        test_acc = network.accuracy(x_test, y_test)\n",
    "        test_accs.append(test_acc)\n",
    "        print(f'train acc, test_acc : {train_acc}, {test_acc}')"
   ]
  },
  {
   "cell_type": "code",
   "execution_count": 387,
   "id": "577a5c18-d5e9-4597-bd4b-1e80364bf1c9",
   "metadata": {},
   "outputs": [
    {
     "data": {
      "text/plain": [
       "<two_layer_net.TwoLayerNet at 0x13b07cec0>"
      ]
     },
     "execution_count": 387,
     "metadata": {},
     "output_type": "execute_result"
    }
   ],
   "source": [
    "network"
   ]
  },
  {
   "cell_type": "code",
   "execution_count": 388,
   "id": "49401a16-364b-4ada-b216-29f85405d015",
   "metadata": {},
   "outputs": [
    {
     "data": {
      "image/png": "[encoded data removed]",
      "text/plain": [
       "<Figure size 640x480 with 1 Axes>"
      ]
     },
     "metadata": {},
     "output_type": "display_data"
    }
   ],
   "source": [
    "markers = {'train': 'o', 'test': 's'}\n",
    "x = np.arange(len(train_accs))\n",
    "plt.plot(x, train_accs, label='train acc')\n",
    "plt.plot(x, test_accs, label='test acc', linestyle='--')\n",
    "plt.xlabel(\"epochs\")\n",
    "plt.ylabel(\"accuracy\")\n",
    "plt.ylim(0, 1.0)\n",
    "plt.legend(loc='lower right')\n",
    "plt.show()"
   ]
  },
  {
   "cell_type": "markdown",
   "id": "8ec9e64e-5dd3-4f97-8cdb-a6b7035a911a",
   "metadata": {},
   "source": [
    "# BackPropagation"
   ]
  },
  {
   "cell_type": "code",
   "execution_count": 390,
   "id": "06ce035c-3c22-4c8f-a946-d2f63548cf01",
   "metadata": {},
   "outputs": [],
   "source": [
    "class Relu:\n",
    "    def __init__(self):\n",
    "        self.mask = None\n",
    "\n",
    "    def forward(self, x):\n",
    "        self.mask = (x <= 0)\n",
    "        out = x.copy()\n",
    "        out[self.mask] = 0\n",
    "\n",
    "        return out\n",
    "\n",
    "    def backward(self, dout):\n",
    "        dout[self.mask] = 0\n",
    "        dx = dout\n",
    "\n",
    "        return dx\n",
    "\n",
    "\n",
    "class Sigmoid:\n",
    "    def __init__(self):\n",
    "        self.out = None\n",
    "        self.activations = Activations()\n",
    "\n",
    "    def forward(self, x):\n",
    "        out = self.activations.sigmoid(x)\n",
    "        self.out = out\n",
    "        return out\n",
    "\n",
    "    def backward(self, dout):\n",
    "        dx = dout * (1.0 - self.out) * self.out\n",
    "\n",
    "        return dx\n",
    "\n",
    "\n",
    "class Affine:\n",
    "    def __init__(self, w, b):\n",
    "        self.w = w\n",
    "        self.b = b\n",
    "        \n",
    "        self.x = None\n",
    "        self.original_x_shape = None\n",
    "\n",
    "        self.dw = None\n",
    "        self.db = None\n",
    "\n",
    "    def forward(self, x):\n",
    "        # \n",
    "        self.original_x_shape = x.shape\n",
    "        x = x.reshape(x.shape[0], -1)\n",
    "        self.x = x\n",
    "\n",
    "        out = np.dot(self.x, self.w) + self.b\n",
    "\n",
    "        return out\n",
    "\n",
    "    def backward(self, dout):\n",
    "        dx = np.dot(dout, self.w.T)\n",
    "        self.dw = np.dot(self.x.T, dout)\n",
    "        self.db = np.sum(dout, axis=0)\n",
    "        \n",
    "        dx = dx.reshape(*self.original_x_shape)  \n",
    "        return dx\n",
    "\n",
    "\n",
    "class SoftmaxWithLoss:\n",
    "    def __init__(self):\n",
    "        self.loss = None \n",
    "        self.y_hat = None    \n",
    "        self.y = None    \n",
    "        self.activations = Activations()\n",
    "        self.errors = Errors()\n",
    "        \n",
    "    def forward(self, x, y):\n",
    "        self.y = y\n",
    "        self.y_hat = self.activations.softmax(x)\n",
    "        self.loss = self.errors.cross_entropy_error(self.y_hat, self.y)\n",
    "        \n",
    "        return self.loss\n",
    "\n",
    "    def backward(self, dout=1):\n",
    "        batch_size = self.y.shape[0]\n",
    "        #if self.y.size == self.y_hat.size: # one hot encoding\n",
    "        \n",
    "        dx = (self.y_hat - self.y) / batch_size\n",
    "        \n",
    "        \"\"\"\n",
    "        else:\n",
    "            dx = self.y_hat.copy()\n",
    "            dx[np.arange(batch_size), self.t] -= 1\n",
    "            dx = dx / batch_size\n",
    "        \"\"\"\n",
    "        return dx"
   ]
  },
  {
   "cell_type": "markdown",
   "id": "0010ef93-4eaa-4f70-90ff-9addc5768466",
   "metadata": {},
   "source": [
    "## Two Layer Net with Backpropagation"
   ]
  },
  {
   "cell_type": "code",
   "execution_count": 392,
   "id": "ec1757f8-c546-4142-b164-d904304d02eb",
   "metadata": {},
   "outputs": [],
   "source": [
    "from activations import Activations\n",
    "from errors import Errors"
   ]
  },
  {
   "cell_type": "code",
   "execution_count": 393,
   "id": "e7d7d39c-7d97-4d8e-8336-9ee15b6b90f4",
   "metadata": {},
   "outputs": [],
   "source": [
    "from collections import OrderedDict"
   ]
  },
  {
   "cell_type": "code",
   "execution_count": 394,
   "id": "83ad0dc5-94c2-499a-8925-f26b20705fad",
   "metadata": {},
   "outputs": [],
   "source": [
    "class TwoLayerNetWithBackProp:\n",
    "    def __init__(self, input_size, hidden_size, output_size, weight_init_std=0.01):\n",
    "        self.params = {}\n",
    "\n",
    "        self.params['w1'] = weight_init_std*np.random.randn(input_size, hidden_size)\n",
    "        self.params['b1'] = np.zeros(hidden_size)\n",
    "\n",
    "        self.params['w2'] = weight_init_std*np.random.randn(hidden_size, output_size)\n",
    "        self.params['b2'] = np.zeros(output_size)\n",
    "\n",
    "        self.activations = Activations()\n",
    "        self.errors = Errors()\n",
    "\n",
    "        # add layers\n",
    "        self.layers = OrderedDict()\n",
    "        self.layers['Affine1'] = Affine(self.params['w1'], self.params['b1'])\n",
    "        self.layers['Rele1'] = Relu()\n",
    "        self.layers['Affine2'] = Affine(self.params['w2'], self.params['b2'])\n",
    "\n",
    "        self.last_layer = SoftmaxWithLoss()\n",
    "\n",
    "\n",
    "    def predict(self, x):\n",
    "        ## new implementation for backprop\n",
    "        for layer in self.layers.values():\n",
    "            x = layer.forward(x)\n",
    "\n",
    "        y = x\n",
    "        return y\n",
    "    \n",
    "    def loss(self, x, y):\n",
    "        y_hat = self.predict(x)\n",
    "\n",
    "        # return self.errors.cross_entropy_error(y_hat, y)\n",
    "        return self.last_layer.forward(y_hat, y)\n",
    "\n",
    "    def accuracy(self, x, y):\n",
    "        y_hat = self.predict(x)\n",
    "        p = np.argmax(y_hat, axis=1)\n",
    "        y_p = np.argmax(y, axis=1)\n",
    "\n",
    "        return np.sum(p == y_p)/float(x.shape[0])\n",
    "    \n",
    "\n",
    "    def gradient(self, x, y):\n",
    "        self.loss(x, y)\n",
    "\n",
    "        dout = 1\n",
    "        dout = self.last_layer.backward(dout)\n",
    "\n",
    "        layers = list(self.layers.values())\n",
    "        layers.reverse()\n",
    "        for layer in layers:\n",
    "            dout = layer.backward(dout)\n",
    "\n",
    "        grads = {}\n",
    "        grads['w1'] = self.layers['Affine1'].dw\n",
    "        grads['b1'] = self.layers['Affine1'].db\n",
    "        grads['w2'] = self.layers['Affine2'].dw\n",
    "        grads['b2'] = self.layers['Affine2'].db\n",
    "      \n",
    "        return grads"
   ]
  },
  {
   "cell_type": "code",
   "execution_count": 395,
   "id": "9b996226-0c12-4f4a-9a01-6aaf3e0a6116",
   "metadata": {},
   "outputs": [],
   "source": [
    "from mnist import Mnist"
   ]
  },
  {
   "cell_type": "code",
   "execution_count": 396,
   "id": "6e853ef7-9464-405d-bafd-a4b85c28d058",
   "metadata": {},
   "outputs": [
    {
     "name": "stdout",
     "output_type": "stream",
     "text": [
      "File: train-images-idx3-ubyte.gz already exists locally.\n",
      "File: train-labels-idx1-ubyte.gz already exists locally.\n",
      "File: t10k-images-idx3-ubyte.gz already exists locally.\n",
      "File: t10k-labels-idx1-ubyte.gz already exists locally.\n",
      "Loading dataset from pickle: /Users/aishwaryadekhane/Desktop/My_Files/Sem-3/PRNN/HW6/06/dataset/mnist.pkl\n",
      "Dataset loaded successfully.\n"
     ]
    }
   ],
   "source": [
    "\n",
    "mnist = Mnist()"
   ]
  },
  {
   "cell_type": "code",
   "execution_count": 397,
   "id": "790e8f9b-31bc-4e8f-92d3-fb5912fa6146",
   "metadata": {},
   "outputs": [],
   "source": [
    "(x_train, y_train), (x_test, y_test) = mnist.load()"
   ]
  },
  {
   "cell_type": "code",
   "execution_count": 398,
   "id": "2f8c5e36-3a26-4ec2-a275-5800861d1344",
   "metadata": {},
   "outputs": [
    {
     "name": "stdout",
     "output_type": "stream",
     "text": [
      "(60000, 784)\n"
     ]
    }
   ],
   "source": [
    "print(x_train.shape)"
   ]
  },
  {
   "cell_type": "code",
   "execution_count": 399,
   "id": "6a916559-5b06-4e34-b7b5-3c9697cbac72",
   "metadata": {},
   "outputs": [],
   "source": [
    "network = TwoLayerNetWithBackProp(input_size=28*28, hidden_size=100, output_size=10)"
   ]
  },
  {
   "cell_type": "code",
   "execution_count": 400,
   "id": "d58b72a0-0afe-40ec-920c-920bcafc1259",
   "metadata": {},
   "outputs": [],
   "source": [
    "iterations = 10000\n",
    "train_size = x_train.shape[0]\n",
    "batch_size = 100\n",
    "lr = 0.1\n",
    "\n",
    "iter_per_ecoph = max(train_size/batch_size, 1)"
   ]
  },
  {
   "cell_type": "code",
   "execution_count": 401,
   "id": "89ebd7be-f428-490b-a25f-8ea2843217ca",
   "metadata": {},
   "outputs": [],
   "source": [
    "train_losses = []\n",
    "train_accs = []\n",
    "test_accs = []"
   ]
  },
  {
   "cell_type": "code",
   "execution_count": 402,
   "id": "d0cb2d7b-78ab-4542-b411-e613febddf4f",
   "metadata": {},
   "outputs": [
    {
     "name": "stdout",
     "output_type": "stream",
     "text": [
      "train acc, test_acc : 0.12971666666666667, 0.1356\n",
      "train acc, test_acc : 0.90725, 0.9123\n",
      "train acc, test_acc : 0.9265333333333333, 0.9282\n",
      "train acc, test_acc : 0.9404, 0.9408\n",
      "train acc, test_acc : 0.9481, 0.947\n",
      "train acc, test_acc : 0.9561, 0.9542\n",
      "train acc, test_acc : 0.9621833333333333, 0.9593\n",
      "train acc, test_acc : 0.9641333333333333, 0.9612\n",
      "train acc, test_acc : 0.9693166666666667, 0.9647\n",
      "train acc, test_acc : 0.9725833333333334, 0.9664\n",
      "train acc, test_acc : 0.9737833333333333, 0.9672\n",
      "train acc, test_acc : 0.97725, 0.9707\n",
      "train acc, test_acc : 0.9782833333333333, 0.9718\n",
      "train acc, test_acc : 0.9790666666666666, 0.9729\n",
      "train acc, test_acc : 0.9815166666666667, 0.9747\n",
      "train acc, test_acc : 0.9826333333333334, 0.9744\n",
      "train acc, test_acc : 0.9841666666666666, 0.9743\n"
     ]
    }
   ],
   "source": [
    "for i in range(iterations):\n",
    "    batch_mask = np.random.choice(train_size, batch_size)\n",
    "    x_batch = x_train[batch_mask]\n",
    "    y_batch = y_train[batch_mask]\n",
    "\n",
    "    grads = network.gradient(x_batch, y_batch)\n",
    "\n",
    "    for key in ('w1', 'b1', 'w2', 'b2'):\n",
    "        network.params[key] -= lr*grads[key]\n",
    "\n",
    "    train_losses.append(network.loss(x_batch, y_batch))\n",
    "\n",
    "    if i%iter_per_ecoph == 0:\n",
    "        train_acc = network.accuracy(x_train, y_train)\n",
    "        train_accs.append(train_acc)\n",
    "        test_acc = network.accuracy(x_test, y_test)\n",
    "        test_accs.append(test_acc)\n",
    "        print(f'train acc, test_acc : {train_acc}, {test_acc}')"
   ]
  },
  {
   "cell_type": "code",
   "execution_count": 403,
   "id": "dcbc12a6-df1e-43f9-a94b-aeadfd17e575",
   "metadata": {},
   "outputs": [
    {
     "data": {
      "image/png": "[encoded data removed]",
      "text/plain": [
       "<Figure size 640x480 with 1 Axes>"
      ]
     },
     "metadata": {},
     "output_type": "display_data"
    }
   ],
   "source": [
    "markers = {'train': 'o', 'test': 's'}\n",
    "x = np.arange(len(train_accs))\n",
    "plt.plot(x, train_accs, label='train acc')\n",
    "plt.plot(x, test_accs, label='test acc', linestyle='--')\n",
    "plt.xlabel(\"epochs\")\n",
    "plt.ylabel(\"accuracy\")\n",
    "plt.ylim(0, 1.0)\n",
    "plt.legend(loc='lower right')\n",
    "plt.show()"
   ]
  },
  {
   "cell_type": "code",
   "execution_count": 404,
   "id": "4e568647-baaf-4b9c-abd5-f52f6dea6c1b",
   "metadata": {},
   "outputs": [],
   "source": [
    "import numpy as np\n",
    "import pickle\n",
    "\n",
    "my_weight_pkl_file = 'AMD_weights.pkl'"
   ]
  },
  {
   "cell_type": "code",
   "execution_count": 405,
   "id": "1b08f215-5a93-478f-8c67-4e41e8f03080",
   "metadata": {},
   "outputs": [
    {
     "name": "stdout",
     "output_type": "stream",
     "text": [
      "Pickle: AMD_weights.pkl is being created.\n",
      "Done.\n"
     ]
    }
   ],
   "source": [
    "with open(f'{my_weight_pkl_file}', 'wb') as f:\n",
    "    print(f'Pickle: {my_weight_pkl_file} is being created.')\n",
    "    pickle.dump(network.params, f)\n",
    "    print('Done.') "
   ]
  },
  {
   "cell_type": "code",
   "execution_count": 406,
   "id": "e25ce19e-4f6b-4020-afbc-02a772297143",
   "metadata": {},
   "outputs": [],
   "source": [
    "network.params = None"
   ]
  },
  {
   "cell_type": "markdown",
   "id": "d6b954c5-89c8-4fe2-8d39-259a8eac0102",
   "metadata": {},
   "source": [
    "## Using your own TwoLayerNet model"
   ]
  },
  {
   "cell_type": "code",
   "execution_count": 408,
   "id": "6b3d6788-1b8b-4e7a-b695-c876f907f057",
   "metadata": {},
   "outputs": [],
   "source": [
    "network = TwoLayerNetWithBackProp(input_size=28*28, hidden_size=100, output_size=10)"
   ]
  },
  {
   "cell_type": "code",
   "execution_count": 409,
   "id": "32f78b34-4411-4f31-b3f4-b61eb9767865",
   "metadata": {},
   "outputs": [],
   "source": [
    "with open(f'{my_weight_pkl_file}', 'rb') as f:\n",
    "    network.params = pickle.load(f)"
   ]
  },
  {
   "cell_type": "code",
   "execution_count": 410,
   "id": "d4998989-ed96-4135-9cd8-2c393f8875f3",
   "metadata": {},
   "outputs": [],
   "source": [
    "from mnist import Mnist"
   ]
  },
  {
   "cell_type": "code",
   "execution_count": 411,
   "id": "930f1b52-4877-416d-a70b-1513fda381cb",
   "metadata": {},
   "outputs": [
    {
     "name": "stdout",
     "output_type": "stream",
     "text": [
      "File: train-images-idx3-ubyte.gz already exists locally.\n",
      "File: train-labels-idx1-ubyte.gz already exists locally.\n",
      "File: t10k-images-idx3-ubyte.gz already exists locally.\n",
      "File: t10k-labels-idx1-ubyte.gz already exists locally.\n",
      "Loading dataset from pickle: /Users/aishwaryadekhane/Desktop/My_Files/Sem-3/PRNN/HW6/06/dataset/mnist.pkl\n",
      "Dataset loaded successfully.\n"
     ]
    }
   ],
   "source": [
    "mnist = Mnist()\n",
    "(_, _), (x_test, y_test) = mnist.load()"
   ]
  },
  {
   "cell_type": "code",
   "execution_count": 412,
   "id": "26153063-e02d-46ed-a70f-eef2f98269e8",
   "metadata": {},
   "outputs": [],
   "source": [
    "y_hat = network.predict(x_test[0:100])"
   ]
  },
  {
   "cell_type": "code",
   "execution_count": 413,
   "id": "88eb0318-bb4b-4d60-b572-2b21ffa61ce0",
   "metadata": {},
   "outputs": [],
   "source": [
    "\n",
    "import matplotlib.pyplot as plt"
   ]
  },
  {
   "cell_type": "code",
   "execution_count": 414,
   "id": "66be1e7c-975b-4f58-aa33-21fab9c9f312",
   "metadata": {},
   "outputs": [
    {
     "data": {
      "text/plain": [
       "<matplotlib.image.AxesImage at 0x13b000920>"
      ]
     },
     "execution_count": 414,
     "metadata": {},
     "output_type": "execute_result"
    },
    {
     "data": {
      "image/png": "[encoded data removed]",
      "text/plain": [
       "<Figure size 640x480 with 1 Axes>"
      ]
     },
     "metadata": {},
     "output_type": "display_data"
    }
   ],
   "source": [
    "plt.imshow(x_test[10].reshape(28,28))"
   ]
  },
  {
   "cell_type": "code",
   "execution_count": 415,
   "id": "ee972bb0-24e0-4325-9a15-3cfaf4538fe5",
   "metadata": {},
   "outputs": [
    {
     "data": {
      "text/plain": [
       "array([ 0.00257086, -0.00482891,  0.00084426,  0.01003397,  0.00235773,\n",
       "       -0.0091246 ,  0.0058809 ,  0.00071354, -0.00904647, -0.01322207])"
      ]
     },
     "execution_count": 415,
     "metadata": {},
     "output_type": "execute_result"
    }
   ],
   "source": [
    "y_hat[10]"
   ]
  },
  {
   "cell_type": "code",
   "execution_count": 416,
   "id": "0ba75d6d-737b-4c62-b39f-cf902ba421c8",
   "metadata": {},
   "outputs": [
    {
     "data": {
      "text/plain": [
       "array([ 0.00257086, -0.00482891,  0.00084426,  0.01003397,  0.00235773,\n",
       "       -0.0091246 ,  0.0058809 ,  0.00071354, -0.00904647, -0.01322207])"
      ]
     },
     "execution_count": 416,
     "metadata": {},
     "output_type": "execute_result"
    }
   ],
   "source": [
    "y_hat[10]"
   ]
  },
  {
   "cell_type": "code",
   "execution_count": 417,
   "id": "1625baf3-0629-48c5-9259-59410c375cfd",
   "metadata": {},
   "outputs": [
    {
     "data": {
      "text/plain": [
       "3"
      ]
     },
     "execution_count": 417,
     "metadata": {},
     "output_type": "execute_result"
    }
   ],
   "source": [
    "np.argmax(y_hat[10])"
   ]
  },
  {
   "cell_type": "code",
   "execution_count": 418,
   "id": "ff253416-f2f9-4248-a993-cb1923a2fc0b",
   "metadata": {},
   "outputs": [
    {
     "data": {
      "text/plain": [
       "0"
      ]
     },
     "execution_count": 418,
     "metadata": {},
     "output_type": "execute_result"
    }
   ],
   "source": [
    "np.argmax(y_test[10])"
   ]
  },
  {
   "cell_type": "code",
   "execution_count": null,
   "id": "15da6c82-8a81-40d9-b1ae-3fac47a29c59",
   "metadata": {},
   "outputs": [],
   "source": []
  }
 ],
 "metadata": {
  "kernelspec": {
   "display_name": "Python 3 (ipykernel)",
   "language": "python",
   "name": "python3"
  },
  "language_info": {
   "codemirror_mode": {
    "name": "ipython",
    "version": 3
   },
   "file_extension": ".py",
   "mimetype": "text/x-python",
   "name": "python",
   "nbconvert_exporter": "python",
   "pygments_lexer": "ipython3",
   "version": "3.12.4"
  }
 },
 "nbformat": 4,
 "nbformat_minor": 5
}
