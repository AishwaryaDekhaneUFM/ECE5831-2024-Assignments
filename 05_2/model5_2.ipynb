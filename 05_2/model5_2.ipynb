{
 "cells": [
  {
   "cell_type": "markdown",
   "id": "b8d28dd9-0ad6-42c4-881e-35a19eac007b",
   "metadata": {},
   "source": [
    "## PRNN Assignment - 5.2"
   ]
  },
  {
   "cell_type": "markdown",
   "id": "38ec8fcf-0132-4112-a81b-cc636c9a5290",
   "metadata": {},
   "source": [
    "### create softmax function"
   ]
  },
  {
   "cell_type": "code",
   "execution_count": 3,
   "id": "86e2f411-058a-48ce-82f5-c083f6d2f69e",
   "metadata": {},
   "outputs": [],
   "source": [
    "#import files\n",
    "import numpy as np"
   ]
  },
  {
   "cell_type": "code",
   "execution_count": 5,
   "id": "9355a2da-6b92-4745-bb5c-78c9e5141095",
   "metadata": {},
   "outputs": [],
   "source": [
    "def softmax(a):\n",
    "    return np.exp(a) / np.sum(np.exp(a))"
   ]
  },
  {
   "cell_type": "code",
   "execution_count": 7,
   "id": "4ae25270-65b1-4766-be9b-a5cab78dfe6a",
   "metadata": {},
   "outputs": [
    {
     "name": "stdout",
     "output_type": "stream",
     "text": [
      "output of softmax: [2.06106005e-09 4.53978686e-05 9.99954600e-01]\n"
     ]
    }
   ],
   "source": [
    "#test above defined function\n",
    "a = np.array([10, 20, 30])\n",
    "s = softmax(a)\n",
    "\n",
    "print(f\"output of softmax: {s}\")"
   ]
  },
  {
   "cell_type": "code",
   "execution_count": 9,
   "id": "c330671c-6969-4ef8-818d-3cb1a7ac2d04",
   "metadata": {},
   "outputs": [
    {
     "name": "stdout",
     "output_type": "stream",
     "text": [
      "output of softmax: [nan nan]\n"
     ]
    },
    {
     "name": "stderr",
     "output_type": "stream",
     "text": [
      "/var/folders/tc/p09j7ll56zbbhd266ds5wqh40000gn/T/ipykernel_42039/675541793.py:2: RuntimeWarning: overflow encountered in exp\n",
      "  return np.exp(a) / np.sum(np.exp(a))\n",
      "/var/folders/tc/p09j7ll56zbbhd266ds5wqh40000gn/T/ipykernel_42039/675541793.py:2: RuntimeWarning: invalid value encountered in divide\n",
      "  return np.exp(a) / np.sum(np.exp(a))\n"
     ]
    }
   ],
   "source": [
    "a = np.array([900, 1000])\n",
    "s = softmax(a)\n",
    "\n",
    "print(f\"output of softmax: {s}\")"
   ]
  },
  {
   "cell_type": "code",
   "execution_count": null,
   "id": "76aee40f-be59-427e-ae7a-d9563eb2a03a",
   "metadata": {},
   "outputs": [],
   "source": [
    "#another version of softmax function"
   ]
  },
  {
   "cell_type": "code",
   "execution_count": 11,
   "id": "0f0f1c34-06df-4dd5-b09a-33664db65570",
   "metadata": {},
   "outputs": [],
   "source": [
    "def softmax(a):\n",
    "    c = np.max(a)\n",
    "    exp_a = np.exp(a - c)\n",
    "    return exp_a/np.sum(exp_a)"
   ]
  },
  {
   "cell_type": "code",
   "execution_count": null,
   "id": "d32f1ae4-65c8-4994-b06b-8b0e10c1061f",
   "metadata": {},
   "outputs": [],
   "source": [
    "#solving above eerror with above newly defined function"
   ]
  },
  {
   "cell_type": "code",
   "execution_count": 13,
   "id": "2f5f2def-5d2e-4cbc-a8be-e29dbd0990b7",
   "metadata": {},
   "outputs": [
    {
     "name": "stdout",
     "output_type": "stream",
     "text": [
      "output of softmax: [3.72007598e-44 1.00000000e+00]\n"
     ]
    }
   ],
   "source": [
    "a = np.array([900, 1000])\n",
    "s = softmax(a)\n",
    "\n",
    "print(f\"output of softmax: {s}\")"
   ]
  },
  {
   "cell_type": "code",
   "execution_count": null,
   "id": "0eccec32-33ac-44a9-ab93-d22cd6b17d89",
   "metadata": {},
   "outputs": [],
   "source": [
    "MNIST dataset"
   ]
  },
  {
   "cell_type": "code",
   "execution_count": null,
   "id": "ef34c0f8-7df0-464e-b7e7-d7efc399495e",
   "metadata": {},
   "outputs": [],
   "source": [
    "#import files"
   ]
  },
  {
   "cell_type": "code",
   "execution_count": 15,
   "id": "02db2a73-8518-495b-9b5c-dcd42973db28",
   "metadata": {},
   "outputs": [],
   "source": [
    "import os\n",
    "import gzip\n",
    "import pickle\n",
    "import urllib\n",
    "import numpy as np"
   ]
  },
  {
   "cell_type": "code",
   "execution_count": 17,
   "id": "594bb927-08fa-48de-b87c-867d11c082ce",
   "metadata": {},
   "outputs": [],
   "source": [
    "#define the dataset directory path\n",
    "DATASET_DIR = '/Users/aishwaryadekhane/Desktop/My_Files/Sem-3/PRNN/HW5-2/dataset'\n",
    "\n",
    "#pickle file path\n",
    "DATASET_PKL = 'mnist.pkl'\n",
    "\n",
    "#declare the base url\n",
    "URL_BASE = 'http://jrkwon.com/data/ece5831/mnist/'\n",
    "\n",
    "#declare the dictionary which will be responsible for holding the zip file names\n",
    "key_file = {\n",
    "    'train_images': 'train-images-idx3-ubyte.gz',\n",
    "    'train_labels': 'train-labels-idx1-ubyte.gz',\n",
    "    'test_images': 't10k-images-idx3-ubyte.gz',\n",
    "    'test_labels': 't10k-labels-idx1-ubyte.gz'\n",
    "}"
   ]
  },
  {
   "cell_type": "code",
   "execution_count": 19,
   "id": "9a0d255a-9c69-48c4-aede-47c16f204b9c",
   "metadata": {},
   "outputs": [
    {
     "data": {
      "text/plain": [
       "'train-images-idx3-ubyte.gz'"
      ]
     },
     "execution_count": 19,
     "metadata": {},
     "output_type": "execute_result"
    }
   ],
   "source": [
    "key_file['train_images']"
   ]
  },
  {
   "cell_type": "code",
   "execution_count": 21,
   "id": "59f3c2f8-f626-4959-a5e3-38ccd5d36457",
   "metadata": {},
   "outputs": [
    {
     "name": "stdout",
     "output_type": "stream",
     "text": [
      "/Users/aishwaryadekhane/Desktop/My_Files/Sem-3/PRNN/HW5-2\n"
     ]
    }
   ],
   "source": [
    "!pwd"
   ]
  },
  {
   "cell_type": "code",
   "execution_count": 23,
   "id": "39aa33a5-f773-4303-be3f-f805add45ebf",
   "metadata": {},
   "outputs": [],
   "source": [
    "file_name = key_file['train_images']\n",
    "file_path = URL_BASE + key_file['train_images']\n",
    "\n",
    "def download(f_name):\n",
    "    file_path = DATASET_DIR + '/' + f_name\n",
    "    if(os.path.exists(file_path)):\n",
    "        print(f\"File: {f_name} already exists.\")\n",
    "        return\n",
    "\n",
    "    print(f\"Downloading {f_name}....\")\n",
    "    urllib.request.urlretrieve(URL_BASE + f_name, file_path)\n",
    "    \n",
    "    print('Done')\n",
    "\n",
    "def download_all():\n",
    "    for file_name in key_file.values():\n",
    "        download(file_name)"
   ]
  },
  {
   "cell_type": "code",
   "execution_count": 25,
   "id": "bb39e128-732f-4892-ae92-89a3ee8a501c",
   "metadata": {},
   "outputs": [
    {
     "name": "stdout",
     "output_type": "stream",
     "text": [
      "File: train-images-idx3-ubyte.gz already exists.\n",
      "File: train-labels-idx1-ubyte.gz already exists.\n",
      "File: t10k-images-idx3-ubyte.gz already exists.\n",
      "File: t10k-labels-idx1-ubyte.gz already exists.\n"
     ]
    }
   ],
   "source": [
    "download_all()"
   ]
  },
  {
   "cell_type": "code",
   "execution_count": null,
   "id": "d44970ea-7777-4231-9669-09371b469c94",
   "metadata": {},
   "outputs": [],
   "source": [
    "#load image, load label"
   ]
  },
  {
   "cell_type": "code",
   "execution_count": 27,
   "id": "d3a17d49-d3fb-48c6-8599-602b53ef31db",
   "metadata": {},
   "outputs": [],
   "source": [
    "IMAGE_SIZE = 784 #28 x 28\n",
    "def load_image(f_name):\n",
    "    with gzip.open(f_name, 'rb') as img_file:\n",
    "        images = np.frombuffer(img_file.read(), np.uint8, offset=16)\n",
    "    images = images.reshape(-1, IMAGE_SIZE)\n",
    "\n",
    "    return images"
   ]
  },
  {
   "cell_type": "code",
   "execution_count": 29,
   "id": "9fd7fba1-52f4-4a17-95ba-dacc3442f69f",
   "metadata": {},
   "outputs": [
    {
     "name": "stdout",
     "output_type": "stream",
     "text": [
      "test images shape: (10000, 784)\n",
      "train images shape: (60000, 784)\n"
     ]
    }
   ],
   "source": [
    "train_images = load_image(os.path.join(DATASET_DIR, key_file['train_images']))\n",
    "test_images = load_image(os.path.join(DATASET_DIR, key_file['test_images']))\n",
    "print(f\"test images shape: {test_images.shape}\")\n",
    "print(f\"train images shape: {train_images.shape}\")"
   ]
  },
  {
   "cell_type": "code",
   "execution_count": null,
   "id": "9e48fdac-826c-4cea-b752-26ba19437681",
   "metadata": {},
   "outputs": [],
   "source": [
    "#samople img"
   ]
  },
  {
   "cell_type": "code",
   "execution_count": 31,
   "id": "c95ea9da-1203-454e-ab84-215265efb3cb",
   "metadata": {},
   "outputs": [
    {
     "data": {
      "text/plain": [
       "<matplotlib.image.AxesImage at 0x121851cd0>"
      ]
     },
     "execution_count": 31,
     "metadata": {},
     "output_type": "execute_result"
    },
    {
     "data": {
      "image/png": "[encoded data removed]",
      "text/plain": [
       "<Figure size 640x480 with 1 Axes>"
      ]
     },
     "metadata": {},
     "output_type": "display_data"
    }
   ],
   "source": [
    "import matplotlib.pyplot as plt\n",
    "idx = 1000\n",
    "a = test_images[idx].reshape(28, 28)\n",
    "plt.imshow(a)"
   ]
  },
  {
   "cell_type": "code",
   "execution_count": 33,
   "id": "fc0b84dc-1efe-4a57-a8ff-01480caf3590",
   "metadata": {},
   "outputs": [
    {
     "data": {
      "text/plain": [
       "<matplotlib.image.AxesImage at 0x1218cbdd0>"
      ]
     },
     "execution_count": 33,
     "metadata": {},
     "output_type": "execute_result"
    },
    {
     "data": {
      "image/png": "[encoded data removed]",
      "text/plain": [
       "<Figure size 640x480 with 1 Axes>"
      ]
     },
     "metadata": {},
     "output_type": "display_data"
    }
   ],
   "source": [
    "a = test_images[100].reshape(28, 28)\n",
    "plt.imshow(a)"
   ]
  },
  {
   "cell_type": "code",
   "execution_count": 35,
   "id": "5a270e9f-12ad-4d2f-96fb-107306bfac08",
   "metadata": {},
   "outputs": [],
   "source": [
    "def load_labels(f_name):\n",
    "    with gzip.open(f_name, 'rb') as f:\n",
    "        labels = np.frombuffer(f.read(), np.uint8, offset=8)\n",
    "    return labels"
   ]
  },
  {
   "cell_type": "code",
   "execution_count": 37,
   "id": "b29c30d2-1d74-4891-9f2b-486c86f87581",
   "metadata": {},
   "outputs": [
    {
     "name": "stdout",
     "output_type": "stream",
     "text": [
      "train images shape: (60000,)\n",
      "test images shape: (10000,)\n"
     ]
    }
   ],
   "source": [
    "train_labels = load_labels(os.path.join(DATASET_DIR, key_file['train_labels']))\n",
    "test_labels = load_labels(os.path.join(DATASET_DIR, key_file['test_labels']))\n",
    "print(f\"train images shape: {train_labels.shape}\")\n",
    "print(f\"test images shape: {test_labels.shape}\")"
   ]
  },
  {
   "cell_type": "code",
   "execution_count": 39,
   "id": "603201d5-5d46-429a-87a3-eb9f12d1c228",
   "metadata": {},
   "outputs": [
    {
     "data": {
      "text/plain": [
       "9"
      ]
     },
     "execution_count": 39,
     "metadata": {},
     "output_type": "execute_result"
    }
   ],
   "source": [
    "test_labels[idx]"
   ]
  },
  {
   "cell_type": "code",
   "execution_count": 41,
   "id": "df976277-4f1e-441c-bc98-afc074a59028",
   "metadata": {},
   "outputs": [],
   "source": [
    "def create_dataset():\n",
    "    dataset = {}\n",
    "    dataset['train_images'] =  train_images\n",
    "    dataset['train_labels'] =  train_labels\n",
    "    dataset['test_images'] =  test_images\n",
    "    dataset['test_labels'] =  test_labels\n",
    "\n",
    "    with open(os.path.join(DATASET_DIR, DATASET_PKL), 'wb') as ip_file:\n",
    "        print(f'Pickle: {os.path.join(DATASET_DIR, DATASET_PKL)} is being created.')\n",
    "        pickle.dump(dataset, ip_file)\n",
    "        print('Done')\n",
    "\n",
    "    return dataset"
   ]
  },
  {
   "cell_type": "code",
   "execution_count": 43,
   "id": "dd41ce16-f325-4eed-8268-bf149b5582cf",
   "metadata": {},
   "outputs": [
    {
     "name": "stdout",
     "output_type": "stream",
     "text": [
      "Pickle: /Users/aishwaryadekhane/Desktop/My_Files/Sem-3/PRNN/HW5-2/dataset/mnist.pkl is being created.\n",
      "Done\n"
     ]
    },
    {
     "data": {
      "text/plain": [
       "<matplotlib.image.AxesImage at 0x121985df0>"
      ]
     },
     "execution_count": 43,
     "metadata": {},
     "output_type": "execute_result"
    },
    {
     "data": {
      "image/png": "[encoded data removed]",
      "text/plain": [
       "<Figure size 640x480 with 1 Axes>"
      ]
     },
     "metadata": {},
     "output_type": "display_data"
    }
   ],
   "source": [
    "dataset = create_dataset()\n",
    "\n",
    "#lets check whether dataset got loaded properly or not\n",
    "img = dataset['train_images'][idx].reshape(28, 28)\n",
    "plt.imshow(img)"
   ]
  },
  {
   "cell_type": "code",
   "execution_count": 45,
   "id": "5d51f6bd-3cf4-48b9-bdfd-369c990da530",
   "metadata": {},
   "outputs": [
    {
     "name": "stdout",
     "output_type": "stream",
     "text": [
      "label: 9\n"
     ]
    },
    {
     "data": {
      "image/png": "[encoded data removed]",
      "text/plain": [
       "<Figure size 640x480 with 1 Axes>"
      ]
     },
     "metadata": {},
     "output_type": "display_data"
    }
   ],
   "source": [
    "img = dataset['test_images'][idx].reshape(28, 28)\n",
    "plt.imshow(img)\n",
    "print(f\"label: {dataset['test_labels'][idx]}\")"
   ]
  },
  {
   "cell_type": "code",
   "execution_count": 47,
   "id": "9a74bbda-67a4-46df-a39d-5c3c80865ea9",
   "metadata": {},
   "outputs": [],
   "source": [
    "def change_one_hot_label(y, num_class):\n",
    "    t = np.zeros((y.size, num_class))\n",
    "    for idx, row in enumerate(t):\n",
    "        row[y[idx]] = 1\n",
    "    return t"
   ]
  },
  {
   "cell_type": "code",
   "execution_count": 51,
   "id": "9f030a72-bb72-4925-b4bc-2ab6069f72cf",
   "metadata": {},
   "outputs": [
    {
     "name": "stdout",
     "output_type": "stream",
     "text": [
      "[1 0 9 8]\n",
      "[[0. 1. 0. 0. 0. 0. 0. 0. 0. 0.]\n",
      " [1. 0. 0. 0. 0. 0. 0. 0. 0. 0.]\n",
      " [0. 0. 0. 0. 0. 0. 0. 0. 0. 1.]\n",
      " [0. 0. 0. 0. 0. 0. 0. 0. 1. 0.]]\n"
     ]
    }
   ],
   "source": [
    "y = np.array([1, 0, 9, 8])\n",
    "one_hot_y = change_one_hot_label(y, 10)\n",
    "print(y)\n",
    "print(one_hot_y)"
   ]
  },
  {
   "cell_type": "code",
   "execution_count": 53,
   "id": "02ba1460-963c-4f08-965f-16ba3ad080d7",
   "metadata": {},
   "outputs": [],
   "source": [
    "def init_dataset():\n",
    "    download_all()\n",
    "    if os.path.exists(os.path.join(DATASET_DIR, DATASET_PKL)):\n",
    "        with open(os.path.join(DATASET_DIR, DATASET_PKL), 'rb') as ip_file:\n",
    "            print(f\"Pickle: {os.path.join(DATASET_DIR, DATASET_PKL)} already\")\n",
    "            print('Loading...')\n",
    "            dataset = pickle.load(ip_file)\n",
    "            print('Done')\n",
    "    else:\n",
    "        dataset = create_dataset()\n",
    "    \n",
    "    return dataset\n",
    "        "
   ]
  },
  {
   "cell_type": "code",
   "execution_count": 55,
   "id": "7f9f5e3b-bf2c-4121-913e-a401a6148c17",
   "metadata": {},
   "outputs": [
    {
     "name": "stdout",
     "output_type": "stream",
     "text": [
      "File: train-images-idx3-ubyte.gz already exists.\n",
      "File: train-labels-idx1-ubyte.gz already exists.\n",
      "File: t10k-images-idx3-ubyte.gz already exists.\n",
      "File: t10k-labels-idx1-ubyte.gz already exists.\n",
      "Pickle: /Users/aishwaryadekhane/Desktop/My_Files/Sem-3/PRNN/HW5-2/dataset/mnist.pkl already\n",
      "Loading...\n",
      "Done\n"
     ]
    }
   ],
   "source": [
    "dataset = {}\n",
    "dataset = init_dataset()"
   ]
  },
  {
   "cell_type": "code",
   "execution_count": 57,
   "id": "d6700621-5ec8-45af-9cc6-773a74262736",
   "metadata": {},
   "outputs": [
    {
     "name": "stdout",
     "output_type": "stream",
     "text": [
      "File: train-images-idx3-ubyte.gz already exists.\n",
      "File: train-labels-idx1-ubyte.gz already exists.\n",
      "File: t10k-images-idx3-ubyte.gz already exists.\n",
      "File: t10k-labels-idx1-ubyte.gz already exists.\n",
      "Pickle: /Users/aishwaryadekhane/Desktop/My_Files/Sem-3/PRNN/HW5-2/dataset/mnist.pkl already\n",
      "Loading...\n",
      "Done\n"
     ]
    }
   ],
   "source": [
    "dataset = init_dataset()"
   ]
  },
  {
   "cell_type": "code",
   "execution_count": 59,
   "id": "f8b3c886-08e7-4e21-af32-6a5935d7ff30",
   "metadata": {},
   "outputs": [
    {
     "data": {
      "text/plain": [
       "(60000, 784)"
      ]
     },
     "execution_count": 59,
     "metadata": {},
     "output_type": "execute_result"
    }
   ],
   "source": [
    "dataset['train_images'].shape"
   ]
  },
  {
   "cell_type": "code",
   "execution_count": null,
   "id": "a4769f92-048a-4cd9-b76e-e473fa36fa95",
   "metadata": {},
   "outputs": [],
   "source": [
    "#MNIST data class"
   ]
  },
  {
   "cell_type": "code",
   "execution_count": null,
   "id": "ce792da9-131a-4b14-abb9-4a7461455153",
   "metadata": {},
   "outputs": [],
   "source": [
    "#imports"
   ]
  },
  {
   "cell_type": "code",
   "execution_count": 61,
   "id": "e4f3f338-2454-4576-a08b-97008ed81f43",
   "metadata": {},
   "outputs": [],
   "source": [
    "import os\n",
    "import gzip\n",
    "import pickle\n",
    "import urllib\n",
    "import numpy as np"
   ]
  },
  {
   "cell_type": "code",
   "execution_count": 63,
   "id": "9c127bdd-c0fe-4067-af8c-ce906b554542",
   "metadata": {},
   "outputs": [],
   "source": [
    "class MNIST_Data():\n",
    "    DATASET_DIR = '/Users/aishwaryadekhane/Desktop/My_Files/Sem-3/PRNN/HW5-2/dataset'\n",
    "    DATASET_PKL = 'mnist.pkl'\n",
    "    URL_BASE = 'http://jrkwon.com/data/ece5831/mnist/'\n",
    "    IMAGE_SIZE = 784 #28 x 28\n",
    "    key_file = {\n",
    "        'train_images': 'train-images-idx3-ubyte.gz',\n",
    "        'train_labels': 'train-labels-idx1-ubyte.gz',\n",
    "        'test_images': 't10k-images-idx3-ubyte.gz',\n",
    "        'test_labels': 't10k-labels-idx1-ubyte.gz'\n",
    "    }\n",
    "    \n",
    "    def __init__(self):\n",
    "        self.dataset = {}\n",
    "        self.pkl_dataset_path = os.path.join(self.DATASET_DIR, self.DATASET_PKL)\n",
    "\n",
    "        self.init_dataset()  \n",
    "    def change_one_hot_label(self, y, num_class):\n",
    "        t = np.zeros((y.size, num_class))\n",
    "        for idx, row in enumerate(t):\n",
    "            row[y[idx]] = 1\n",
    "        return t\n",
    "    \n",
    "    def _download(self, f_name):\n",
    "        file_path = self.DATASET_DIR + '/' + f_name\n",
    "        if(os.path.exists(file_path)):\n",
    "            print(f\"File: {f_name} already exists.\")\n",
    "            return\n",
    "\n",
    "        print(f\"Downloading {f_name}....\")\n",
    "        urllib.request.urlretrieve(self.URL_BASE + f_name, file_path)\n",
    "        \n",
    "        print('Done')\n",
    "\n",
    "    def _download_all(self):\n",
    "        for file_name in self.key_file.values():\n",
    "            self._download(file_name)\n",
    "    \n",
    "    def load_image(self, f_name):\n",
    "        with gzip.open(f_name, 'rb') as img_file:\n",
    "            images = np.frombuffer(img_file.read(), np.uint8, offset=16)\n",
    "        images = images.reshape(-1, self.IMAGE_SIZE)\n",
    "\n",
    "        return images\n",
    "\n",
    "    def load_labels(self, f_name):\n",
    "        with gzip.open(f_name, 'rb') as f:\n",
    "            labels = np.frombuffer(f.read(), np.uint8, offset=8)\n",
    "        return labels\n",
    "\n",
    "    def create_dataset(self):\n",
    "        self.dataset['train_images'] =  self.load_image(os.path.join(self.DATASET_DIR, self.key_file['train_images']))\n",
    "        self.dataset['train_labels'] =  self.load_labels(os.path.join(self.DATASET_DIR, self.key_file['train_labels']))\n",
    "        self.dataset['test_images'] =  self.load_image(os.path.join(self.DATASET_DIR, self.key_file['test_images']))\n",
    "        self.dataset['test_labels'] =  self.load_labels(os.path.join(self.DATASET_DIR, self.key_file['test_labels']))\n",
    "        \n",
    "        with open(self.pkl_dataset_path, 'wb') as ip_file:\n",
    "            print(f'Pickle: {self.pkl_dataset_path} is being created.')\n",
    "            pickle.dump(self.dataset, ip_file)\n",
    "            print('Done')\n",
    "\n",
    "        return self.dataset\n",
    "    \n",
    "    def init_dataset(self):\n",
    "        self._download_all()\n",
    "        if os.path.exists(self.pkl_dataset_path):\n",
    "            with open(self.pkl_dataset_path, 'rb') as ip_file:\n",
    "                print(f\"Pickle: {self.pkl_dataset_path} already\")\n",
    "                print('Loading...')\n",
    "                self.dataset = pickle.load(ip_file)\n",
    "                print('Done')\n",
    "        else:\n",
    "            self.create_dataset()\n",
    "    \n",
    "    def load(self):\n",
    "        # normalize the image dataset \n",
    "        for key in ('train_images', 'test_images'):\n",
    "            self.dataset[key] = self.dataset[key].astype(np.float32)\n",
    "            self.dataset[key] /= 255.0\n",
    "        \n",
    "        #one hot encoding\n",
    "        for key in ('train_labels', 'test_labels'):\n",
    "            self.dataset[key] = change_one_hot_label(self.dataset[key], 10)\n",
    "        \n",
    "        return (self.dataset['train_images'], self.dataset['train_labels']), (self.dataset['test_images'], self.dataset['test_labels']) "
   ]
  },
  {
   "cell_type": "code",
   "execution_count": 65,
   "id": "5792e933-d299-4e64-8ffa-0c1b227eeb73",
   "metadata": {},
   "outputs": [
    {
     "name": "stdout",
     "output_type": "stream",
     "text": [
      "File: train-images-idx3-ubyte.gz already exists.\n",
      "File: train-labels-idx1-ubyte.gz already exists.\n",
      "File: t10k-images-idx3-ubyte.gz already exists.\n",
      "File: t10k-labels-idx1-ubyte.gz already exists.\n",
      "Pickle: /Users/aishwaryadekhane/Desktop/My_Files/Sem-3/PRNN/HW5-2/dataset/mnist.pkl already\n",
      "Loading...\n",
      "Done\n"
     ]
    }
   ],
   "source": [
    "mnist_data = MNIST_Data()\n",
    "(train_images, train_labels), (test_images, test_labels) = mnist_data.load()"
   ]
  },
  {
   "cell_type": "code",
   "execution_count": 67,
   "id": "8fb06b05-7aeb-4103-9b0c-0a8bb9199f70",
   "metadata": {},
   "outputs": [
    {
     "name": "stdout",
     "output_type": "stream",
     "text": [
      "test images shape :- (10000, 784)\n",
      "test labels shape :- (10000, 10)\n",
      "train images shape :- (60000, 784)\n",
      "train labels shape :- (60000, 10)\n"
     ]
    }
   ],
   "source": [
    "print(f\"test images shape :- {test_images.shape}\")\n",
    "print(f\"test labels shape :- {test_labels.shape}\")\n",
    "print(f\"train images shape :- {train_images.shape}\")\n",
    "print(f\"train labels shape :- {train_labels.shape}\")\n"
   ]
  },
  {
   "cell_type": "code",
   "execution_count": 69,
   "id": "68e9704a-3bbe-4e27-8c06-8f344e97133a",
   "metadata": {},
   "outputs": [
    {
     "name": "stdout",
     "output_type": "stream",
     "text": [
      "label: [1. 0. 0. 0. 0. 0. 0. 0. 0. 0.]\n"
     ]
    },
    {
     "data": {
      "text/plain": [
       "<matplotlib.image.AxesImage at 0x121a5d1f0>"
      ]
     },
     "execution_count": 69,
     "metadata": {},
     "output_type": "execute_result"
    },
    {
     "data": {
      "image/png": "[encoded data removed]",
      "text/plain": [
       "<Figure size 640x480 with 1 Axes>"
      ]
     },
     "metadata": {},
     "output_type": "display_data"
    }
   ],
   "source": [
    "idx = 1000\n",
    "img = mnist_data.dataset['train_images'][idx].reshape(28, 28)\n",
    "print(f\"label: {mnist_data.dataset['train_labels'][idx]}\")\n",
    "plt.imshow(img)"
   ]
  },
  {
   "cell_type": "code",
   "execution_count": 71,
   "id": "a35b1db0-b9bc-411b-a34a-f75b01cd64fc",
   "metadata": {},
   "outputs": [
    {
     "name": "stdout",
     "output_type": "stream",
     "text": [
      "label: [0. 0. 0. 0. 0. 0. 0. 0. 0. 1.]\n"
     ]
    },
    {
     "data": {
      "text/plain": [
       "<matplotlib.image.AxesImage at 0x1219ae120>"
      ]
     },
     "execution_count": 71,
     "metadata": {},
     "output_type": "execute_result"
    },
    {
     "data": {
      "image/png": "[encoded data removed]",
      "text/plain": [
       "<Figure size 640x480 with 1 Axes>"
      ]
     },
     "metadata": {},
     "output_type": "display_data"
    }
   ],
   "source": [
    "idx = 1000\n",
    "img = mnist_data.dataset['test_images'][idx].reshape(28, 28)\n",
    "print(f\"label: {mnist_data.dataset['test_labels'][idx]}\")\n",
    "plt.imshow(img)"
   ]
  },
  {
   "cell_type": "code",
   "execution_count": null,
   "id": "257373e9-e74f-4f94-aa88-726bf6387aee",
   "metadata": {},
   "outputs": [],
   "source": []
  }
 ],
 "metadata": {
  "kernelspec": {
   "display_name": "Python 3 (ipykernel)",
   "language": "python",
   "name": "python3"
  },
  "language_info": {
   "codemirror_mode": {
    "name": "ipython",
    "version": 3
   },
   "file_extension": ".py",
   "mimetype": "text/x-python",
   "name": "python",
   "nbconvert_exporter": "python",
   "pygments_lexer": "ipython3",
   "version": "3.12.4"
  }
 },
 "nbformat": 4,
 "nbformat_minor": 5
}
